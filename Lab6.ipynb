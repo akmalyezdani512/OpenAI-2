{
  "nbformat": 4,
  "nbformat_minor": 0,
  "metadata": {
    "colab": {
      "provenance": [],
      "authorship_tag": "ABX9TyPWqFd6B14Wve9ZoJe6JP1l"
    },
    "kernelspec": {
      "name": "python3",
      "display_name": "Python 3"
    },
    "language_info": {
      "name": "python"
    }
  },
  "cells": [
    {
      "cell_type": "markdown",
      "source": [
        "# Multimodal Prompting with GPT-4 Vision"
      ],
      "metadata": {
        "id": "l2QLBDf4-O6E"
      }
    },
    {
      "cell_type": "code",
      "source": [
        "import os\n",
        "import requests\n",
        "import base64"
      ],
      "metadata": {
        "id": "DQhMOsGo84h6"
      },
      "execution_count": 1,
      "outputs": []
    },
    {
      "cell_type": "code",
      "source": [
        "azure_endpoint=\"https://xxxxxxxx.openai.azure.com/\"\n",
        "api_key=\"xxxxxxxxx\"\n",
        "api_version=\"2024-02-15-preview\"\n",
        "model_name=\"gpt-4\""
      ],
      "metadata": {
        "id": "CAngBvw_85aK"
      },
      "execution_count": 4,
      "outputs": []
    },
    {
      "cell_type": "code",
      "source": [
        "\n",
        "# Configuration\n",
        "GPT4V_KEY = api_key\n",
        "IMAGE_PATH = \"xxxxx.png\"\n",
        "GPT4V_ENDPOINT = f\"{azure_endpoint}openai/deployments/{model_name}/chat/completions?api-version={api_version}\"\n",
        "encoded_image = base64.b64encode(open(IMAGE_PATH, 'rb').read()).decode('ascii')\n",
        "headers = {\n",
        "    \"Content-Type\": \"application/json\",\n",
        "    \"api-key\": GPT4V_KEY,\n",
        "}\n"
      ],
      "metadata": {
        "id": "_mmt3BME9JsB"
      },
      "execution_count": 5,
      "outputs": []
    },
    {
      "cell_type": "code",
      "execution_count": 12,
      "metadata": {
        "colab": {
          "base_uri": "https://localhost:8080/"
        },
        "id": "KvzhDZMX8kUS",
        "outputId": "0993814e-dce8-49f2-e943-fc44f5b247b8"
      },
      "outputs": [
        {
          "output_type": "stream",
          "name": "stdout",
          "text": [
            "This image is a pie chart representing the distribution of customer segments in a telecom company. The chart is divided into four segments, each representing a different type of customer and each segment is associated with a percentage of the total customer base:\n",
            "\n",
            "1. Corporate - This is the largest segment, making up 40% of the company's customers. It is represented by the yellow portion of the pie chart.\n",
            "2. Individual - The second largest segment is for individual customers, which comprises 30% of the total, shown in green.\n",
            "3. Small Business - This segment is represented in red and accounts for 20% of the telecom company's customer base.\n",
            "4. Government - The smallest segment, shown in blue, makes up 10% of the company's customers.\n",
            "\n",
            "The chart provides a visual breakdown of the types of customers the telecom company serves, indicating that the company has a diversified customer base, with the largest single segment being corporate clients.\n"
          ]
        }
      ],
      "source": [
        "\n",
        "\n",
        "# Payload for the request\n",
        "payload = {\n",
        "  \"messages\": [\n",
        "    {\n",
        "      \"role\": \"system\",\n",
        "      \"content\": [\n",
        "        {\n",
        "          \"type\": \"text\",\n",
        "          \"text\": \"You are an AI assistant that helps people find information.\"\n",
        "        }\n",
        "      ]\n",
        "    },\n",
        "    {\n",
        "      \"role\": \"user\",\n",
        "      \"content\": [\n",
        "        {\n",
        "          \"type\": \"image_url\",\n",
        "          \"image_url\": {\n",
        "            \"url\": f\"data:image/jpeg;base64,{encoded_image}\"\n",
        "          }\n",
        "        },\n",
        "        {\n",
        "          \"type\": \"text\",\n",
        "          \"text\": \"explain this image\"\n",
        "        }\n",
        "      ]\n",
        "    },\n",
        "  ],\n",
        "  \"temperature\": 0.7,\n",
        "  \"top_p\": 0.95,\n",
        "  \"max_tokens\": 800\n",
        "}\n",
        "\n",
        "\n",
        "\n",
        "# Send request\n",
        "try:\n",
        "    response = requests.post(GPT4V_ENDPOINT, headers=headers, json=payload)\n",
        "    response.raise_for_status()  # Will raise an HTTPError if the HTTP request returned an unsuccessful status code\n",
        "except requests.RequestException as e:\n",
        "    raise SystemExit(f\"Failed to make the request. Error: {e}\")\n",
        "\n",
        "# Handle the response as needed (e.g., print or process)\n",
        "print(response.json()['choices'][0]['message']['content'])"
      ]
    },
    {
      "cell_type": "code",
      "source": [],
      "metadata": {
        "id": "7g12NsHB-Bd_"
      },
      "execution_count": null,
      "outputs": []
    },
    {
      "cell_type": "markdown",
      "source": [
        "## Thank You"
      ],
      "metadata": {
        "id": "rtw9yI_Z-MQ7"
      }
    }
  ]
}