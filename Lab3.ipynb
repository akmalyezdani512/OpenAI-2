{
  "cells": [
    {
      "cell_type": "markdown",
      "metadata": {
        "colab_type": "text",
        "id": "view-in-github"
      },
      "source": [
        "<a href=\"https://colab.research.google.com/github/anshupandey/Microsoft_Azure_Implementing_Enterprise_GenAI_Applications_with_Azure_OpenAI-/blob/main/Lab3.ipynb\" target=\"_parent\"><img src=\"https://colab.research.google.com/assets/colab-badge.svg\" alt=\"Open In Colab\"/></a>"
      ]
    },
    {
      "cell_type": "markdown",
      "metadata": {
        "id": "SpVgBlJNayoI"
      },
      "source": [
        "# RAG Implementation with Azure OpenAI and LangChain"
      ]
    },
    {
      "cell_type": "code",
      "execution_count": 1,
      "metadata": {
        "colab": {
          "base_uri": "https://localhost:8080/"
        },
        "id": "28d272cd-4e31-40aa-bbb4-0be0a1f49a14",
        "outputId": "9732f606-6c04-4ad7-e0e6-b4d644fa5aa4"
      },
      "outputs": [
        {
          "name": "stderr",
          "output_type": "stream",
          "text": [
            "WARNING: Ignoring invalid distribution -rotobuf (c:\\users\\anshu pandey\\appdata\\roaming\\python\\python310\\site-packages)\n",
            "WARNING: Ignoring invalid distribution -ensorflow-intel (c:\\users\\anshu pandey\\appdata\\roaming\\python\\python310\\site-packages)\n",
            "WARNING: Ignoring invalid distribution -rotobuf (c:\\users\\anshu pandey\\appdata\\roaming\\python\\python310\\site-packages)\n",
            "WARNING: Ignoring invalid distribution -ensorflow-intel (c:\\users\\anshu pandey\\appdata\\roaming\\python\\python310\\site-packages)\n",
            "WARNING: Ignoring invalid distribution -rotobuf (c:\\users\\anshu pandey\\appdata\\roaming\\python\\python310\\site-packages)\n",
            "WARNING: Ignoring invalid distribution -ensorflow-intel (c:\\users\\anshu pandey\\appdata\\roaming\\python\\python310\\site-packages)\n",
            "    WARNING: Ignoring invalid distribution -rotobuf (c:\\users\\anshu pandey\\appdata\\roaming\\python\\python310\\site-packages)\n",
            "    WARNING: Ignoring invalid distribution -ensorflow-intel (c:\\users\\anshu pandey\\appdata\\roaming\\python\\python310\\site-packages)\n",
            "    WARNING: Ignoring invalid distribution -rotobuf (c:\\users\\anshu pandey\\appdata\\roaming\\python\\python310\\site-packages)\n",
            "    WARNING: Ignoring invalid distribution -ensorflow-intel (c:\\users\\anshu pandey\\appdata\\roaming\\python\\python310\\site-packages)\n",
            "WARNING: Ignoring invalid distribution -rotobuf (c:\\users\\anshu pandey\\appdata\\roaming\\python\\python310\\site-packages)\n",
            "WARNING: Ignoring invalid distribution -ensorflow-intel (c:\\users\\anshu pandey\\appdata\\roaming\\python\\python310\\site-packages)\n",
            "WARNING: Ignoring invalid distribution -rotobuf (c:\\users\\anshu pandey\\appdata\\roaming\\python\\python310\\site-packages)\n",
            "WARNING: Ignoring invalid distribution -ensorflow-intel (c:\\users\\anshu pandey\\appdata\\roaming\\python\\python310\\site-packages)\n",
            "WARNING: Ignoring invalid distribution -rotobuf (c:\\users\\anshu pandey\\appdata\\roaming\\python\\python310\\site-packages)\n",
            "WARNING: Ignoring invalid distribution -ensorflow-intel (c:\\users\\anshu pandey\\appdata\\roaming\\python\\python310\\site-packages)\n",
            "ERROR: pip's dependency resolver does not currently take into account all the packages that are installed. This behaviour is the source of the following dependency conflicts.\n",
            "tavily-python 0.3.1 requires tiktoken==0.5.2, but you have tiktoken 0.7.0 which is incompatible.\n",
            "steamship 2.17.34 requires tiktoken~=0.4.0, but you have tiktoken 0.7.0 which is incompatible.\n",
            "llama-index 0.9.48 requires requests>=2.31.0, but you have requests 2.28.2 which is incompatible.\n",
            "llama-index-legacy 0.9.48 requires requests>=2.31.0, but you have requests 2.28.2 which is incompatible.\n",
            "llama-index-core 0.10.18.post1 requires requests>=2.31.0, but you have requests 2.28.2 which is incompatible.\n",
            "langflow 0.6.10 requires pydantic<3.0.0,>=2.6.0, but you have pydantic 1.10.15 which is incompatible.\n",
            "langflow 0.6.10 requires tiktoken<0.7.0,>=0.6.0, but you have tiktoken 0.7.0 which is incompatible.\n",
            "WARNING: Ignoring invalid distribution -rotobuf (c:\\users\\anshu pandey\\appdata\\roaming\\python\\python310\\site-packages)\n",
            "WARNING: Ignoring invalid distribution -ensorflow-intel (c:\\users\\anshu pandey\\appdata\\roaming\\python\\python310\\site-packages)\n",
            "WARNING: Ignoring invalid distribution -rotobuf (c:\\users\\anshu pandey\\appdata\\roaming\\python\\python310\\site-packages)\n",
            "WARNING: Ignoring invalid distribution -ensorflow-intel (c:\\users\\anshu pandey\\appdata\\roaming\\python\\python310\\site-packages)\n",
            "WARNING: Ignoring invalid distribution -rotobuf (c:\\users\\anshu pandey\\appdata\\roaming\\python\\python310\\site-packages)\n",
            "WARNING: Ignoring invalid distribution -ensorflow-intel (c:\\users\\anshu pandey\\appdata\\roaming\\python\\python310\\site-packages)\n"
          ]
        }
      ],
      "source": [
        "!pip install langchain-community langchainhub langchain-openai chromadb langchain langchain-experimental --quiet\n"
      ]
    },
    {
      "cell_type": "code",
      "execution_count": 2,
      "metadata": {
        "colab": {
          "base_uri": "https://localhost:8080/"
        },
        "id": "bLonIlavDBci",
        "outputId": "723d17aa-3376-4997-9988-a995acd2b072"
      },
      "outputs": [
        {
          "name": "stderr",
          "output_type": "stream",
          "text": [
            "WARNING: Ignoring invalid distribution -rotobuf (c:\\users\\anshu pandey\\appdata\\roaming\\python\\python310\\site-packages)\n",
            "WARNING: Ignoring invalid distribution -ensorflow-intel (c:\\users\\anshu pandey\\appdata\\roaming\\python\\python310\\site-packages)\n",
            "WARNING: Ignoring invalid distribution -rotobuf (c:\\users\\anshu pandey\\appdata\\roaming\\python\\python310\\site-packages)\n",
            "WARNING: Ignoring invalid distribution -ensorflow-intel (c:\\users\\anshu pandey\\appdata\\roaming\\python\\python310\\site-packages)\n",
            "  error: subprocess-exited-with-error\n",
            "  \n",
            "  × Building wheel for jq (pyproject.toml) did not run successfully.\n",
            "  │ exit code: 1\n",
            "  ╰─> [5 lines of output]\n",
            "      running bdist_wheel\n",
            "      running build\n",
            "      running build_ext\n",
            "      Executing: ./configure CFLAGS=-fPIC -pthread --disable-maintainer-mode --with-oniguruma=builtin\n",
            "      error: [WinError 2] The system cannot find the file specified\n",
            "      [end of output]\n",
            "  \n",
            "  note: This error originates from a subprocess, and is likely not a problem with pip.\n",
            "  ERROR: Failed building wheel for jq\n",
            "ERROR: Could not build wheels for jq, which is required to install pyproject.toml-based projects\n",
            "WARNING: Ignoring invalid distribution -rotobuf (c:\\users\\anshu pandey\\appdata\\roaming\\python\\python310\\site-packages)\n",
            "WARNING: Ignoring invalid distribution -ensorflow-intel (c:\\users\\anshu pandey\\appdata\\roaming\\python\\python310\\site-packages)\n",
            "WARNING: Ignoring invalid distribution -rotobuf (c:\\users\\anshu pandey\\appdata\\roaming\\python\\python310\\site-packages)\n",
            "WARNING: Ignoring invalid distribution -ensorflow-intel (c:\\users\\anshu pandey\\appdata\\roaming\\python\\python310\\site-packages)\n",
            "WARNING: Ignoring invalid distribution -rotobuf (c:\\users\\anshu pandey\\appdata\\roaming\\python\\python310\\site-packages)\n",
            "WARNING: Ignoring invalid distribution -ensorflow-intel (c:\\users\\anshu pandey\\appdata\\roaming\\python\\python310\\site-packages)\n"
          ]
        }
      ],
      "source": [
        "!pip install jq pypdf --quiet"
      ]
    },
    {
      "cell_type": "code",
      "execution_count": 3,
      "metadata": {
        "id": "Ja6U3t6abVpU"
      },
      "outputs": [],
      "source": [
        "api_key = \"ed1a587475b74a178e4da9f49c27839e\"\n",
        "api_version = \"2023-07-01-preview\" # \"2023-05-15\"\n",
        "azure_endpoint = \"https://anshugpt.openai.azure.com/\"\n",
        "model_name = \"gpt-35-turbo\"\n",
        "embedding_model = \"text-embedding-ada-002\""
      ]
    },
    {
      "cell_type": "code",
      "execution_count": 4,
      "metadata": {
        "id": "fnR_pBonbX34"
      },
      "outputs": [],
      "source": [
        "import os\n",
        "os.environ[\"OPENAI_API_VERSION\"] = api_version\n",
        "os.environ[\"AZURE_OPENAI_ENDPOINT\"] = azure_endpoint\n",
        "os.environ[\"AZURE_OPENAI_API_KEY\"] = api_key"
      ]
    },
    {
      "cell_type": "code",
      "execution_count": 5,
      "metadata": {
        "id": "d8a913b1-0eea-442a-8a64-ec73333f104b"
      },
      "outputs": [],
      "source": [
        "from langchain import hub\n",
        "from langchain.text_splitter import RecursiveCharacterTextSplitter\n",
        "from langchain_community.vectorstores import Chroma\n",
        "from langchain_core.output_parsers import StrOutputParser\n",
        "from langchain_core.runnables import RunnablePassthrough\n",
        "from langchain_openai import ChatOpenAI, OpenAIEmbeddings"
      ]
    },
    {
      "cell_type": "code",
      "execution_count": 6,
      "metadata": {
        "id": "MGhs4RN7vgXG"
      },
      "outputs": [],
      "source": [
        "doc_paths = [\"https://www.morningstar.com/content/dam/marketing/shared/research/methodology/771945_Morningstar_Rating_for_Funds_Methodology.pdf\",\n",
        "             \"https://www.morningstar.in/docs/methodology/CategoryDefinitionsIndiaV3.pdf\",\n",
        "             \"https://s21.q4cdn.com/198919461/files/doc_downloads/press_kits/2016/Morningstar-Sustainable-Investing-Handbook.pdf\"]"
      ]
    },
    {
      "cell_type": "code",
      "execution_count": 7,
      "metadata": {
        "id": "nhl29sxXD085"
      },
      "outputs": [],
      "source": [
        "from langchain_community.document_loaders import PyPDFLoader\n",
        "\n",
        "loaders = [PyPDFLoader(pdf, extract_images=False) for pdf in doc_paths]\n",
        "\n",
        "docs = []\n",
        "\n",
        "for loader in loaders:\n",
        "    doc = loader.load()\n",
        "    docs.extend(doc)"
      ]
    },
    {
      "cell_type": "code",
      "execution_count": 8,
      "metadata": {
        "colab": {
          "base_uri": "https://localhost:8080/"
        },
        "id": "plYaZJcrwZrd",
        "outputId": "494890bf-219a-47ff-fdb8-6c3806a33f5d"
      },
      "outputs": [
        {
          "data": {
            "text/plain": [
              "46"
            ]
          },
          "execution_count": 8,
          "metadata": {},
          "output_type": "execute_result"
        }
      ],
      "source": [
        "len(docs)"
      ]
    },
    {
      "cell_type": "code",
      "execution_count": 9,
      "metadata": {
        "colab": {
          "base_uri": "https://localhost:8080/"
        },
        "id": "HVLYgpziwdKD",
        "outputId": "c439fa27-33a9-4a3a-b22e-8b93e161c2a3"
      },
      "outputs": [
        {
          "data": {
            "text/plain": [
              "45"
            ]
          },
          "execution_count": 9,
          "metadata": {},
          "output_type": "execute_result"
        }
      ],
      "source": [
        "docs = [doc for doc in docs if len(doc.page_content.strip())>100]\n",
        "len(docs)"
      ]
    },
    {
      "cell_type": "code",
      "execution_count": 10,
      "metadata": {
        "colab": {
          "base_uri": "https://localhost:8080/"
        },
        "id": "msEaKLKqwiOE",
        "outputId": "030bb343-243e-4718-8db3-d4a466eba058"
      },
      "outputs": [
        {
          "data": {
            "text/plain": [
              "2665.911111111111"
            ]
          },
          "execution_count": 10,
          "metadata": {},
          "output_type": "execute_result"
        }
      ],
      "source": [
        "sum(len(doc.page_content) for doc in docs)/len(docs)"
      ]
    },
    {
      "cell_type": "code",
      "execution_count": 11,
      "metadata": {
        "colab": {
          "base_uri": "https://localhost:8080/"
        },
        "id": "qM6hV4DjwkIe",
        "outputId": "95a1e500-863d-4509-cce9-e79d5f0638e1"
      },
      "outputs": [
        {
          "data": {
            "text/plain": [
              "53"
            ]
          },
          "execution_count": 11,
          "metadata": {},
          "output_type": "execute_result"
        }
      ],
      "source": [
        "text_splitter = RecursiveCharacterTextSplitter(chunk_size=3500, chunk_overlap=500)\n",
        "splits = text_splitter.split_documents(docs)\n",
        "len(splits)\n"
      ]
    },
    {
      "cell_type": "code",
      "execution_count": 12,
      "metadata": {
        "colab": {
          "base_uri": "https://localhost:8080/"
        },
        "id": "YpYTraoSwmUj",
        "outputId": "34f34a36-63ad-4808-decc-12df8830c92b"
      },
      "outputs": [
        {
          "name": "stdout",
          "output_type": "stream",
          "text": [
            "©2021 Morningstar, Inc. All rights reserved. The information in this document is the property of Morningstar, Inc. Reproduction or transcription by any means, in whole or in part, without the prior written \n",
            "consent of Morningstar, Inc., is prohibited.\n",
            " The Morningstar RatingTM for Funds    August 2021 Page 3 of 21\n",
            "3\n",
            "3\n",
            "3bond funds domiciled in Europe against other European high-yield bond funds. For more information \n",
            "about available categories, please contact your local Morningstar office.\n",
            "Style Profiles\n",
            "A style profile may be considered a summary of a fund’s risk-factor exposures. Fund categories \n",
            "define groups of funds whose members are similar enough in their risk-factor exposures that return \n",
            "comparisons between them are useful.\n",
            "The risk factors on which fund categories are based can relate to value-growth orientation; \n",
            "capitalization; industry sector, geographic region, and country weights; duration and credit quality; \n",
            "historical return volatility; beta; and many other investment style factors. The specific factors used \n",
            "are considered to be a) important in explaining fund-return differences and b) actively controlled by \n",
            "the fund managers.\n",
            " \n",
            "Because the funds in a given category are similar in their risk-factor exposures, the observed return \n",
            "differences among them relate primarily to security selection (“stock-picking”) or to variation in \n",
            "the timing and amount of exposure to the risk factors that collectively define the category (“asset \n",
            "weighting”). Each of these, over time, may be presumed to have been a skill-related effect.\n",
            "Note that if all members of a fund category were uniform and consistent in their risk factor \n",
            "exposures, and the risk factors were comprehensive, there would be no need to risk-adjust returns \n",
            "when creating category-based star ratings. However, even within a tightly defined category,  \n",
            "the risk exposures of individual funds vary over time. Also, no style profile or category definition is \n",
            "comprehensive enough to capture all risk factors that affect the returns of the funds within  \n",
            "a category.\n",
            "In extreme cases where the funds in a category vary widely in their risk factor exposures (that is,  \n",
            "it is a “convenience category”), a star rating would have little value and is not assigned. For example, \n",
            "in the United States, ratings are not assigned to funds in the bear-market category because  \n",
            "these funds short very different parts of the market. In Europe, ratings are not assigned to funds in \n",
            "the guaranteed category.\n",
            "Defining Fund Categories\n",
            "The following considerations apply when Morningstar defines fund categories:\n",
            "Funds are grouped by the types of investment exposures that dominate their portfolios. \n",
            "In general, a single return benchmark should form a valid basis for evaluating the returns for all funds \n",
            "in a single category (that is, for performance attribution).\n",
            "In general, funds in the same category can be considered reasonable substitutes for the purposes of \n",
            "portfolio construction.\n",
            "Category membership is based on a fund’s long-term or “normal” style profile, based on three \n",
            "years of portfolio statistics. Supplemental analysis includes returns-based style analysis, review of \n",
            "strategy disclosure from fund literature, and qualitative review by analysts.  3\n",
            "3\n",
            "3\n",
            "3\n"
          ]
        }
      ],
      "source": [
        "print(splits[2].page_content)"
      ]
    },
    {
      "cell_type": "code",
      "execution_count": 13,
      "metadata": {
        "id": "l2B32z8TcWoU"
      },
      "outputs": [],
      "source": [
        "from langchain_openai import AzureOpenAIEmbeddings\n",
        "\n",
        "embeddings = AzureOpenAIEmbeddings(azure_deployment=embedding_model)"
      ]
    },
    {
      "cell_type": "code",
      "execution_count": 30,
      "metadata": {
        "colab": {
          "base_uri": "https://localhost:8080/",
          "height": 321
        },
        "id": "gbSAbl22wopB",
        "outputId": "443e1433-e4d7-4249-cf22-4f5aded8e1c2"
      },
      "outputs": [],
      "source": [
        "# initializng the vector store using CHromaDB\n",
        "from langchain_community.vectorstores import FAISS\n",
        "from langchain.embeddings import HuggingFaceBgeEmbeddings\n",
        "embedding_model_name = \"BAAI/bge-large-en-v1.5\"\n",
        "embeddings = HuggingFaceBgeEmbeddings(  model_name=embedding_model_name,)\n",
        "\n",
        "vectorstore = Chroma.from_documents(documents=splits, embedding=embeddings)\n",
        "retriever = vectorstore.as_retriever(search_type=\"similarity\", search_kwargs={\"k\": 2})"
      ]
    },
    {
      "cell_type": "code",
      "execution_count": 17,
      "metadata": {
        "colab": {
          "base_uri": "https://localhost:8080/",
          "height": 159
        },
        "id": "mfJHg61Uw6BP",
        "outputId": "3ce3f2b9-d711-4f4c-9054-0000508f9b9f"
      },
      "outputs": [
        {
          "data": {
            "text/plain": [
              "6"
            ]
          },
          "execution_count": 17,
          "metadata": {},
          "output_type": "execute_result"
        }
      ],
      "source": [
        "retrieved_docs = retriever.invoke(\"What is Large Cap equity fund\")\n",
        "len(retrieved_docs)"
      ]
    },
    {
      "cell_type": "code",
      "execution_count": 18,
      "metadata": {
        "colab": {
          "base_uri": "https://localhost:8080/"
        },
        "id": "DNIGp-p9w6BV",
        "outputId": "3910a673-677b-4cea-8fcd-95e453bab413"
      },
      "outputs": [
        {
          "name": "stdout",
          "output_type": "stream",
          "text": [
            "?  \n",
            " \n",
            " \n",
            " \n",
            " \n",
            " \n",
            " \n",
            " \n",
            " \n",
            " \n",
            " \n",
            " Categor y Definitions  \n",
            "India \n",
            "Equity  \n",
            " \n",
            "Large-Cap \n",
            "Large-Cap funds primarily consist of stocks which a re the Top 100 stocks by full market capitalization  of \n",
            "the equity market. These funds invest at least 80% of total assets in Indian equities and the balance can \n",
            "be invested in other asset classes such as fixed in come and overseas equities, among others. Funds in \n",
            "this category would invest at least 80% of their to tal assets in large-cap stocks. \n",
            "Morningstar Category Index: S&P BSE 100 TR \n",
            " \n",
            "Mid-Cap \n",
            "Mid-Cap funds primarily consist of stocks ranked 10 1st to 250th by full market capitalization of the \n",
            "equity market. These funds invest at least 65% of t otal assets in Indian equities, and the balance can  be \n",
            "invested in other asset classes such as fixed incom e and overseas equities, among others. Funds in thi s \n",
            "category would invest at least 65% of their total a ssets in mid-cap stocks. \n",
            "Morningstar Category Index: S&P BSE Mid Cap TR \n",
            " \n",
            "Small-Cap \n",
            "Small-Cap funds primarily consist of stocks ranked 251st onwards by full market capitalization of the \n",
            "equity market. These funds invest at least 65% of t otal assets in Indian equities, and the balance can  be \n",
            "invested in other asset classes such as fixed incom e and overseas equities, among others. Funds in thi s \n",
            "category would invest at least 65% of their total a ssets in small-cap stocks. \n",
            "Morningstar Category Index: S&P BSE Small Cap TR \n",
            " \n",
            "Flexi Cap \n",
            "Flexi Cap funds invest at least 65% of their total assets in Indian equities, and the balance can be \n",
            "invested in other asset classes such as fixed incom e and overseas equities, among others. These funds \n",
            "will invest into a mix of Large, Mid and small-cap stocks. \n",
            "Morningstar Category Index: S&P BSE 500 TR \n",
            " \n",
            " \n",
            " Morningstar Research  \n",
            "April 2021\n"
          ]
        }
      ],
      "source": [
        "print(retrieved_docs[0].page_content)"
      ]
    },
    {
      "cell_type": "code",
      "execution_count": 19,
      "metadata": {
        "colab": {
          "base_uri": "https://localhost:8080/"
        },
        "id": "6tMaR7AVw6BV",
        "outputId": "c12e2a21-2685-4760-83c1-302cc27b4642"
      },
      "outputs": [
        {
          "name": "stdout",
          "output_type": "stream",
          "text": [
            "©2019 Morningstar, Inc. All rights reserved. The in formation in this document is the property of Morni ngstar, Inc. Reproduction or transcription by any m eans, in whole or part, without  \n",
            "the prior written consent of Morningstar, Inc., is prohibited. Category Definitions , India  | 26 February 2021  Page 2 of 12  \n",
            "Multi- Cap \n",
            "Multi-Cap funds invest at least 75% of their total assets in Indian equities, and the balance can be \n",
            "invested in other asset classes such as fixed incom e and overseas equities, among others. These funds \n",
            "will invest a minimum of 25% each in Large Cap, Mid  Cap and Small Cap stocks. \n",
            "Morningstar Category Index: S&P BSE 500 TR \n",
            " \n",
            " \n",
            "Large & Mid- Cap \n",
            "Large & Mid-Cap funds primarily consist of stocks w hich are the Top 250 stocks by full market \n",
            "capitalization of the equity market. These funds in vest at least 70% of total assets in Indian equitie s and \n",
            "the balance can be invested in other asset classes such as fixed income and overseas equities, among \n",
            "others. Funds in this category would invest at leas t 35% of their total assets in large-cap stocks and  35% \n",
            "of their total assets in mid-cap stocks. \n",
            "Morningstar Category Index: S&P BSE 200 TR \n",
            " \n",
            " \n",
            "Global – Other \n",
            "Global – Other funds include those funds that inves t at least 65% of total assets in instruments issue d by \n",
            "overseas i.e. non-Indian companies. In addition, fu nds that invest at least 65% of total assets in \n",
            "exchange traded funds, fund of funds domiciled outs ide India are also included in this category. \n",
            "[Funds in this category do not receive a Morningsta r Rating™ due to the diverse nature of the \n",
            "constituents.] \n",
            " \n",
            "ELSS (Equity Linked Saving Schemes) \n",
            "These funds are notified as ELSS by SEBI under Sect ion 10 (23D). Investments of up to Rs 150,000 in a \n",
            "financial year in these funds are exempt from Incom e Tax under Section 80C of the Income Tax Act, \n",
            "1961. Investments in ELSS are subject to a lock-in of three years from the date of investment. \n",
            "Morningstar Category Index: S&P BSE 200 TR \n",
            " \n",
            "Value Funds   \n",
            "Value funds invest at least 65% of their total asse ts in Indian equities, and the balance can be inves ted in \n",
            "other asset classes such as fixed income and overse as equities, among others. These funds will \n",
            "predominantly invest in value stocks. \n",
            "Morningstar Category Index: S&P BSE 500 TR \n",
            " \n",
            "Contra Funds  \n",
            "Contra funds invest at least 65% of their total ass ets in Indian equities, and the balance can be inve sted \n",
            "in other asset classes such as fixed income and ove rseas equities, among others. These funds will \n",
            "predominantly invest using a contrarian investment theme. \n",
            "Morningstar Category Index: S&P BSE 500 TR\n"
          ]
        }
      ],
      "source": [
        "print(retrieved_docs[1].page_content)"
      ]
    },
    {
      "cell_type": "code",
      "execution_count": 20,
      "metadata": {
        "colab": {
          "base_uri": "https://localhost:8080/"
        },
        "id": "h-1v-L-sxJfv",
        "outputId": "be7ed02a-5f48-44af-e3ef-de3428a8e630"
      },
      "outputs": [
        {
          "name": "stdout",
          "output_type": "stream",
          "text": [
            "©2019 Morningstar, Inc. All rights reserved. The in formation in this document is the property of Morni ngstar, Inc. Reproduction or transcription by any m eans, in whole or part, without  \n",
            "the prior written consent of Morningstar, Inc., is prohibited. Category Definitions , India  | 26 February 2021  Page 8 of 12  \n",
            "Allocation \n",
            " \n",
            "Conservative Allocation \n",
            "Conservative Allocation funds invest across asset c lasses such as equity, fixed income and cash. These  \n",
            "funds tend to make smaller allocations to equities than Balanced Allocation funds. The allocation to \n",
            "Indian equities ranges between 10-25% of total asse ts in the normal running of the fund. \n",
            "Morningstar Category Index: CRISIL Hybrid 85+15 - C onservative Index \n",
            " \n",
            "Balanced Allocation \n",
            "Balanced Allocation funds invest across asset class es such as equity, fixed income and cash. These \n",
            "funds tend to make larger allocations to equities t han Conservative Allocation funds. The allocation t o \n",
            "Indian equities usually ranges from 40%–60% of tota l assets in the normal running of the fund. \n",
            " \n",
            "Aggressive Allocation \n",
            "Aggressive Allocation funds invest across asset cla sses such as equity, fixed income and cash. These \n",
            "funds tend to make larger allocations to equities t han Balanced Allocation funds. The allocation to \n",
            "Indian equities usually ranges from 65%–80% of tota l assets in the normal running of the fund. \n",
            "Morningstar Category Index: CRISIL Hybrid 35+65 - A ggressive Index \n",
            " \n",
            "Dynamic Asset Allocation \n",
            "Dynamic Allocation funds invest into equity and deb t in varying proportions. These funds have the \n",
            "flexibility to dynamically shift their allocation b etween equity and debt depending on the asset class ’s \n",
            "attractiveness and manager’s view. \n",
            " \n",
            "Multi Asset Allocation \n",
            "Multi Asset Allocation funds invest across multiple  asset classes such as equity, fixed income, foreig n \n",
            "securities, cash and precious metal exchange traded  funds, among others. These funds will invest at \n",
            "least 10% each in three asset classes and have the flexibility to shift the remaining allocation from one \n",
            "asset class to another depending on the asset class ’s attractiveness and manager’s view.  \n",
            " \n",
            "Equity Savings \n",
            "Equity Savings funds typically invest at least 65% of the assets into equities, with a portion of this  being \n",
            "hedged. These funds will also invest at least 10% o f the assets into fixed income securities. These fu nds \n",
            "have an unhedged equity exposure which makes them m ore volatile than Arbitrage Funds. \n",
            " \n",
            "Retirement \n",
            "Retirement funds invest across multiple assets equi ty, fixed income, foreign securities, cash and \n",
            "precious metal exchange traded funds, among others.  These funds come with a lock-in of at least 5 \n",
            "years or till retirement whichever is earlier. \n",
            " \n",
            "Children's \n",
            "Children's funds invest across multiple assets equi ty, fixed income, foreign securities, cash and prec ious \n",
            "metal exchange traded funds, among others. These fu nds come with a lock-in of at least 5 years or till  \n",
            "the child attains age of majority, whichever is ear lier.\n"
          ]
        }
      ],
      "source": [
        "print(retrieved_docs[2].page_content)"
      ]
    },
    {
      "cell_type": "markdown",
      "metadata": {
        "id": "RoJ72RAt6pmd"
      },
      "source": [
        "### Creating retriever TOol"
      ]
    },
    {
      "cell_type": "code",
      "execution_count": 22,
      "metadata": {
        "id": "5p7eqi3L6o4R"
      },
      "outputs": [],
      "source": [
        "from langchain.tools.retriever import create_retriever_tool\n",
        "\n",
        "tool = create_retriever_tool(\n",
        "    retriever,\n",
        "    \"searchCapitalMarket\",\n",
        "    \"Searches and returns excerpts from Morning start investment strategies and documents about trading stocks markets shares capital markets\",\n",
        ")\n",
        "tools = [tool]"
      ]
    },
    {
      "cell_type": "code",
      "execution_count": 23,
      "metadata": {
        "colab": {
          "base_uri": "https://localhost:8080/"
        },
        "id": "LjJoSVp56_G6",
        "outputId": "93e1c300-0f3a-4229-b6de-fd9b05268bff"
      },
      "outputs": [
        {
          "data": {
            "text/plain": [
              "[SystemMessagePromptTemplate(prompt=PromptTemplate(input_variables=[], template='You are a helpful assistant')),\n",
              " MessagesPlaceholder(variable_name='chat_history', optional=True),\n",
              " HumanMessagePromptTemplate(prompt=PromptTemplate(input_variables=['input'], template='{input}')),\n",
              " MessagesPlaceholder(variable_name='agent_scratchpad')]"
            ]
          },
          "execution_count": 23,
          "metadata": {},
          "output_type": "execute_result"
        }
      ],
      "source": [
        "from langchain import hub\n",
        "\n",
        "prompt = hub.pull(\"hwchase17/openai-tools-agent\")\n",
        "prompt.messages"
      ]
    },
    {
      "cell_type": "code",
      "execution_count": 28,
      "metadata": {},
      "outputs": [
        {
          "name": "stderr",
          "output_type": "stream",
          "text": [
            "C:\\Users\\Anshu Pandey\\AppData\\Roaming\\Python\\Python310\\site-packages\\langchain_core\\_api\\deprecation.py:117: LangChainDeprecationWarning: The function `initialize_agent` was deprecated in LangChain 0.1.0 and will be removed in 0.2.0. Use Use new agent constructor methods like create_react_agent, create_json_agent, create_structured_chat_agent, etc. instead.\n",
            "  warn_deprecated(\n"
          ]
        }
      ],
      "source": [
        "from langchain.agents import initialize_agent, load_tools, AgentType\n",
        "from langchain_openai import AzureOpenAI\n",
        "llm = AzureOpenAI(deployment_name=model_name)\n",
        "\n",
        "\n",
        "\n",
        "agent = initialize_agent(tools , llm, agent=AgentType.ZERO_SHOT_REACT_DESCRIPTION, verbose=True)\n"
      ]
    },
    {
      "cell_type": "code",
      "execution_count": 29,
      "metadata": {
        "colab": {
          "base_uri": "https://localhost:8080/"
        },
        "id": "vrZOHSNYwEFs",
        "outputId": "cedb22ca-7f27-4901-9253-1682047ffb56"
      },
      "outputs": [
        {
          "name": "stderr",
          "output_type": "stream",
          "text": [
            "C:\\Users\\Anshu Pandey\\AppData\\Roaming\\Python\\Python310\\site-packages\\langchain_core\\_api\\deprecation.py:117: LangChainDeprecationWarning: The function `run` was deprecated in LangChain 0.1.0 and will be removed in 0.2.0. Use invoke instead.\n",
            "  warn_deprecated(\n"
          ]
        },
        {
          "name": "stdout",
          "output_type": "stream",
          "text": [
            "\n",
            "\n",
            "\u001b[1m> Entering new AgentExecutor chain...\u001b[0m\n",
            "\u001b[32;1m\u001b[1;3m who is bob?\n",
            "Action: searchCapitalMarket\n",
            "Action Input: bob \u001b[0m\n",
            "Observation: \u001b[36;1m\u001b[1;3m[Document(page_content='γ⎧\\uf8f1γ>γ≠ ⎪\\uf8f4=γ⎨\\uf8f2\\n⎪\\uf8f4γ= ⎩\\uf8f3-\\xad‐W-\\xad‐ -\\xad‐1, 0u(W)\\nln(W) 0\\n( ) ( )\\n( )1\\nCE\\nE ln 1 ERE 1 ER 1, 01 ER\\ne0−−γγ\\n⎡\\uf8ee+⎤\\uf8f9⎣\\uf8f0⎦\\uf8fb⎧\\uf8f1⎡\\uf8ee⎤\\uf8f9+ γ>− γ≠ ⎪\\uf8f4⎣\\uf8f0⎦\\uf8fb +=⎨\\uf8f2\\n⎪\\uf8f4γ= ⎩\\uf8f3γ⎧\\uf8f1 + γ>γ≠+=⎨\\uf8f2++ γ= ⎩\\uf8f3-\\xad‐\\n0\\n0\\n0W u(1 TR) -\\xad‐1, \\t\\r \\xa0 0u(W(1 TR))\\nln(W ) u(1 TR) 0\\n denote the certainty equivalent geometric excess return for a given value of  \\n [1] u(E[W])>E[u(W)]  \\n \\n \\n[2]  \\n \\n \\n[3]   \\n \\n \\n \\nγ \\n \\n \\n[4]  \\n  \\n \\n \\n [5] 01W1 RF=+01W1 RF=+ \\n \\n \\n [6]  \\xa0u(W!(1+TR))=!!!\"\\n!!!\"=u(1+ER)=−!!!\"!!\\n! \\xa0 \\xa0𝛾𝛾>−1,𝛾𝛾≠0\\nln1+𝐸𝐸𝐸𝐸 \\xa0 \\xa0𝛾𝛾=0  \\xa0\\n \\n \\n [7] ER=ER=the geometric excess return =!!!\"\\n!!!!−1 \\n \\nCEER ( )γCEER ( )γ \\n \\nγ \\n \\n[8]   \\n \\n \\n[9]   \\n  \\n \\n \\n \\nCEERCEER  \\n \\n- γ \\n \\n  [10]() ( ) ( )CEu 1 ER E u 1 ER ⎡\\uf8ee⎤\\uf8f9 +γ=+⎣\\uf8f0⎦\\uf8fb\\n( )−γγ\\n=⎡\\uf8ee⎤\\uf8f9γ=+ −⎢\\uf8ef⎥\\uf8fa⎣\\uf8f0⎦\\uf8fb∑12\\nT-\\xad‐\\nt\\nt11MRAR( ) 1 ER 1T=−Wu\"(W)RRA(W)u\\'(W)\\nγ⎧\\uf8f1γ>γ≠ ⎪\\uf8f4=γ⎨\\uf8f2\\n⎪\\uf8f4γ= ⎩\\uf8f3-\\xad‐W-\\xad‐ -\\xad‐1, 0u(W)\\nln(W) 0\\n( ) ( )\\n( )1\\nCE\\nE ln 1 ERE 1 ER 1, 01 ER\\ne0−−γγ\\n⎡\\uf8ee+⎤\\uf8f9⎣\\uf8f0⎦\\uf8fb⎧\\uf8f1⎡\\uf8ee⎤\\uf8f9+ γ>− γ≠ ⎪\\uf8f4⎣\\uf8f0⎦\\uf8fb +=⎨\\uf8f2\\n⎪\\uf8f4γ= ⎩\\uf8f3γ⎧\\uf8f1 + γ>γ≠+=⎨\\uf8f2++ γ= ⎩\\uf8f3-\\xad‐\\n0\\n0\\n0W u(1 TR) -\\xad‐1, \\t\\r \\xa0 0u(W(1 TR))\\nln(W ) u(1 TR) 0\\n. The \\nfollowing formula states that the level of utility is the same between the certainty equivalent \\ngeometric excess return and the expected excess returns of the fund:\\n[8] Ratings Methodology Equations  \\n \\n \\nu(E[W])>E[u(W)]  \\n \\n \\n \\n \\n \\n \\n \\nW0=1\\n1+𝑅𝑅𝑅𝑅𝑅𝑅𝑅𝑅 \\n \\nu(W0(1+TR))=�1+TR\\n1+RF�=u(1+ER)=�−(1+𝐸𝐸𝐸𝐸𝑅𝑅𝑅𝑅)−𝛾𝛾𝛾𝛾\\n𝛾𝛾𝛾𝛾  𝛾𝛾𝛾𝛾>−1,𝛾𝛾𝛾𝛾≠0\\nln(1+𝐸𝐸𝐸𝐸𝑅𝑅𝑅𝑅)  𝛾𝛾𝛾𝛾=0 \\n \\nER=the geometric excess return = 1+𝑇𝑇𝑇𝑇𝑇𝑇𝑇𝑇\\n1+𝑇𝑇𝑇𝑇𝑅𝑅𝑅𝑅−1 \\n \\nu(1+ ERCE(γ))= E[u(1+ER)] \\n \\n1+𝐸𝐸𝐸𝐸𝑅𝑅𝑅𝑅𝐶𝐶𝐶𝐶𝐶𝐶𝐶𝐶=�(𝐸𝐸𝐸𝐸[(1+𝐸𝐸𝐸𝐸𝑅𝑅𝑅𝑅)−𝛾𝛾𝛾𝛾])−1\\n𝛾𝛾𝛾𝛾,𝛾𝛾𝛾𝛾>−1,𝛾𝛾𝛾𝛾≠0\\n𝑒𝑒𝑒𝑒𝐶𝐶𝐶𝐶[ln((1+𝐶𝐶𝐶𝐶𝑇𝑇𝑇𝑇)],𝛾𝛾𝛾𝛾=0 \\n𝑀𝑀𝑀𝑀𝑅𝑅𝑅𝑅𝑀𝑀𝑀𝑀𝑅𝑅𝑅𝑅(𝛾𝛾𝛾𝛾)=�1\\n𝑇𝑇𝑇𝑇�(1+𝐸𝐸𝐸𝐸𝑅𝑅𝑅𝑅𝑡𝑡𝑡𝑡)−𝛾𝛾𝛾𝛾𝑇𝑇𝑇𝑇\\n𝑡𝑡𝑡𝑡=1�−12\\n𝛾𝛾𝛾𝛾\\n−1 \\n \\n \\n \\n \\n \\n =−Wu\"(W)RRA(W)u\\'(W)\\nγ\\uf8f1γ> γ≠ \\uf8f4=γ\\uf8f2\\n\\uf8f4γ= \\uf8f3-W- - 1, 0u(W)\\nln(W) 0\\nγ\\uf8f1+ γ> γ≠+=\\uf8f2+ + γ=\\uf8f3-\\n0\\n0\\n0W u(1 T R) - 1,  0u(W (1 TR))\\nln(W ) u(1 TR) 0\\n()12\\nT T\\nt\\nt1MRAR(0) 1 ER 1\\n=\\uf8ee\\uf8f9= +−\\uf8ef\\uf8fa\\uf8f0\\uf8fb∏Hence: \\n[9] Ratings Methodology Equations  \\n \\n \\nu(E[W])>E[u(W)]  \\n \\n \\n \\n \\n \\n \\n \\nW0=1\\n1+𝑅𝑅𝑅𝑅𝑅𝑅𝑅𝑅 \\n \\nu(W0(1+TR))=�1+TR\\n1+RF�=u(1+ER)=�−(1+𝐸𝐸𝐸𝐸𝑅𝑅𝑅𝑅)−𝛾𝛾𝛾𝛾\\n𝛾𝛾𝛾𝛾  𝛾𝛾𝛾𝛾>−1,𝛾𝛾𝛾𝛾≠0\\nln(1+𝐸𝐸𝐸𝐸𝑅𝑅𝑅𝑅)  𝛾𝛾𝛾𝛾=0 \\n \\nER=the geometric excess return = 1+𝑇𝑇𝑇𝑇𝑇𝑇𝑇𝑇\\n1+𝑇𝑇𝑇𝑇𝑅𝑅𝑅𝑅−1 \\n \\nu(1+ ERCE(γ))= E[u(1+ER)] \\n \\n1+𝐸𝐸𝐸𝐸𝑅𝑅𝑅𝑅𝐶𝐶𝐶𝐶𝐶𝐶𝐶𝐶=�(𝐸𝐸𝐸𝐸[(1+𝐸𝐸𝐸𝐸𝑅𝑅𝑅𝑅)−𝛾𝛾𝛾𝛾])−1\\n𝛾𝛾𝛾𝛾,𝛾𝛾𝛾𝛾>−1,𝛾𝛾𝛾𝛾≠0\\n𝑒𝑒𝑒𝑒𝐶𝐶𝐶𝐶[ln((1+𝐶𝐶𝐶𝐶𝑇𝑇𝑇𝑇)],𝛾𝛾𝛾𝛾=0 \\n𝑀𝑀𝑀𝑀𝑅𝑅𝑅𝑅𝑀𝑀𝑀𝑀𝑅𝑅𝑅𝑅(𝛾𝛾𝛾𝛾)=�1\\n𝑇𝑇𝑇𝑇�(1+𝐸𝐸𝐸𝐸𝑅𝑅𝑅𝑅𝑡𝑡𝑡𝑡)−𝛾𝛾𝛾𝛾𝑇𝑇𝑇𝑇\\n𝑡𝑡𝑡𝑡=1�−12\\n𝛾𝛾𝛾𝛾\\n−1 \\n \\n \\n \\n \\n \\n =−Wu\"(W)RRA(W)u\\'(W)\\nγ\\uf8f1γ> γ≠ \\uf8f4=γ\\uf8f2\\n\\uf8f4γ= \\uf8f3-W- - 1, 0u(W)\\nln(W) 0\\nγ\\uf8f1+ γ> γ≠+=\\uf8f2+ + γ=\\uf8f3-\\n0\\n0\\n0W u(1 T R) - 1,  0u(W (1 TR))\\nln(W ) u(1 TR) 0\\n()12\\nT T\\nt\\nt1MRAR(0) 1 ER 1\\n=\\uf8ee\\uf8f9= +−\\uf8ef\\uf8fa\\uf8f0\\uf8fb∏Morningstar defines Morningstar Risk-Adjusted Return, MRAR( \\n [1] u(E[W])>E[u(W)]  \\n \\n \\n[2]  \\n \\n \\n[3]   \\n \\n \\n \\nγ \\n \\n \\n[4]  \\n  \\n \\n \\n [5] 01W1 RF=+01W1 RF=+ \\n \\n \\n [6]  \\xa0u(W!(1+TR))=!!!\"\\n!!!\"=u(1+ER)=−!!!\"!!\\n! \\xa0 \\xa0𝛾𝛾>−1,𝛾𝛾≠0\\nln1+𝐸𝐸𝐸𝐸 \\xa0 \\xa0𝛾𝛾=0  \\xa0\\n \\n \\n [7] ER=ER=the geometric excess return =!!!\"\\n!!!!−1 \\n \\nCEER ( )γCEER ( )γ \\n \\nγ \\n \\n[8]   \\n \\n \\n[9]   \\n  \\n \\n \\n \\nCEERCEER  \\n \\n- γ \\n \\n  [10]() ( ) ( )CEu 1 ER E u 1 ER ⎡\\uf8ee⎤\\uf8f9 +γ=+⎣\\uf8f0⎦\\uf8fb\\n( )−γγ\\n=⎡\\uf8ee⎤\\uf8f9γ=+ −⎢\\uf8ef⎥\\uf8fa⎣\\uf8f0⎦\\uf8fb∑12\\nT-\\xad‐\\nt\\nt11MRAR( ) 1 ER 1T=−Wu\"(W)RRA(W)u\\'(W)\\nγ⎧\\uf8f1γ>γ≠ ⎪\\uf8f4=γ⎨\\uf8f2\\n⎪\\uf8f4γ= ⎩\\uf8f3-\\xad‐W-\\xad‐ -\\xad‐1, 0u(W)\\nln(W) 0\\n( ) ( )\\n( )1\\nCE\\nE ln 1 ERE 1 ER 1, 01 ER\\ne0−−γγ\\n⎡\\uf8ee+⎤\\uf8f9⎣\\uf8f0⎦\\uf8fb⎧\\uf8f1⎡\\uf8ee⎤\\uf8f9+ γ>− γ≠ ⎪\\uf8f4⎣\\uf8f0⎦\\uf8fb +=⎨\\uf8f2\\n⎪\\uf8f4γ= ⎩\\uf8f3γ⎧\\uf8f1 + γ>γ≠+=⎨\\uf8f2++ γ= ⎩\\uf8f3-\\xad‐\\n0\\n0\\n0W u(1 TR) -\\xad‐1, \\t\\r \\xa0 0u(W(1 TR))\\nln(W ) u(1 TR) 0\\n), as the annualized value of the \\ncertainty equivalent,  \\n [1] u(E[W])>E[u(W)]  \\n \\n \\n[2]  \\n \\n \\n[3]   \\n \\n \\n \\nγ \\n \\n \\n[4]  \\n  \\n \\n \\n [5] 01W1 RF=+01W1 RF=+ \\n \\n \\n [6]  \\xa0u(W!(1+TR))=!!!\"\\n!!!\"=u(1+ER)=−!!!\"!!\\n! \\xa0 \\xa0𝛾𝛾>−1,𝛾𝛾≠0\\nln1+𝐸𝐸𝐸𝐸 \\xa0 \\xa0𝛾𝛾=0  \\xa0\\n \\n \\n [7] ER=ER=the geometric excess return =!!!\"\\n!!!!−1 \\n \\nCEER ( )γCEER ( )γ \\n \\nγ \\n \\n[8]   \\n \\n \\n[9]', metadata={'page': 6, 'source': 'https://www.morningstar.com/content/dam/marketing/shared/research/methodology/771945_Morningstar_Rating_for_Funds_Methodology.pdf'}), Document(page_content='e0−−γγ\\n⎡\\uf8ee+⎤\\uf8f9⎣\\uf8f0⎦\\uf8fb⎧\\uf8f1⎡\\uf8ee⎤\\uf8f9+ γ>− γ≠ ⎪\\uf8f4⎣\\uf8f0⎦\\uf8fb +=⎨\\uf8f2\\n⎪\\uf8f4γ= ⎩\\uf8f3γ⎧\\uf8f1 + γ>γ≠+=⎨\\uf8f2++ γ= ⎩\\uf8f3-\\xad‐\\n0\\n0\\n0W u(1 TR) -\\xad‐1, \\t\\r \\xa0 0u(W(1 TR))\\nln(W ) u(1 TR) 0\\n), as the annualized value of the \\ncertainty equivalent,  \\n [1] u(E[W])>E[u(W)]  \\n \\n \\n[2]  \\n \\n \\n[3]   \\n \\n \\n \\nγ \\n \\n \\n[4]  \\n  \\n \\n \\n [5] 01W1 RF=+01W1 RF=+ \\n \\n \\n [6]  \\xa0u(W!(1+TR))=!!!\"\\n!!!\"=u(1+ER)=−!!!\"!!\\n! \\xa0 \\xa0𝛾𝛾>−1,𝛾𝛾≠0\\nln1+𝐸𝐸𝐸𝐸 \\xa0 \\xa0𝛾𝛾=0  \\xa0\\n \\n \\n [7] ER=ER=the geometric excess return =!!!\"\\n!!!!−1 \\n \\nCEER ( )γCEER ( )γ \\n \\nγ \\n \\n[8]   \\n \\n \\n[9]   \\n  \\n \\n \\n \\nCEERCEER  \\n \\n- γ \\n \\n  [10]() ( ) ( )CEu 1 ER E u 1 ER ⎡\\uf8ee⎤\\uf8f9 +γ=+⎣\\uf8f0⎦\\uf8fb\\n( )−γγ\\n=⎡\\uf8ee⎤\\uf8f9γ=+ −⎢\\uf8ef⎥\\uf8fa⎣\\uf8f0⎦\\uf8fb∑12\\nT-\\xad‐\\nt\\nt11MRAR( ) 1 ER 1T=−Wu\"(W)RRA(W)u\\'(W)\\nγ⎧\\uf8f1γ>γ≠ ⎪\\uf8f4=γ⎨\\uf8f2\\n⎪\\uf8f4γ= ⎩\\uf8f3-\\xad‐W-\\xad‐ -\\xad‐1, 0u(W)\\nln(W) 0\\n( ) ( )\\n( )1\\nCE\\nE ln 1 ERE 1 ER 1, 01 ER\\ne0−−γγ\\n⎡\\uf8ee+⎤\\uf8f9⎣\\uf8f0⎦\\uf8fb⎧\\uf8f1⎡\\uf8ee⎤\\uf8f9+ γ>− γ≠ ⎪\\uf8f4⎣\\uf8f0⎦\\uf8fb +=⎨\\uf8f2\\n⎪\\uf8f4γ= ⎩\\uf8f3γ⎧\\uf8f1 + γ>γ≠+=⎨\\uf8f2++ γ= ⎩\\uf8f3-\\xad‐\\n0\\n0\\n0W u(1 TR) -\\xad‐1, \\t\\r \\xa0 0u(W(1 TR))\\nln(W ) u(1 TR) 0\\n, using the time series average of (1+ER) \\n [1] u(E[W])>E[u(W)]  \\n \\n \\n[2]  \\n \\n \\n[3]   \\n \\n \\n \\nγ \\n \\n \\n[4]  \\n  \\n \\n \\n [5] 01W1 RF=+01W1 RF=+ \\n \\n \\n [6]  \\xa0u(W!(1+TR))=!!!\"\\n!!!\"=u(1+ER)=−!!!\"!!\\n! \\xa0 \\xa0𝛾𝛾>−1,𝛾𝛾≠0\\nln1+𝐸𝐸𝐸𝐸 \\xa0 \\xa0𝛾𝛾=0  \\xa0\\n \\n \\n [7] ER=ER=the geometric excess return =!!!\"\\n!!!!−1 \\n \\nCEER ( )γCEER ( )γ \\n \\nγ \\n \\n[8]   \\n \\n \\n[9]   \\n  \\n \\n \\n \\nCEERCEER  \\n \\n- γ \\n \\n  [10]() ( ) ( )CEu 1 ER E u 1 ER ⎡\\uf8ee⎤\\uf8f9 +γ=+⎣\\uf8f0⎦\\uf8fb\\n( )−γγ\\n=⎡\\uf8ee⎤\\uf8f9γ=+ −⎢\\uf8ef⎥\\uf8fa⎣\\uf8f0⎦\\uf8fb∑12\\nT-\\xad‐\\nt\\nt11MRAR( ) 1 ER 1T=−Wu\"(W)RRA(W)u\\'(W)\\nγ⎧\\uf8f1γ>γ≠ ⎪\\uf8f4=γ⎨\\uf8f2\\n⎪\\uf8f4γ= ⎩\\uf8f3-\\xad‐W-\\xad‐ -\\xad‐1, 0u(W)\\nln(W) 0\\n( ) ( )\\n( )1\\nCE\\nE ln 1 ERE 1 ER 1, 01 ER\\ne0−−γγ\\n⎡\\uf8ee+⎤\\uf8f9⎣\\uf8f0⎦\\uf8fb⎧\\uf8f1⎡\\uf8ee⎤\\uf8f9+ γ>− γ≠ ⎪\\uf8f4⎣\\uf8f0⎦\\uf8fb +=⎨\\uf8f2\\n⎪\\uf8f4γ= ⎩\\uf8f3γ⎧\\uf8f1 + γ>γ≠+=⎨\\uf8f2++ γ= ⎩\\uf8f3-\\xad‐\\n0\\n0\\n0W u(1 TR) -\\xad‐1, \\t\\r \\xa0 0u(W(1 TR))\\nln(W ) u(1 TR) 0\\n as an estimate of E[(1+ER) \\n [1] u(E[W])>E[u(W)]  \\n \\n \\n[2]  \\n \\n \\n[3]   \\n \\n \\n \\nγ \\n \\n \\n[4]  \\n  \\n \\n \\n [5] 01W1 RF=+01W1 RF=+ \\n \\n \\n [6]  \\xa0u(W!(1+TR))=!!!\"\\n!!!\"=u(1+ER)=−!!!\"!!\\n! \\xa0 \\xa0𝛾𝛾>−1,𝛾𝛾≠0\\nln1+𝐸𝐸𝐸𝐸 \\xa0 \\xa0𝛾𝛾=0  \\xa0\\n \\n \\n [7] ER=ER=the geometric excess return =!!!\"\\n!!!!−1 \\n \\nCEER ( )γCEER ( )γ \\n \\nγ \\n \\n[8]   \\n \\n \\n[9]   \\n  \\n \\n \\n \\nCEERCEER  \\n \\n- γ \\n \\n  [10]() ( ) ( )CEu 1 ER E u 1 ER ⎡\\uf8ee⎤\\uf8f9 +γ=+⎣\\uf8f0⎦\\uf8fb\\n( )−γγ\\n=⎡\\uf8ee⎤\\uf8f9γ=+ −⎢\\uf8ef⎥\\uf8fa⎣\\uf8f0⎦\\uf8fb∑12\\nT-\\xad‐\\nt\\nt11MRAR( ) 1 ER 1T=−Wu\"(W)RRA(W)u\\'(W)\\nγ⎧\\uf8f1γ>γ≠ ⎪\\uf8f4=γ⎨\\uf8f2\\n⎪\\uf8f4γ= ⎩\\uf8f3-\\xad‐W-\\xad‐ -\\xad‐1, 0u(W)\\nln(W) 0\\n( ) ( )\\n( )1\\nCE\\nE ln 1 ERE 1 ER 1, 01 ER\\ne0−−γγ\\n⎡\\uf8ee+⎤\\uf8f9⎣\\uf8f0⎦\\uf8fb⎧\\uf8f1⎡\\uf8ee⎤\\uf8f9+ γ>− γ≠ ⎪\\uf8f4⎣\\uf8f0⎦\\uf8fb +=⎨\\uf8f2\\n⎪\\uf8f4γ= ⎩\\uf8f3γ⎧\\uf8f1 + γ>γ≠+=⎨\\uf8f2++ γ= ⎩\\uf8f3-\\xad‐\\n0\\n0\\n0W u(1 TR) -\\xad‐1, \\t\\r \\xa0 0u(W(1 TR))\\nln(W ) u(1 TR) 0\\n]. That is, Morningstar uses historical excess returns as the basis for expected excess returns rather \\nthan relying on analysts’ forecasts or other probabilities of future returns.', metadata={'page': 6, 'source': 'https://www.morningstar.com/content/dam/marketing/shared/research/methodology/771945_Morningstar_Rating_for_Funds_Methodology.pdf'}), Document(page_content='⎪\\uf8f4γ= ⎩\\uf8f3γ⎧\\uf8f1 + γ>γ≠+=⎨\\uf8f2++ γ= ⎩\\uf8f3-\\xad‐\\n0\\n0\\n0W u(1 TR) -\\xad‐1, \\t\\r \\xa0 0u(W(1 TR))\\nln(W ) u(1 TR) 0\\n is less then –1, the investor is risk-loving, rather than risk-averse. This investor might be \\nindifferent between a steady fund that always earns 2.5% each month and a volatile fund that is \\nexpected to earn 2% on average each month. This investor likes risk.\\nWhen  \\n [1] u(E[W])>E[u(W)]  \\n \\n \\n[2]  \\n \\n \\n[3]   \\n \\n \\n \\nγ \\n \\n \\n[4]  \\n  \\n \\n \\n [5] 01W1 RF=+01W1 RF=+ \\n \\n \\n [6]  \\xa0u(W!(1+TR))=!!!\"\\n!!!\"=u(1+ER)=−!!!\"!!\\n! \\xa0 \\xa0𝛾𝛾>−1,𝛾𝛾≠0\\nln1+𝐸𝐸𝐸𝐸 \\xa0 \\xa0𝛾𝛾=0  \\xa0\\n \\n \\n [7] ER=ER=the geometric excess return =!!!\"\\n!!!!−1 \\n \\nCEER ( )γCEER ( )γ \\n \\nγ \\n \\n[8]   \\n \\n \\n[9]   \\n  \\n \\n \\n \\nCEERCEER  \\n \\n- γ \\n \\n  [10]() ( ) ( )CEu 1 ER E u 1 ER ⎡\\uf8ee⎤\\uf8f9 +γ=+⎣\\uf8f0⎦\\uf8fb\\n( )−γγ\\n=⎡\\uf8ee⎤\\uf8f9γ=+ −⎢\\uf8ef⎥\\uf8fa⎣\\uf8f0⎦\\uf8fb∑12\\nT-\\xad‐\\nt\\nt11MRAR( ) 1 ER 1T=−Wu\"(W)RRA(W)u\\'(W)\\nγ⎧\\uf8f1γ>γ≠ ⎪\\uf8f4=γ⎨\\uf8f2\\n⎪\\uf8f4γ= ⎩\\uf8f3-\\xad‐W-\\xad‐ -\\xad‐1, 0u(W)\\nln(W) 0\\n( ) ( )\\n( )1\\nCE\\nE ln 1 ERE 1 ER 1, 01 ER\\ne0−−γγ\\n⎡\\uf8ee+⎤\\uf8f9⎣\\uf8f0⎦\\uf8fb⎧\\uf8f1⎡\\uf8ee⎤\\uf8f9+ γ>− γ≠ ⎪\\uf8f4⎣\\uf8f0⎦\\uf8fb +=⎨\\uf8f2\\n⎪\\uf8f4γ= ⎩\\uf8f3γ⎧\\uf8f1 + γ>γ≠+=⎨\\uf8f2++ γ= ⎩\\uf8f3-\\xad‐\\n0\\n0\\n0W u(1 TR) -\\xad‐1, \\t\\r \\xa0 0u(W(1 TR))\\nln(W ) u(1 TR) 0\\n is –1, the degree of risk aversion is zero, meaning that the investor is indifferent between a \\nriskless choice and a risky choice as long as the arithmetic average expected return is the same. This \\ninvestor is indifferent between a steady fund that always earns 2% per month and a volatile fund \\nthat is expected to earn 2% on average (for example, equal likelihood of negative 4%, 2%, or 8% \\neach month), even though the volatile fund could lose money.', metadata={'page': 4, 'source': 'https://www.morningstar.com/content/dam/marketing/shared/research/methodology/771945_Morningstar_Rating_for_Funds_Methodology.pdf'}), Document(page_content='!!!\"=u(1+ER)=−!!!\"!!\\n! \\xa0 \\xa0𝛾𝛾>−1,𝛾𝛾≠0\\nln1+𝐸𝐸𝐸𝐸 \\xa0 \\xa0𝛾𝛾=0  \\xa0\\n \\n \\n [7] ER=ER=the geometric excess return =!!!\"\\n!!!!−1 \\n \\nCEER ( )γCEER ( )γ \\n \\nγ \\n \\n[8]   \\n \\n \\n[9]   \\n  \\n \\n \\n \\nCEERCEER  \\n \\n- γ \\n \\n  [10]() ( ) ( )CEu 1 ER E u 1 ER ⎡\\uf8ee⎤\\uf8f9 +γ=+⎣\\uf8f0⎦\\uf8fb\\n( )−γγ\\n=⎡\\uf8ee⎤\\uf8f9γ=+ −⎢\\uf8ef⎥\\uf8fa⎣\\uf8f0⎦\\uf8fb∑12\\nT-\\xad‐\\nt\\nt11MRAR( ) 1 ER 1T=−Wu\"(W)RRA(W)u\\'(W)\\nγ⎧\\uf8f1γ>γ≠ ⎪\\uf8f4=γ⎨\\uf8f2\\n⎪\\uf8f4γ= ⎩\\uf8f3-\\xad‐W-\\xad‐ -\\xad‐1, 0u(W)\\nln(W) 0\\n( ) ( )\\n( )1\\nCE\\nE ln 1 ERE 1 ER 1, 01 ER\\ne0−−γγ\\n⎡\\uf8ee+⎤\\uf8f9⎣\\uf8f0⎦\\uf8fb⎧\\uf8f1⎡\\uf8ee⎤\\uf8f9+ γ>− γ≠ ⎪\\uf8f4⎣\\uf8f0⎦\\uf8fb +=⎨\\uf8f2\\n⎪\\uf8f4γ= ⎩\\uf8f3γ⎧\\uf8f1 + γ>γ≠+=⎨\\uf8f2++ γ= ⎩\\uf8f3-\\xad‐\\n0\\n0\\n0W u(1 TR) -\\xad‐1, \\t\\r \\xa0 0u(W(1 TR))\\nln(W ) u(1 TR) 0\\n+1. \\nBecause end-of-period wealth (W) is a function of beginning wealth and total return, these equations \\ncan be rewritten as follows, where there is a certain level of utility associated with each level of \\ntotal return.\\n[4]  Ratings Methodology Equations  \\n \\n \\nu(E[W])>E[u(W)]  \\n \\n \\n \\n \\n \\n \\n \\nW0=1\\n1+𝑅𝑅𝑅𝑅𝑅𝑅𝑅𝑅 \\n \\nu(W0(1+TR))=�1+TR\\n1+RF�=u(1+ER)=�−(1+𝐸𝐸𝐸𝐸𝑅𝑅𝑅𝑅)−𝛾𝛾𝛾𝛾\\n𝛾𝛾𝛾𝛾  𝛾𝛾𝛾𝛾>−1,𝛾𝛾𝛾𝛾≠0\\nln(1+𝐸𝐸𝐸𝐸𝑅𝑅𝑅𝑅)  𝛾𝛾𝛾𝛾=0 \\n \\nER=the geometric excess return = 1+𝑇𝑇𝑇𝑇𝑇𝑇𝑇𝑇\\n1+𝑇𝑇𝑇𝑇𝑅𝑅𝑅𝑅−1 \\n \\nu(1+ ERCE(γ))= E[u(1+ER)] \\n \\n1+𝐸𝐸𝐸𝐸𝑅𝑅𝑅𝑅𝐶𝐶𝐶𝐶𝐶𝐶𝐶𝐶=�(𝐸𝐸𝐸𝐸[(1+𝐸𝐸𝐸𝐸𝑅𝑅𝑅𝑅)−𝛾𝛾𝛾𝛾])−1\\n𝛾𝛾𝛾𝛾,𝛾𝛾𝛾𝛾>−1,𝛾𝛾𝛾𝛾≠0\\n𝑒𝑒𝑒𝑒𝐶𝐶𝐶𝐶[ln((1+𝐶𝐶𝐶𝐶𝑇𝑇𝑇𝑇)],𝛾𝛾𝛾𝛾=0 \\n𝑀𝑀𝑀𝑀𝑅𝑅𝑅𝑅𝑀𝑀𝑀𝑀𝑅𝑅𝑅𝑅(𝛾𝛾𝛾𝛾)=�1\\n𝑇𝑇𝑇𝑇�(1+𝐸𝐸𝐸𝐸𝑅𝑅𝑅𝑅𝑡𝑡𝑡𝑡)−𝛾𝛾𝛾𝛾𝑇𝑇𝑇𝑇\\n𝑡𝑡𝑡𝑡=1�−12\\n𝛾𝛾𝛾𝛾\\n−1 \\n \\n \\n \\n \\n \\n =−Wu\"(W)RRA(W)u\\'(W)\\nγ\\uf8f1γ> γ≠ \\uf8f4=γ\\uf8f2\\n\\uf8f4γ= \\uf8f3-W- - 1, 0u(W)\\nln(W) 0\\nγ\\uf8f1+ γ> γ≠+=\\uf8f2+ + γ=\\uf8f3-\\n0\\n0\\n0W u(1 T R) - 1,  0u(W (1 TR))\\nln(W ) u(1 TR) 0\\n()12\\nT T\\nt\\nt1MRAR(0) 1 ER 1\\n=\\uf8ee\\uf8f9= +−\\uf8ef\\uf8fa\\uf8f0\\uf8fb∏where:\\nW0 = beginning-of-period wealth\\nTR = total return on the portfolio being evaluated so that W = W 0 (1+TR)\\nThe value of W 0 does not affect the curvature of utility as a function of TR, and so it does not affect \\nhow the investor ranks portfolios.\\nDegree of Risk Aversion\\nGamma ( \\n [1] u(E[W])>E[u(W)]  \\n \\n \\n[2]  \\n \\n \\n[3]   \\n \\n \\n \\nγ \\n \\n \\n[4]  \\n  \\n \\n \\n [5] 01W1 RF=+01W1 RF=+ \\n \\n \\n [6]  \\xa0u(W!(1+TR))=!!!\"\\n!!!\"=u(1+ER)=−!!!\"!!\\n! \\xa0 \\xa0𝛾𝛾>−1,𝛾𝛾≠0\\nln1+𝐸𝐸𝐸𝐸 \\xa0 \\xa0𝛾𝛾=0  \\xa0\\n \\n \\n [7] ER=ER=the geometric excess return =!!!\"\\n!!!!−1 \\n \\nCEER ( )γCEER ( )γ \\n \\nγ \\n \\n[8]   \\n \\n \\n[9]   \\n  \\n \\n \\n \\nCEERCEER  \\n \\n- γ \\n \\n  [10]() ( ) ( )CEu 1 ER E u 1 ER ⎡\\uf8ee⎤\\uf8f9 +γ=+⎣\\uf8f0⎦\\uf8fb\\n( )−γγ\\n=⎡\\uf8ee⎤\\uf8f9γ=+ −⎢\\uf8ef⎥\\uf8fa⎣\\uf8f0⎦\\uf8fb∑12\\nT-\\xad‐\\nt\\nt11MRAR( ) 1 ER 1T=−Wu\"(W)RRA(W)u\\'(W)\\nγ⎧\\uf8f1γ>γ≠ ⎪\\uf8f4=γ⎨\\uf8f2\\n⎪\\uf8f4γ= ⎩\\uf8f3-\\xad‐W-\\xad‐ -\\xad‐1, 0u(W)\\nln(W) 0\\n( ) ( )\\n( )1\\nCE\\nE ln 1 ERE 1 ER 1, 01 ER\\ne0−−γγ\\n⎡\\uf8ee+⎤\\uf8f9⎣\\uf8f0⎦\\uf8fb⎧\\uf8f1⎡\\uf8ee⎤\\uf8f9+ γ>− γ≠ ⎪\\uf8f4⎣\\uf8f0⎦\\uf8fb +=⎨\\uf8f2\\n⎪\\uf8f4γ= ⎩\\uf8f3γ⎧\\uf8f1 + γ>γ≠+=⎨\\uf8f2++ γ= ⎩\\uf8f3-\\xad‐\\n0\\n0\\n0W u(1 TR) -\\xad‐1, \\t\\r \\xa0 0u(W(1 TR))\\nln(W ) u(1 TR) 0\\n) represents the degree of risk aversion. In theory, it can be any number of values. \\nWhen  \\n [1] u(E[W])>E[u(W)]  \\n \\n \\n[2]  \\n \\n \\n[3]   \\n \\n \\n \\nγ \\n \\n \\n[4]  \\n  \\n \\n \\n [5] 01W1 RF=+01W1 RF=+ \\n \\n \\n [6]  \\xa0u(W!(1+TR))=!!!\"\\n!!!\"=u(1+ER)=−!!!\"!!\\n! \\xa0 \\xa0𝛾𝛾>−1,𝛾𝛾≠0\\nln1+𝐸𝐸𝐸𝐸 \\xa0 \\xa0𝛾𝛾=0  \\xa0\\n \\n \\n [7] ER=ER=the geometric excess return =!!!\"\\n!!!!−1 \\n \\nCEER ( )γCEER ( )γ \\n \\nγ \\n \\n[8]   \\n \\n \\n[9]   \\n  \\n \\n \\n \\nCEERCEER  \\n \\n- γ \\n \\n  [10]() ( ) ( )CEu 1 ER E u 1 ER ⎡\\uf8ee⎤\\uf8f9 +γ=+⎣\\uf8f0⎦\\uf8fb\\n( )−γγ\\n=⎡\\uf8ee⎤\\uf8f9γ=+ −⎢\\uf8ef⎥\\uf8fa⎣\\uf8f0⎦\\uf8fb∑12\\nT-\\xad‐\\nt\\nt11MRAR( ) 1 ER 1T=−Wu\"(W)RRA(W)u\\'(W)\\nγ⎧\\uf8f1γ>γ≠ ⎪\\uf8f4=γ⎨\\uf8f2\\n⎪\\uf8f4γ= ⎩\\uf8f3-\\xad‐W-\\xad‐ -\\xad‐1, 0u(W)\\nln(W) 0\\n( ) ( )\\n( )1\\nCE\\nE ln 1 ERE 1 ER 1, 01 ER\\ne0−−γγ\\n⎡\\uf8ee+⎤\\uf8f9⎣\\uf8f0⎦\\uf8fb⎧\\uf8f1⎡\\uf8ee⎤\\uf8f9+ γ>− γ≠ ⎪\\uf8f4⎣\\uf8f0⎦\\uf8fb +=⎨\\uf8f2\\n⎪\\uf8f4γ= ⎩\\uf8f3γ⎧\\uf8f1 + γ>γ≠+=⎨\\uf8f2++ γ= ⎩\\uf8f3-\\xad‐\\n0\\n0\\n0W u(1 TR) -\\xad‐1, \\t\\r \\xa0 0u(W(1 TR))\\nln(W ) u(1 TR) 0\\n is less then –1, the investor is risk-loving, rather than risk-averse. This investor might be \\nindifferent between a steady fund that always earns 2.5% each month and a volatile fund that is \\nexpected to earn 2% on average each month. This investor likes risk.\\nWhen  \\n [1] u(E[W])>E[u(W)]  \\n \\n \\n[2]  \\n \\n \\n[3]   \\n \\n \\n \\nγ \\n \\n \\n[4]  \\n  \\n \\n \\n [5] 01W1 RF=+01W1 RF=+ \\n \\n \\n [6]  \\xa0u(W!(1+TR))=!!!\"', metadata={'page': 4, 'source': 'https://www.morningstar.com/content/dam/marketing/shared/research/methodology/771945_Morningstar_Rating_for_Funds_Methodology.pdf'}), Document(page_content='The Morningstar Sustainable Investing Handbook12These are the first of many developments for our \\nSustainability Ratings and research. We’ll make it easy \\nfor you to integrate our sustainability information with \\nyour investment research process. \\n \\n \\nStay informed about our latest research\\nVisit global.morningstar.com/SustainableInvesting  \\nEmail ESG@morningstar.com', metadata={'page': 12, 'source': 'https://s21.q4cdn.com/198919461/files/doc_downloads/press_kits/2016/Morningstar-Sustainable-Investing-Handbook.pdf'}), Document(page_content='[11] Ratings Methodology Equations  \\n \\n \\nu(E[W])>E[u(W)]  \\n \\n \\n \\n \\n \\n \\n \\nW0=1\\n1+𝑅𝑅𝑅𝑅𝑅𝑅𝑅𝑅 \\n \\nu(W0(1+TR))=�1+TR\\n1+RF�=u(1+ER)=�−(1+𝐸𝐸𝐸𝐸𝑅𝑅𝑅𝑅)−𝛾𝛾𝛾𝛾\\n𝛾𝛾𝛾𝛾  𝛾𝛾𝛾𝛾>−1,𝛾𝛾𝛾𝛾≠0\\nln(1+𝐸𝐸𝐸𝐸𝑅𝑅𝑅𝑅)  𝛾𝛾𝛾𝛾=0 \\n \\nER=the geometric excess return = 1+𝑇𝑇𝑇𝑇𝑇𝑇𝑇𝑇\\n1+𝑇𝑇𝑇𝑇𝑅𝑅𝑅𝑅−1 \\n \\nu(1+ ERCE(γ))= E[u(1+ER)] \\n \\n1+𝐸𝐸𝐸𝐸𝑅𝑅𝑅𝑅𝐶𝐶𝐶𝐶𝐶𝐶𝐶𝐶=�(𝐸𝐸𝐸𝐸[(1+𝐸𝐸𝐸𝐸𝑅𝑅𝑅𝑅)−𝛾𝛾𝛾𝛾])−1\\n𝛾𝛾𝛾𝛾,𝛾𝛾𝛾𝛾>−1,𝛾𝛾𝛾𝛾≠0\\n𝑒𝑒𝑒𝑒𝐶𝐶𝐶𝐶[ln((1+𝐶𝐶𝐶𝐶𝑇𝑇𝑇𝑇)],𝛾𝛾𝛾𝛾=0 \\n𝑀𝑀𝑀𝑀𝑅𝑅𝑅𝑅𝑀𝑀𝑀𝑀𝑅𝑅𝑅𝑅(𝛾𝛾𝛾𝛾)=�1\\n𝑇𝑇𝑇𝑇�(1+𝐸𝐸𝐸𝐸𝑅𝑅𝑅𝑅𝑡𝑡𝑡𝑡)−𝛾𝛾𝛾𝛾𝑇𝑇𝑇𝑇\\n𝑡𝑡𝑡𝑡=1�−12\\n𝛾𝛾𝛾𝛾\\n−1 \\n \\n \\n \\n \\n \\n =−Wu\"(W)RRA(W)u\\'(W)\\nγ\\uf8f1γ> γ≠ \\uf8f4=γ\\uf8f2\\n\\uf8f4γ= \\uf8f3-W- - 1, 0u(W)\\nln(W) 0\\nγ\\uf8f1+ γ> γ≠+=\\uf8f2+ + γ=\\uf8f3-\\n0\\n0\\n0W u(1 T R) - 1,  0u(W (1 TR))\\nln(W ) u(1 TR) 0\\n()12\\nT T\\nt\\nt1MRAR(0) 1 ER 1\\n=\\uf8ee\\uf8f9= +−\\uf8ef\\uf8fa\\uf8f0\\uf8fb∏\\nA rating system based solely on performance would rank funds on their geometric mean return, or \\nequivalently, MRAR(0) or Morningstar Return. A rating system that provides a heavier penalty for risk \\nrequires that  \\n [1] u(E[W])>E[u(W)]  \\n \\n \\n[2]  \\n \\n \\n[3]   \\n \\n \\n \\nγ \\n \\n \\n[4]  \\n  \\n \\n \\n [5] 01W1 RF=+01W1 RF=+ \\n \\n \\n [6]  \\xa0u(W!(1+TR))=!!!\"\\n!!!\"=u(1+ER)=−!!!\"!!\\n! \\xa0 \\xa0𝛾𝛾>−1,𝛾𝛾≠0\\nln1+𝐸𝐸𝐸𝐸 \\xa0 \\xa0𝛾𝛾=0  \\xa0\\n \\n \\n [7] ER=ER=the geometric excess return =!!!\"\\n!!!!−1 \\n \\nCEER ( )γCEER ( )γ \\n \\nγ \\n \\n[8]   \\n \\n \\n[9]   \\n  \\n \\n \\n \\nCEERCEER  \\n \\n- γ \\n \\n  [10]() ( ) ( )CEu 1 ER E u 1 ER ⎡\\uf8ee⎤\\uf8f9 +γ=+⎣\\uf8f0⎦\\uf8fb\\n( )−γγ\\n=⎡\\uf8ee⎤\\uf8f9γ=+ −⎢\\uf8ef⎥\\uf8fa⎣\\uf8f0⎦\\uf8fb∑12\\nT-\\xad‐\\nt\\nt11MRAR( ) 1 ER 1T=−Wu\"(W)RRA(W)u\\'(W)\\nγ⎧\\uf8f1γ>γ≠ ⎪\\uf8f4=γ⎨\\uf8f2\\n⎪\\uf8f4γ= ⎩\\uf8f3-\\xad‐W-\\xad‐ -\\xad‐1, 0u(W)\\nln(W) 0\\n( ) ( )\\n( )1\\nCE\\nE ln 1 ERE 1 ER 1, 01 ER\\ne0−−γγ\\n⎡\\uf8ee+⎤\\uf8f9⎣\\uf8f0⎦\\uf8fb⎧\\uf8f1⎡\\uf8ee⎤\\uf8f9+ γ>− γ≠ ⎪\\uf8f4⎣\\uf8f0⎦\\uf8fb +=⎨\\uf8f2\\n⎪\\uf8f4γ= ⎩\\uf8f3γ⎧\\uf8f1 + γ>γ≠+=⎨\\uf8f2++ γ= ⎩\\uf8f3-\\xad‐\\n0\\n0\\n0W u(1 TR) -\\xad‐1, \\t\\r \\xa0 0u(W(1 TR))\\nln(W ) u(1 TR) 0\\n>0.\\nMorningstar’s analysts have concluded that  \\n [1] u(E[W])>E[u(W)]  \\n \\n \\n[2]  \\n \\n \\n[3]   \\n \\n \\n \\nγ \\n \\n \\n[4]  \\n  \\n \\n \\n [5] 01W1 RF=+01W1 RF=+ \\n \\n \\n [6]  \\xa0u(W!(1+TR))=!!!\"\\n!!!\"=u(1+ER)=−!!!\"!!\\n! \\xa0 \\xa0𝛾𝛾>−1,𝛾𝛾≠0\\nln1+𝐸𝐸𝐸𝐸 \\xa0 \\xa0𝛾𝛾=0  \\xa0\\n \\n \\n [7] ER=ER=the geometric excess return =!!!\"\\n!!!!−1 \\n \\nCEER ( )γCEER ( )γ \\n \\nγ \\n \\n[8]   \\n \\n \\n[9]   \\n  \\n \\n \\n \\nCEERCEER  \\n \\n- γ \\n \\n  [10]() ( ) ( )CEu 1 ER E u 1 ER ⎡\\uf8ee⎤\\uf8f9 +γ=+⎣\\uf8f0⎦\\uf8fb\\n( )−γγ\\n=⎡\\uf8ee⎤\\uf8f9γ=+ −⎢\\uf8ef⎥\\uf8fa⎣\\uf8f0⎦\\uf8fb∑12\\nT-\\xad‐\\nt\\nt11MRAR( ) 1 ER 1T=−Wu\"(W)RRA(W)u\\'(W)\\nγ⎧\\uf8f1γ>γ≠ ⎪\\uf8f4=γ⎨\\uf8f2\\n⎪\\uf8f4γ= ⎩\\uf8f3-\\xad‐W-\\xad‐ -\\xad‐1, 0u(W)\\nln(W) 0\\n( ) ( )\\n( )1\\nCE\\nE ln 1 ERE 1 ER 1, 01 ER\\ne0−−γγ\\n⎡\\uf8ee+⎤\\uf8f9⎣\\uf8f0⎦\\uf8fb⎧\\uf8f1⎡\\uf8ee⎤\\uf8f9+ γ>− γ≠ ⎪\\uf8f4⎣\\uf8f0⎦\\uf8fb +=⎨\\uf8f2\\n⎪\\uf8f4γ= ⎩\\uf8f3γ⎧\\uf8f1 + γ>γ≠+=⎨\\uf8f2++ γ= ⎩\\uf8f3-\\xad‐\\n0\\n0\\n0W u(1 TR) -\\xad‐1, \\t\\r \\xa0 0u(W(1 TR))\\nln(W ) u(1 TR) 0\\n=2 results in fund rankings that are consistent with \\nthe risk tolerances of typical retail investors. Hence, Morningstar uses a  \\n [1] u(E[W])>E[u(W)]  \\n \\n \\n[2]  \\n \\n \\n[3]   \\n \\n \\n \\nγ \\n \\n \\n[4]  \\n  \\n \\n \\n [5] 01W1 RF=+01W1 RF=+ \\n \\n \\n [6]  \\xa0u(W!(1+TR))=!!!\"\\n!!!\"=u(1+ER)=−!!!\"!!\\n! \\xa0 \\xa0𝛾𝛾>−1,𝛾𝛾≠0\\nln1+𝐸𝐸𝐸𝐸 \\xa0 \\xa0𝛾𝛾=0  \\xa0\\n \\n \\n [7] ER=ER=the geometric excess return =!!!\"\\n!!!!−1 \\n \\nCEER ( )γCEER ( )γ \\n \\nγ \\n \\n[8]   \\n \\n \\n[9]   \\n  \\n \\n \\n \\nCEERCEER  \\n \\n- γ \\n \\n  [10]() ( ) ( )CEu 1 ER E u 1 ER ⎡\\uf8ee⎤\\uf8f9 +γ=+⎣\\uf8f0⎦\\uf8fb\\n( )−γγ\\n=⎡\\uf8ee⎤\\uf8f9γ=+ −⎢\\uf8ef⎥\\uf8fa⎣\\uf8f0⎦\\uf8fb∑12\\nT-\\xad‐\\nt\\nt11MRAR( ) 1 ER 1T=−Wu\"(W)RRA(W)u\\'(W)\\nγ⎧\\uf8f1γ>γ≠ ⎪\\uf8f4=γ⎨\\uf8f2\\n⎪\\uf8f4γ= ⎩\\uf8f3-\\xad‐W-\\xad‐ -\\xad‐1, 0u(W)\\nln(W) 0\\n( ) ( )\\n( )1\\nCE\\nE ln 1 ERE 1 ER 1, 01 ER\\ne0−−γγ\\n⎡\\uf8ee+⎤\\uf8f9⎣\\uf8f0⎦\\uf8fb⎧\\uf8f1⎡\\uf8ee⎤\\uf8f9+ γ>− γ≠ ⎪\\uf8f4⎣\\uf8f0⎦\\uf8fb +=⎨\\uf8f2\\n⎪\\uf8f4γ= ⎩\\uf8f3γ⎧\\uf8f1 + γ>γ≠+=⎨\\uf8f2++ γ= ⎩\\uf8f3-\\xad‐\\n0\\n0\\n0W u(1 TR) -\\xad‐1, \\t\\r \\xa0 0u(W(1 TR))\\nln(W ) u(1 TR) 0\\n equal to two in the \\ncalculation of its star ratings.\\nBecause MRAR is expressed as an annualized return, it can be decomposed into a return component, \\nMorningstar Return or MRAR(0), and a risk component, Morningstar Risk. Morningstar Risk is \\ncalculated as MRAR(0)–MRAR(2), or Morningstar Return – Morningstar Risk-Adjusted Return.\\nCalculations\\nOverview\\nThere are three steps to calculate Morningstar Risk-Adjusted Return. The calculations are done on a', metadata={'page': 7, 'source': 'https://www.morningstar.com/content/dam/marketing/shared/research/methodology/771945_Morningstar_Rating_for_Funds_Methodology.pdf'})]\u001b[0m\n",
            "Thought:"
          ]
        },
        {
          "ename": "BadRequestError",
          "evalue": "Error code: 400 - {'error': {'message': \"This model's maximum context length is 8193 tokens, however you requested 14751 tokens (14495 in your prompt; 256 for the completion). Please reduce your prompt; or completion length.\", 'type': 'invalid_request_error', 'param': None, 'code': None}}",
          "output_type": "error",
          "traceback": [
            "\u001b[1;31m---------------------------------------------------------------------------\u001b[0m",
            "\u001b[1;31mBadRequestError\u001b[0m                           Traceback (most recent call last)",
            "Cell \u001b[1;32mIn[29], line 1\u001b[0m\n\u001b[1;32m----> 1\u001b[0m result \u001b[38;5;241m=\u001b[39m \u001b[43magent\u001b[49m\u001b[38;5;241;43m.\u001b[39;49m\u001b[43mrun\u001b[49m\u001b[43m(\u001b[49m\u001b[43m{\u001b[49m\u001b[38;5;124;43m\"\u001b[39;49m\u001b[38;5;124;43minput\u001b[39;49m\u001b[38;5;124;43m\"\u001b[39;49m\u001b[43m:\u001b[49m\u001b[43m \u001b[49m\u001b[38;5;124;43m\"\u001b[39;49m\u001b[38;5;124;43mhi, i m bob\u001b[39;49m\u001b[38;5;124;43m\"\u001b[39;49m\u001b[43m}\u001b[49m\u001b[43m)\u001b[49m\n\u001b[0;32m      3\u001b[0m \u001b[38;5;28mprint\u001b[39m(result)\n",
            "File \u001b[1;32m~\\AppData\\Roaming\\Python\\Python310\\site-packages\\langchain_core\\_api\\deprecation.py:145\u001b[0m, in \u001b[0;36mdeprecated.<locals>.deprecate.<locals>.warning_emitting_wrapper\u001b[1;34m(*args, **kwargs)\u001b[0m\n\u001b[0;32m    143\u001b[0m     warned \u001b[38;5;241m=\u001b[39m \u001b[38;5;28;01mTrue\u001b[39;00m\n\u001b[0;32m    144\u001b[0m     emit_warning()\n\u001b[1;32m--> 145\u001b[0m \u001b[38;5;28;01mreturn\u001b[39;00m wrapped(\u001b[38;5;241m*\u001b[39margs, \u001b[38;5;241m*\u001b[39m\u001b[38;5;241m*\u001b[39mkwargs)\n",
            "File \u001b[1;32m~\\AppData\\Roaming\\Python\\Python310\\site-packages\\langchain\\chains\\base.py:538\u001b[0m, in \u001b[0;36mChain.run\u001b[1;34m(self, callbacks, tags, metadata, *args, **kwargs)\u001b[0m\n\u001b[0;32m    536\u001b[0m     \u001b[38;5;28;01mif\u001b[39;00m \u001b[38;5;28mlen\u001b[39m(args) \u001b[38;5;241m!=\u001b[39m \u001b[38;5;241m1\u001b[39m:\n\u001b[0;32m    537\u001b[0m         \u001b[38;5;28;01mraise\u001b[39;00m \u001b[38;5;167;01mValueError\u001b[39;00m(\u001b[38;5;124m\"\u001b[39m\u001b[38;5;124m`run` supports only one positional argument.\u001b[39m\u001b[38;5;124m\"\u001b[39m)\n\u001b[1;32m--> 538\u001b[0m     \u001b[38;5;28;01mreturn\u001b[39;00m \u001b[38;5;28;43mself\u001b[39;49m\u001b[43m(\u001b[49m\u001b[43margs\u001b[49m\u001b[43m[\u001b[49m\u001b[38;5;241;43m0\u001b[39;49m\u001b[43m]\u001b[49m\u001b[43m,\u001b[49m\u001b[43m \u001b[49m\u001b[43mcallbacks\u001b[49m\u001b[38;5;241;43m=\u001b[39;49m\u001b[43mcallbacks\u001b[49m\u001b[43m,\u001b[49m\u001b[43m \u001b[49m\u001b[43mtags\u001b[49m\u001b[38;5;241;43m=\u001b[39;49m\u001b[43mtags\u001b[49m\u001b[43m,\u001b[49m\u001b[43m \u001b[49m\u001b[43mmetadata\u001b[49m\u001b[38;5;241;43m=\u001b[39;49m\u001b[43mmetadata\u001b[49m\u001b[43m)\u001b[49m[\n\u001b[0;32m    539\u001b[0m         _output_key\n\u001b[0;32m    540\u001b[0m     ]\n\u001b[0;32m    542\u001b[0m \u001b[38;5;28;01mif\u001b[39;00m kwargs \u001b[38;5;129;01mand\u001b[39;00m \u001b[38;5;129;01mnot\u001b[39;00m args:\n\u001b[0;32m    543\u001b[0m     \u001b[38;5;28;01mreturn\u001b[39;00m \u001b[38;5;28mself\u001b[39m(kwargs, callbacks\u001b[38;5;241m=\u001b[39mcallbacks, tags\u001b[38;5;241m=\u001b[39mtags, metadata\u001b[38;5;241m=\u001b[39mmetadata)[\n\u001b[0;32m    544\u001b[0m         _output_key\n\u001b[0;32m    545\u001b[0m     ]\n",
            "File \u001b[1;32m~\\AppData\\Roaming\\Python\\Python310\\site-packages\\langchain_core\\_api\\deprecation.py:145\u001b[0m, in \u001b[0;36mdeprecated.<locals>.deprecate.<locals>.warning_emitting_wrapper\u001b[1;34m(*args, **kwargs)\u001b[0m\n\u001b[0;32m    143\u001b[0m     warned \u001b[38;5;241m=\u001b[39m \u001b[38;5;28;01mTrue\u001b[39;00m\n\u001b[0;32m    144\u001b[0m     emit_warning()\n\u001b[1;32m--> 145\u001b[0m \u001b[38;5;28;01mreturn\u001b[39;00m wrapped(\u001b[38;5;241m*\u001b[39margs, \u001b[38;5;241m*\u001b[39m\u001b[38;5;241m*\u001b[39mkwargs)\n",
            "File \u001b[1;32m~\\AppData\\Roaming\\Python\\Python310\\site-packages\\langchain\\chains\\base.py:363\u001b[0m, in \u001b[0;36mChain.__call__\u001b[1;34m(self, inputs, return_only_outputs, callbacks, tags, metadata, run_name, include_run_info)\u001b[0m\n\u001b[0;32m    331\u001b[0m \u001b[38;5;250m\u001b[39m\u001b[38;5;124;03m\"\"\"Execute the chain.\u001b[39;00m\n\u001b[0;32m    332\u001b[0m \n\u001b[0;32m    333\u001b[0m \u001b[38;5;124;03mArgs:\u001b[39;00m\n\u001b[1;32m   (...)\u001b[0m\n\u001b[0;32m    354\u001b[0m \u001b[38;5;124;03m        `Chain.output_keys`.\u001b[39;00m\n\u001b[0;32m    355\u001b[0m \u001b[38;5;124;03m\"\"\"\u001b[39;00m\n\u001b[0;32m    356\u001b[0m config \u001b[38;5;241m=\u001b[39m {\n\u001b[0;32m    357\u001b[0m     \u001b[38;5;124m\"\u001b[39m\u001b[38;5;124mcallbacks\u001b[39m\u001b[38;5;124m\"\u001b[39m: callbacks,\n\u001b[0;32m    358\u001b[0m     \u001b[38;5;124m\"\u001b[39m\u001b[38;5;124mtags\u001b[39m\u001b[38;5;124m\"\u001b[39m: tags,\n\u001b[0;32m    359\u001b[0m     \u001b[38;5;124m\"\u001b[39m\u001b[38;5;124mmetadata\u001b[39m\u001b[38;5;124m\"\u001b[39m: metadata,\n\u001b[0;32m    360\u001b[0m     \u001b[38;5;124m\"\u001b[39m\u001b[38;5;124mrun_name\u001b[39m\u001b[38;5;124m\"\u001b[39m: run_name,\n\u001b[0;32m    361\u001b[0m }\n\u001b[1;32m--> 363\u001b[0m \u001b[38;5;28;01mreturn\u001b[39;00m \u001b[38;5;28;43mself\u001b[39;49m\u001b[38;5;241;43m.\u001b[39;49m\u001b[43minvoke\u001b[49m\u001b[43m(\u001b[49m\n\u001b[0;32m    364\u001b[0m \u001b[43m    \u001b[49m\u001b[43minputs\u001b[49m\u001b[43m,\u001b[49m\n\u001b[0;32m    365\u001b[0m \u001b[43m    \u001b[49m\u001b[43mcast\u001b[49m\u001b[43m(\u001b[49m\u001b[43mRunnableConfig\u001b[49m\u001b[43m,\u001b[49m\u001b[43m \u001b[49m\u001b[43m{\u001b[49m\u001b[43mk\u001b[49m\u001b[43m:\u001b[49m\u001b[43m \u001b[49m\u001b[43mv\u001b[49m\u001b[43m \u001b[49m\u001b[38;5;28;43;01mfor\u001b[39;49;00m\u001b[43m \u001b[49m\u001b[43mk\u001b[49m\u001b[43m,\u001b[49m\u001b[43m \u001b[49m\u001b[43mv\u001b[49m\u001b[43m \u001b[49m\u001b[38;5;129;43;01min\u001b[39;49;00m\u001b[43m \u001b[49m\u001b[43mconfig\u001b[49m\u001b[38;5;241;43m.\u001b[39;49m\u001b[43mitems\u001b[49m\u001b[43m(\u001b[49m\u001b[43m)\u001b[49m\u001b[43m \u001b[49m\u001b[38;5;28;43;01mif\u001b[39;49;00m\u001b[43m \u001b[49m\u001b[43mv\u001b[49m\u001b[43m \u001b[49m\u001b[38;5;129;43;01mis\u001b[39;49;00m\u001b[43m \u001b[49m\u001b[38;5;129;43;01mnot\u001b[39;49;00m\u001b[43m \u001b[49m\u001b[38;5;28;43;01mNone\u001b[39;49;00m\u001b[43m}\u001b[49m\u001b[43m)\u001b[49m\u001b[43m,\u001b[49m\n\u001b[0;32m    366\u001b[0m \u001b[43m    \u001b[49m\u001b[43mreturn_only_outputs\u001b[49m\u001b[38;5;241;43m=\u001b[39;49m\u001b[43mreturn_only_outputs\u001b[49m\u001b[43m,\u001b[49m\n\u001b[0;32m    367\u001b[0m \u001b[43m    \u001b[49m\u001b[43minclude_run_info\u001b[49m\u001b[38;5;241;43m=\u001b[39;49m\u001b[43minclude_run_info\u001b[49m\u001b[43m,\u001b[49m\n\u001b[0;32m    368\u001b[0m \u001b[43m\u001b[49m\u001b[43m)\u001b[49m\n",
            "File \u001b[1;32m~\\AppData\\Roaming\\Python\\Python310\\site-packages\\langchain\\chains\\base.py:162\u001b[0m, in \u001b[0;36mChain.invoke\u001b[1;34m(self, input, config, **kwargs)\u001b[0m\n\u001b[0;32m    160\u001b[0m \u001b[38;5;28;01mexcept\u001b[39;00m \u001b[38;5;167;01mBaseException\u001b[39;00m \u001b[38;5;28;01mas\u001b[39;00m e:\n\u001b[0;32m    161\u001b[0m     run_manager\u001b[38;5;241m.\u001b[39mon_chain_error(e)\n\u001b[1;32m--> 162\u001b[0m     \u001b[38;5;28;01mraise\u001b[39;00m e\n\u001b[0;32m    163\u001b[0m run_manager\u001b[38;5;241m.\u001b[39mon_chain_end(outputs)\n\u001b[0;32m    164\u001b[0m final_outputs: Dict[\u001b[38;5;28mstr\u001b[39m, Any] \u001b[38;5;241m=\u001b[39m \u001b[38;5;28mself\u001b[39m\u001b[38;5;241m.\u001b[39mprep_outputs(\n\u001b[0;32m    165\u001b[0m     inputs, outputs, return_only_outputs\n\u001b[0;32m    166\u001b[0m )\n",
            "File \u001b[1;32m~\\AppData\\Roaming\\Python\\Python310\\site-packages\\langchain\\chains\\base.py:156\u001b[0m, in \u001b[0;36mChain.invoke\u001b[1;34m(self, input, config, **kwargs)\u001b[0m\n\u001b[0;32m    149\u001b[0m run_manager \u001b[38;5;241m=\u001b[39m callback_manager\u001b[38;5;241m.\u001b[39mon_chain_start(\n\u001b[0;32m    150\u001b[0m     dumpd(\u001b[38;5;28mself\u001b[39m),\n\u001b[0;32m    151\u001b[0m     inputs,\n\u001b[0;32m    152\u001b[0m     name\u001b[38;5;241m=\u001b[39mrun_name,\n\u001b[0;32m    153\u001b[0m )\n\u001b[0;32m    154\u001b[0m \u001b[38;5;28;01mtry\u001b[39;00m:\n\u001b[0;32m    155\u001b[0m     outputs \u001b[38;5;241m=\u001b[39m (\n\u001b[1;32m--> 156\u001b[0m         \u001b[38;5;28;43mself\u001b[39;49m\u001b[38;5;241;43m.\u001b[39;49m\u001b[43m_call\u001b[49m\u001b[43m(\u001b[49m\u001b[43minputs\u001b[49m\u001b[43m,\u001b[49m\u001b[43m \u001b[49m\u001b[43mrun_manager\u001b[49m\u001b[38;5;241;43m=\u001b[39;49m\u001b[43mrun_manager\u001b[49m\u001b[43m)\u001b[49m\n\u001b[0;32m    157\u001b[0m         \u001b[38;5;28;01mif\u001b[39;00m new_arg_supported\n\u001b[0;32m    158\u001b[0m         \u001b[38;5;28;01melse\u001b[39;00m \u001b[38;5;28mself\u001b[39m\u001b[38;5;241m.\u001b[39m_call(inputs)\n\u001b[0;32m    159\u001b[0m     )\n\u001b[0;32m    160\u001b[0m \u001b[38;5;28;01mexcept\u001b[39;00m \u001b[38;5;167;01mBaseException\u001b[39;00m \u001b[38;5;28;01mas\u001b[39;00m e:\n\u001b[0;32m    161\u001b[0m     run_manager\u001b[38;5;241m.\u001b[39mon_chain_error(e)\n",
            "File \u001b[1;32m~\\AppData\\Roaming\\Python\\Python310\\site-packages\\langchain\\agents\\agent.py:1329\u001b[0m, in \u001b[0;36mAgentExecutor._call\u001b[1;34m(self, inputs, run_manager)\u001b[0m\n\u001b[0;32m   1327\u001b[0m \u001b[38;5;66;03m# We now enter the agent loop (until it returns something).\u001b[39;00m\n\u001b[0;32m   1328\u001b[0m \u001b[38;5;28;01mwhile\u001b[39;00m \u001b[38;5;28mself\u001b[39m\u001b[38;5;241m.\u001b[39m_should_continue(iterations, time_elapsed):\n\u001b[1;32m-> 1329\u001b[0m     next_step_output \u001b[38;5;241m=\u001b[39m \u001b[38;5;28;43mself\u001b[39;49m\u001b[38;5;241;43m.\u001b[39;49m\u001b[43m_take_next_step\u001b[49m\u001b[43m(\u001b[49m\n\u001b[0;32m   1330\u001b[0m \u001b[43m        \u001b[49m\u001b[43mname_to_tool_map\u001b[49m\u001b[43m,\u001b[49m\n\u001b[0;32m   1331\u001b[0m \u001b[43m        \u001b[49m\u001b[43mcolor_mapping\u001b[49m\u001b[43m,\u001b[49m\n\u001b[0;32m   1332\u001b[0m \u001b[43m        \u001b[49m\u001b[43minputs\u001b[49m\u001b[43m,\u001b[49m\n\u001b[0;32m   1333\u001b[0m \u001b[43m        \u001b[49m\u001b[43mintermediate_steps\u001b[49m\u001b[43m,\u001b[49m\n\u001b[0;32m   1334\u001b[0m \u001b[43m        \u001b[49m\u001b[43mrun_manager\u001b[49m\u001b[38;5;241;43m=\u001b[39;49m\u001b[43mrun_manager\u001b[49m\u001b[43m,\u001b[49m\n\u001b[0;32m   1335\u001b[0m \u001b[43m    \u001b[49m\u001b[43m)\u001b[49m\n\u001b[0;32m   1336\u001b[0m     \u001b[38;5;28;01mif\u001b[39;00m \u001b[38;5;28misinstance\u001b[39m(next_step_output, AgentFinish):\n\u001b[0;32m   1337\u001b[0m         \u001b[38;5;28;01mreturn\u001b[39;00m \u001b[38;5;28mself\u001b[39m\u001b[38;5;241m.\u001b[39m_return(\n\u001b[0;32m   1338\u001b[0m             next_step_output, intermediate_steps, run_manager\u001b[38;5;241m=\u001b[39mrun_manager\n\u001b[0;32m   1339\u001b[0m         )\n",
            "File \u001b[1;32m~\\AppData\\Roaming\\Python\\Python310\\site-packages\\langchain\\agents\\agent.py:1055\u001b[0m, in \u001b[0;36mAgentExecutor._take_next_step\u001b[1;34m(self, name_to_tool_map, color_mapping, inputs, intermediate_steps, run_manager)\u001b[0m\n\u001b[0;32m   1046\u001b[0m \u001b[38;5;28;01mdef\u001b[39;00m \u001b[38;5;21m_take_next_step\u001b[39m(\n\u001b[0;32m   1047\u001b[0m     \u001b[38;5;28mself\u001b[39m,\n\u001b[0;32m   1048\u001b[0m     name_to_tool_map: Dict[\u001b[38;5;28mstr\u001b[39m, BaseTool],\n\u001b[1;32m   (...)\u001b[0m\n\u001b[0;32m   1052\u001b[0m     run_manager: Optional[CallbackManagerForChainRun] \u001b[38;5;241m=\u001b[39m \u001b[38;5;28;01mNone\u001b[39;00m,\n\u001b[0;32m   1053\u001b[0m ) \u001b[38;5;241m-\u001b[39m\u001b[38;5;241m>\u001b[39m Union[AgentFinish, List[Tuple[AgentAction, \u001b[38;5;28mstr\u001b[39m]]]:\n\u001b[0;32m   1054\u001b[0m     \u001b[38;5;28;01mreturn\u001b[39;00m \u001b[38;5;28mself\u001b[39m\u001b[38;5;241m.\u001b[39m_consume_next_step(\n\u001b[1;32m-> 1055\u001b[0m         [\n\u001b[0;32m   1056\u001b[0m             a\n\u001b[0;32m   1057\u001b[0m             \u001b[38;5;28;01mfor\u001b[39;00m a \u001b[38;5;129;01min\u001b[39;00m \u001b[38;5;28mself\u001b[39m\u001b[38;5;241m.\u001b[39m_iter_next_step(\n\u001b[0;32m   1058\u001b[0m                 name_to_tool_map,\n\u001b[0;32m   1059\u001b[0m                 color_mapping,\n\u001b[0;32m   1060\u001b[0m                 inputs,\n\u001b[0;32m   1061\u001b[0m                 intermediate_steps,\n\u001b[0;32m   1062\u001b[0m                 run_manager,\n\u001b[0;32m   1063\u001b[0m             )\n\u001b[0;32m   1064\u001b[0m         ]\n\u001b[0;32m   1065\u001b[0m     )\n",
            "File \u001b[1;32m~\\AppData\\Roaming\\Python\\Python310\\site-packages\\langchain\\agents\\agent.py:1055\u001b[0m, in \u001b[0;36m<listcomp>\u001b[1;34m(.0)\u001b[0m\n\u001b[0;32m   1046\u001b[0m \u001b[38;5;28;01mdef\u001b[39;00m \u001b[38;5;21m_take_next_step\u001b[39m(\n\u001b[0;32m   1047\u001b[0m     \u001b[38;5;28mself\u001b[39m,\n\u001b[0;32m   1048\u001b[0m     name_to_tool_map: Dict[\u001b[38;5;28mstr\u001b[39m, BaseTool],\n\u001b[1;32m   (...)\u001b[0m\n\u001b[0;32m   1052\u001b[0m     run_manager: Optional[CallbackManagerForChainRun] \u001b[38;5;241m=\u001b[39m \u001b[38;5;28;01mNone\u001b[39;00m,\n\u001b[0;32m   1053\u001b[0m ) \u001b[38;5;241m-\u001b[39m\u001b[38;5;241m>\u001b[39m Union[AgentFinish, List[Tuple[AgentAction, \u001b[38;5;28mstr\u001b[39m]]]:\n\u001b[0;32m   1054\u001b[0m     \u001b[38;5;28;01mreturn\u001b[39;00m \u001b[38;5;28mself\u001b[39m\u001b[38;5;241m.\u001b[39m_consume_next_step(\n\u001b[1;32m-> 1055\u001b[0m         [\n\u001b[0;32m   1056\u001b[0m             a\n\u001b[0;32m   1057\u001b[0m             \u001b[38;5;28;01mfor\u001b[39;00m a \u001b[38;5;129;01min\u001b[39;00m \u001b[38;5;28mself\u001b[39m\u001b[38;5;241m.\u001b[39m_iter_next_step(\n\u001b[0;32m   1058\u001b[0m                 name_to_tool_map,\n\u001b[0;32m   1059\u001b[0m                 color_mapping,\n\u001b[0;32m   1060\u001b[0m                 inputs,\n\u001b[0;32m   1061\u001b[0m                 intermediate_steps,\n\u001b[0;32m   1062\u001b[0m                 run_manager,\n\u001b[0;32m   1063\u001b[0m             )\n\u001b[0;32m   1064\u001b[0m         ]\n\u001b[0;32m   1065\u001b[0m     )\n",
            "File \u001b[1;32m~\\AppData\\Roaming\\Python\\Python310\\site-packages\\langchain\\agents\\agent.py:1083\u001b[0m, in \u001b[0;36mAgentExecutor._iter_next_step\u001b[1;34m(self, name_to_tool_map, color_mapping, inputs, intermediate_steps, run_manager)\u001b[0m\n\u001b[0;32m   1080\u001b[0m     intermediate_steps \u001b[38;5;241m=\u001b[39m \u001b[38;5;28mself\u001b[39m\u001b[38;5;241m.\u001b[39m_prepare_intermediate_steps(intermediate_steps)\n\u001b[0;32m   1082\u001b[0m     \u001b[38;5;66;03m# Call the LLM to see what to do.\u001b[39;00m\n\u001b[1;32m-> 1083\u001b[0m     output \u001b[38;5;241m=\u001b[39m \u001b[38;5;28mself\u001b[39m\u001b[38;5;241m.\u001b[39magent\u001b[38;5;241m.\u001b[39mplan(\n\u001b[0;32m   1084\u001b[0m         intermediate_steps,\n\u001b[0;32m   1085\u001b[0m         callbacks\u001b[38;5;241m=\u001b[39mrun_manager\u001b[38;5;241m.\u001b[39mget_child() \u001b[38;5;28;01mif\u001b[39;00m run_manager \u001b[38;5;28;01melse\u001b[39;00m \u001b[38;5;28;01mNone\u001b[39;00m,\n\u001b[0;32m   1086\u001b[0m         \u001b[38;5;241m*\u001b[39m\u001b[38;5;241m*\u001b[39minputs,\n\u001b[0;32m   1087\u001b[0m     )\n\u001b[0;32m   1088\u001b[0m \u001b[38;5;28;01mexcept\u001b[39;00m OutputParserException \u001b[38;5;28;01mas\u001b[39;00m e:\n\u001b[0;32m   1089\u001b[0m     \u001b[38;5;28;01mif\u001b[39;00m \u001b[38;5;28misinstance\u001b[39m(\u001b[38;5;28mself\u001b[39m\u001b[38;5;241m.\u001b[39mhandle_parsing_errors, \u001b[38;5;28mbool\u001b[39m):\n",
            "File \u001b[1;32m~\\AppData\\Roaming\\Python\\Python310\\site-packages\\langchain\\agents\\agent.py:652\u001b[0m, in \u001b[0;36mAgent.plan\u001b[1;34m(self, intermediate_steps, callbacks, **kwargs)\u001b[0m\n\u001b[0;32m    640\u001b[0m \u001b[38;5;250m\u001b[39m\u001b[38;5;124;03m\"\"\"Given input, decided what to do.\u001b[39;00m\n\u001b[0;32m    641\u001b[0m \n\u001b[0;32m    642\u001b[0m \u001b[38;5;124;03mArgs:\u001b[39;00m\n\u001b[1;32m   (...)\u001b[0m\n\u001b[0;32m    649\u001b[0m \u001b[38;5;124;03m    Action specifying what tool to use.\u001b[39;00m\n\u001b[0;32m    650\u001b[0m \u001b[38;5;124;03m\"\"\"\u001b[39;00m\n\u001b[0;32m    651\u001b[0m full_inputs \u001b[38;5;241m=\u001b[39m \u001b[38;5;28mself\u001b[39m\u001b[38;5;241m.\u001b[39mget_full_inputs(intermediate_steps, \u001b[38;5;241m*\u001b[39m\u001b[38;5;241m*\u001b[39mkwargs)\n\u001b[1;32m--> 652\u001b[0m full_output \u001b[38;5;241m=\u001b[39m \u001b[38;5;28mself\u001b[39m\u001b[38;5;241m.\u001b[39mllm_chain\u001b[38;5;241m.\u001b[39mpredict(callbacks\u001b[38;5;241m=\u001b[39mcallbacks, \u001b[38;5;241m*\u001b[39m\u001b[38;5;241m*\u001b[39mfull_inputs)\n\u001b[0;32m    653\u001b[0m \u001b[38;5;28;01mreturn\u001b[39;00m \u001b[38;5;28mself\u001b[39m\u001b[38;5;241m.\u001b[39moutput_parser\u001b[38;5;241m.\u001b[39mparse(full_output)\n",
            "File \u001b[1;32m~\\AppData\\Roaming\\Python\\Python310\\site-packages\\langchain\\chains\\llm.py:293\u001b[0m, in \u001b[0;36mLLMChain.predict\u001b[1;34m(self, callbacks, **kwargs)\u001b[0m\n\u001b[0;32m    278\u001b[0m \u001b[38;5;28;01mdef\u001b[39;00m \u001b[38;5;21mpredict\u001b[39m(\u001b[38;5;28mself\u001b[39m, callbacks: Callbacks \u001b[38;5;241m=\u001b[39m \u001b[38;5;28;01mNone\u001b[39;00m, \u001b[38;5;241m*\u001b[39m\u001b[38;5;241m*\u001b[39mkwargs: Any) \u001b[38;5;241m-\u001b[39m\u001b[38;5;241m>\u001b[39m \u001b[38;5;28mstr\u001b[39m:\n\u001b[0;32m    279\u001b[0m \u001b[38;5;250m    \u001b[39m\u001b[38;5;124;03m\"\"\"Format prompt with kwargs and pass to LLM.\u001b[39;00m\n\u001b[0;32m    280\u001b[0m \n\u001b[0;32m    281\u001b[0m \u001b[38;5;124;03m    Args:\u001b[39;00m\n\u001b[1;32m   (...)\u001b[0m\n\u001b[0;32m    291\u001b[0m \u001b[38;5;124;03m            completion = llm.predict(adjective=\"funny\")\u001b[39;00m\n\u001b[0;32m    292\u001b[0m \u001b[38;5;124;03m    \"\"\"\u001b[39;00m\n\u001b[1;32m--> 293\u001b[0m     \u001b[38;5;28;01mreturn\u001b[39;00m \u001b[38;5;28;43mself\u001b[39;49m\u001b[43m(\u001b[49m\u001b[43mkwargs\u001b[49m\u001b[43m,\u001b[49m\u001b[43m \u001b[49m\u001b[43mcallbacks\u001b[49m\u001b[38;5;241;43m=\u001b[39;49m\u001b[43mcallbacks\u001b[49m\u001b[43m)\u001b[49m[\u001b[38;5;28mself\u001b[39m\u001b[38;5;241m.\u001b[39moutput_key]\n",
            "File \u001b[1;32m~\\AppData\\Roaming\\Python\\Python310\\site-packages\\langchain_core\\_api\\deprecation.py:145\u001b[0m, in \u001b[0;36mdeprecated.<locals>.deprecate.<locals>.warning_emitting_wrapper\u001b[1;34m(*args, **kwargs)\u001b[0m\n\u001b[0;32m    143\u001b[0m     warned \u001b[38;5;241m=\u001b[39m \u001b[38;5;28;01mTrue\u001b[39;00m\n\u001b[0;32m    144\u001b[0m     emit_warning()\n\u001b[1;32m--> 145\u001b[0m \u001b[38;5;28;01mreturn\u001b[39;00m wrapped(\u001b[38;5;241m*\u001b[39margs, \u001b[38;5;241m*\u001b[39m\u001b[38;5;241m*\u001b[39mkwargs)\n",
            "File \u001b[1;32m~\\AppData\\Roaming\\Python\\Python310\\site-packages\\langchain\\chains\\base.py:363\u001b[0m, in \u001b[0;36mChain.__call__\u001b[1;34m(self, inputs, return_only_outputs, callbacks, tags, metadata, run_name, include_run_info)\u001b[0m\n\u001b[0;32m    331\u001b[0m \u001b[38;5;250m\u001b[39m\u001b[38;5;124;03m\"\"\"Execute the chain.\u001b[39;00m\n\u001b[0;32m    332\u001b[0m \n\u001b[0;32m    333\u001b[0m \u001b[38;5;124;03mArgs:\u001b[39;00m\n\u001b[1;32m   (...)\u001b[0m\n\u001b[0;32m    354\u001b[0m \u001b[38;5;124;03m        `Chain.output_keys`.\u001b[39;00m\n\u001b[0;32m    355\u001b[0m \u001b[38;5;124;03m\"\"\"\u001b[39;00m\n\u001b[0;32m    356\u001b[0m config \u001b[38;5;241m=\u001b[39m {\n\u001b[0;32m    357\u001b[0m     \u001b[38;5;124m\"\u001b[39m\u001b[38;5;124mcallbacks\u001b[39m\u001b[38;5;124m\"\u001b[39m: callbacks,\n\u001b[0;32m    358\u001b[0m     \u001b[38;5;124m\"\u001b[39m\u001b[38;5;124mtags\u001b[39m\u001b[38;5;124m\"\u001b[39m: tags,\n\u001b[0;32m    359\u001b[0m     \u001b[38;5;124m\"\u001b[39m\u001b[38;5;124mmetadata\u001b[39m\u001b[38;5;124m\"\u001b[39m: metadata,\n\u001b[0;32m    360\u001b[0m     \u001b[38;5;124m\"\u001b[39m\u001b[38;5;124mrun_name\u001b[39m\u001b[38;5;124m\"\u001b[39m: run_name,\n\u001b[0;32m    361\u001b[0m }\n\u001b[1;32m--> 363\u001b[0m \u001b[38;5;28;01mreturn\u001b[39;00m \u001b[38;5;28;43mself\u001b[39;49m\u001b[38;5;241;43m.\u001b[39;49m\u001b[43minvoke\u001b[49m\u001b[43m(\u001b[49m\n\u001b[0;32m    364\u001b[0m \u001b[43m    \u001b[49m\u001b[43minputs\u001b[49m\u001b[43m,\u001b[49m\n\u001b[0;32m    365\u001b[0m \u001b[43m    \u001b[49m\u001b[43mcast\u001b[49m\u001b[43m(\u001b[49m\u001b[43mRunnableConfig\u001b[49m\u001b[43m,\u001b[49m\u001b[43m \u001b[49m\u001b[43m{\u001b[49m\u001b[43mk\u001b[49m\u001b[43m:\u001b[49m\u001b[43m \u001b[49m\u001b[43mv\u001b[49m\u001b[43m \u001b[49m\u001b[38;5;28;43;01mfor\u001b[39;49;00m\u001b[43m \u001b[49m\u001b[43mk\u001b[49m\u001b[43m,\u001b[49m\u001b[43m \u001b[49m\u001b[43mv\u001b[49m\u001b[43m \u001b[49m\u001b[38;5;129;43;01min\u001b[39;49;00m\u001b[43m \u001b[49m\u001b[43mconfig\u001b[49m\u001b[38;5;241;43m.\u001b[39;49m\u001b[43mitems\u001b[49m\u001b[43m(\u001b[49m\u001b[43m)\u001b[49m\u001b[43m \u001b[49m\u001b[38;5;28;43;01mif\u001b[39;49;00m\u001b[43m \u001b[49m\u001b[43mv\u001b[49m\u001b[43m \u001b[49m\u001b[38;5;129;43;01mis\u001b[39;49;00m\u001b[43m \u001b[49m\u001b[38;5;129;43;01mnot\u001b[39;49;00m\u001b[43m \u001b[49m\u001b[38;5;28;43;01mNone\u001b[39;49;00m\u001b[43m}\u001b[49m\u001b[43m)\u001b[49m\u001b[43m,\u001b[49m\n\u001b[0;32m    366\u001b[0m \u001b[43m    \u001b[49m\u001b[43mreturn_only_outputs\u001b[49m\u001b[38;5;241;43m=\u001b[39;49m\u001b[43mreturn_only_outputs\u001b[49m\u001b[43m,\u001b[49m\n\u001b[0;32m    367\u001b[0m \u001b[43m    \u001b[49m\u001b[43minclude_run_info\u001b[49m\u001b[38;5;241;43m=\u001b[39;49m\u001b[43minclude_run_info\u001b[49m\u001b[43m,\u001b[49m\n\u001b[0;32m    368\u001b[0m \u001b[43m\u001b[49m\u001b[43m)\u001b[49m\n",
            "File \u001b[1;32m~\\AppData\\Roaming\\Python\\Python310\\site-packages\\langchain\\chains\\base.py:162\u001b[0m, in \u001b[0;36mChain.invoke\u001b[1;34m(self, input, config, **kwargs)\u001b[0m\n\u001b[0;32m    160\u001b[0m \u001b[38;5;28;01mexcept\u001b[39;00m \u001b[38;5;167;01mBaseException\u001b[39;00m \u001b[38;5;28;01mas\u001b[39;00m e:\n\u001b[0;32m    161\u001b[0m     run_manager\u001b[38;5;241m.\u001b[39mon_chain_error(e)\n\u001b[1;32m--> 162\u001b[0m     \u001b[38;5;28;01mraise\u001b[39;00m e\n\u001b[0;32m    163\u001b[0m run_manager\u001b[38;5;241m.\u001b[39mon_chain_end(outputs)\n\u001b[0;32m    164\u001b[0m final_outputs: Dict[\u001b[38;5;28mstr\u001b[39m, Any] \u001b[38;5;241m=\u001b[39m \u001b[38;5;28mself\u001b[39m\u001b[38;5;241m.\u001b[39mprep_outputs(\n\u001b[0;32m    165\u001b[0m     inputs, outputs, return_only_outputs\n\u001b[0;32m    166\u001b[0m )\n",
            "File \u001b[1;32m~\\AppData\\Roaming\\Python\\Python310\\site-packages\\langchain\\chains\\base.py:156\u001b[0m, in \u001b[0;36mChain.invoke\u001b[1;34m(self, input, config, **kwargs)\u001b[0m\n\u001b[0;32m    149\u001b[0m run_manager \u001b[38;5;241m=\u001b[39m callback_manager\u001b[38;5;241m.\u001b[39mon_chain_start(\n\u001b[0;32m    150\u001b[0m     dumpd(\u001b[38;5;28mself\u001b[39m),\n\u001b[0;32m    151\u001b[0m     inputs,\n\u001b[0;32m    152\u001b[0m     name\u001b[38;5;241m=\u001b[39mrun_name,\n\u001b[0;32m    153\u001b[0m )\n\u001b[0;32m    154\u001b[0m \u001b[38;5;28;01mtry\u001b[39;00m:\n\u001b[0;32m    155\u001b[0m     outputs \u001b[38;5;241m=\u001b[39m (\n\u001b[1;32m--> 156\u001b[0m         \u001b[38;5;28;43mself\u001b[39;49m\u001b[38;5;241;43m.\u001b[39;49m\u001b[43m_call\u001b[49m\u001b[43m(\u001b[49m\u001b[43minputs\u001b[49m\u001b[43m,\u001b[49m\u001b[43m \u001b[49m\u001b[43mrun_manager\u001b[49m\u001b[38;5;241;43m=\u001b[39;49m\u001b[43mrun_manager\u001b[49m\u001b[43m)\u001b[49m\n\u001b[0;32m    157\u001b[0m         \u001b[38;5;28;01mif\u001b[39;00m new_arg_supported\n\u001b[0;32m    158\u001b[0m         \u001b[38;5;28;01melse\u001b[39;00m \u001b[38;5;28mself\u001b[39m\u001b[38;5;241m.\u001b[39m_call(inputs)\n\u001b[0;32m    159\u001b[0m     )\n\u001b[0;32m    160\u001b[0m \u001b[38;5;28;01mexcept\u001b[39;00m \u001b[38;5;167;01mBaseException\u001b[39;00m \u001b[38;5;28;01mas\u001b[39;00m e:\n\u001b[0;32m    161\u001b[0m     run_manager\u001b[38;5;241m.\u001b[39mon_chain_error(e)\n",
            "File \u001b[1;32m~\\AppData\\Roaming\\Python\\Python310\\site-packages\\langchain\\chains\\llm.py:103\u001b[0m, in \u001b[0;36mLLMChain._call\u001b[1;34m(self, inputs, run_manager)\u001b[0m\n\u001b[0;32m     98\u001b[0m \u001b[38;5;28;01mdef\u001b[39;00m \u001b[38;5;21m_call\u001b[39m(\n\u001b[0;32m     99\u001b[0m     \u001b[38;5;28mself\u001b[39m,\n\u001b[0;32m    100\u001b[0m     inputs: Dict[\u001b[38;5;28mstr\u001b[39m, Any],\n\u001b[0;32m    101\u001b[0m     run_manager: Optional[CallbackManagerForChainRun] \u001b[38;5;241m=\u001b[39m \u001b[38;5;28;01mNone\u001b[39;00m,\n\u001b[0;32m    102\u001b[0m ) \u001b[38;5;241m-\u001b[39m\u001b[38;5;241m>\u001b[39m Dict[\u001b[38;5;28mstr\u001b[39m, \u001b[38;5;28mstr\u001b[39m]:\n\u001b[1;32m--> 103\u001b[0m     response \u001b[38;5;241m=\u001b[39m \u001b[38;5;28;43mself\u001b[39;49m\u001b[38;5;241;43m.\u001b[39;49m\u001b[43mgenerate\u001b[49m\u001b[43m(\u001b[49m\u001b[43m[\u001b[49m\u001b[43minputs\u001b[49m\u001b[43m]\u001b[49m\u001b[43m,\u001b[49m\u001b[43m \u001b[49m\u001b[43mrun_manager\u001b[49m\u001b[38;5;241;43m=\u001b[39;49m\u001b[43mrun_manager\u001b[49m\u001b[43m)\u001b[49m\n\u001b[0;32m    104\u001b[0m     \u001b[38;5;28;01mreturn\u001b[39;00m \u001b[38;5;28mself\u001b[39m\u001b[38;5;241m.\u001b[39mcreate_outputs(response)[\u001b[38;5;241m0\u001b[39m]\n",
            "File \u001b[1;32m~\\AppData\\Roaming\\Python\\Python310\\site-packages\\langchain\\chains\\llm.py:115\u001b[0m, in \u001b[0;36mLLMChain.generate\u001b[1;34m(self, input_list, run_manager)\u001b[0m\n\u001b[0;32m    113\u001b[0m callbacks \u001b[38;5;241m=\u001b[39m run_manager\u001b[38;5;241m.\u001b[39mget_child() \u001b[38;5;28;01mif\u001b[39;00m run_manager \u001b[38;5;28;01melse\u001b[39;00m \u001b[38;5;28;01mNone\u001b[39;00m\n\u001b[0;32m    114\u001b[0m \u001b[38;5;28;01mif\u001b[39;00m \u001b[38;5;28misinstance\u001b[39m(\u001b[38;5;28mself\u001b[39m\u001b[38;5;241m.\u001b[39mllm, BaseLanguageModel):\n\u001b[1;32m--> 115\u001b[0m     \u001b[38;5;28;01mreturn\u001b[39;00m \u001b[38;5;28mself\u001b[39m\u001b[38;5;241m.\u001b[39mllm\u001b[38;5;241m.\u001b[39mgenerate_prompt(\n\u001b[0;32m    116\u001b[0m         prompts,\n\u001b[0;32m    117\u001b[0m         stop,\n\u001b[0;32m    118\u001b[0m         callbacks\u001b[38;5;241m=\u001b[39mcallbacks,\n\u001b[0;32m    119\u001b[0m         \u001b[38;5;241m*\u001b[39m\u001b[38;5;241m*\u001b[39m\u001b[38;5;28mself\u001b[39m\u001b[38;5;241m.\u001b[39mllm_kwargs,\n\u001b[0;32m    120\u001b[0m     )\n\u001b[0;32m    121\u001b[0m \u001b[38;5;28;01melse\u001b[39;00m:\n\u001b[0;32m    122\u001b[0m     results \u001b[38;5;241m=\u001b[39m \u001b[38;5;28mself\u001b[39m\u001b[38;5;241m.\u001b[39mllm\u001b[38;5;241m.\u001b[39mbind(stop\u001b[38;5;241m=\u001b[39mstop, \u001b[38;5;241m*\u001b[39m\u001b[38;5;241m*\u001b[39m\u001b[38;5;28mself\u001b[39m\u001b[38;5;241m.\u001b[39mllm_kwargs)\u001b[38;5;241m.\u001b[39mbatch(\n\u001b[0;32m    123\u001b[0m         cast(List, prompts), {\u001b[38;5;124m\"\u001b[39m\u001b[38;5;124mcallbacks\u001b[39m\u001b[38;5;124m\"\u001b[39m: callbacks}\n\u001b[0;32m    124\u001b[0m     )\n",
            "File \u001b[1;32m~\\AppData\\Roaming\\Python\\Python310\\site-packages\\langchain_core\\language_models\\llms.py:525\u001b[0m, in \u001b[0;36mBaseLLM.generate_prompt\u001b[1;34m(self, prompts, stop, callbacks, **kwargs)\u001b[0m\n\u001b[0;32m    517\u001b[0m \u001b[38;5;28;01mdef\u001b[39;00m \u001b[38;5;21mgenerate_prompt\u001b[39m(\n\u001b[0;32m    518\u001b[0m     \u001b[38;5;28mself\u001b[39m,\n\u001b[0;32m    519\u001b[0m     prompts: List[PromptValue],\n\u001b[1;32m   (...)\u001b[0m\n\u001b[0;32m    522\u001b[0m     \u001b[38;5;241m*\u001b[39m\u001b[38;5;241m*\u001b[39mkwargs: Any,\n\u001b[0;32m    523\u001b[0m ) \u001b[38;5;241m-\u001b[39m\u001b[38;5;241m>\u001b[39m LLMResult:\n\u001b[0;32m    524\u001b[0m     prompt_strings \u001b[38;5;241m=\u001b[39m [p\u001b[38;5;241m.\u001b[39mto_string() \u001b[38;5;28;01mfor\u001b[39;00m p \u001b[38;5;129;01min\u001b[39;00m prompts]\n\u001b[1;32m--> 525\u001b[0m     \u001b[38;5;28;01mreturn\u001b[39;00m \u001b[38;5;28mself\u001b[39m\u001b[38;5;241m.\u001b[39mgenerate(prompt_strings, stop\u001b[38;5;241m=\u001b[39mstop, callbacks\u001b[38;5;241m=\u001b[39mcallbacks, \u001b[38;5;241m*\u001b[39m\u001b[38;5;241m*\u001b[39mkwargs)\n",
            "File \u001b[1;32m~\\AppData\\Roaming\\Python\\Python310\\site-packages\\langchain_core\\language_models\\llms.py:698\u001b[0m, in \u001b[0;36mBaseLLM.generate\u001b[1;34m(self, prompts, stop, callbacks, tags, metadata, run_name, **kwargs)\u001b[0m\n\u001b[0;32m    682\u001b[0m         \u001b[38;5;28;01mraise\u001b[39;00m \u001b[38;5;167;01mValueError\u001b[39;00m(\n\u001b[0;32m    683\u001b[0m             \u001b[38;5;124m\"\u001b[39m\u001b[38;5;124mAsked to cache, but no cache found at `langchain.cache`.\u001b[39m\u001b[38;5;124m\"\u001b[39m\n\u001b[0;32m    684\u001b[0m         )\n\u001b[0;32m    685\u001b[0m     run_managers \u001b[38;5;241m=\u001b[39m [\n\u001b[0;32m    686\u001b[0m         callback_manager\u001b[38;5;241m.\u001b[39mon_llm_start(\n\u001b[0;32m    687\u001b[0m             dumpd(\u001b[38;5;28mself\u001b[39m),\n\u001b[1;32m   (...)\u001b[0m\n\u001b[0;32m    696\u001b[0m         )\n\u001b[0;32m    697\u001b[0m     ]\n\u001b[1;32m--> 698\u001b[0m     output \u001b[38;5;241m=\u001b[39m \u001b[38;5;28mself\u001b[39m\u001b[38;5;241m.\u001b[39m_generate_helper(\n\u001b[0;32m    699\u001b[0m         prompts, stop, run_managers, \u001b[38;5;28mbool\u001b[39m(new_arg_supported), \u001b[38;5;241m*\u001b[39m\u001b[38;5;241m*\u001b[39mkwargs\n\u001b[0;32m    700\u001b[0m     )\n\u001b[0;32m    701\u001b[0m     \u001b[38;5;28;01mreturn\u001b[39;00m output\n\u001b[0;32m    702\u001b[0m \u001b[38;5;28;01mif\u001b[39;00m \u001b[38;5;28mlen\u001b[39m(missing_prompts) \u001b[38;5;241m>\u001b[39m \u001b[38;5;241m0\u001b[39m:\n",
            "File \u001b[1;32m~\\AppData\\Roaming\\Python\\Python310\\site-packages\\langchain_core\\language_models\\llms.py:562\u001b[0m, in \u001b[0;36mBaseLLM._generate_helper\u001b[1;34m(self, prompts, stop, run_managers, new_arg_supported, **kwargs)\u001b[0m\n\u001b[0;32m    560\u001b[0m     \u001b[38;5;28;01mfor\u001b[39;00m run_manager \u001b[38;5;129;01min\u001b[39;00m run_managers:\n\u001b[0;32m    561\u001b[0m         run_manager\u001b[38;5;241m.\u001b[39mon_llm_error(e, response\u001b[38;5;241m=\u001b[39mLLMResult(generations\u001b[38;5;241m=\u001b[39m[]))\n\u001b[1;32m--> 562\u001b[0m     \u001b[38;5;28;01mraise\u001b[39;00m e\n\u001b[0;32m    563\u001b[0m flattened_outputs \u001b[38;5;241m=\u001b[39m output\u001b[38;5;241m.\u001b[39mflatten()\n\u001b[0;32m    564\u001b[0m \u001b[38;5;28;01mfor\u001b[39;00m manager, flattened_output \u001b[38;5;129;01min\u001b[39;00m \u001b[38;5;28mzip\u001b[39m(run_managers, flattened_outputs):\n",
            "File \u001b[1;32m~\\AppData\\Roaming\\Python\\Python310\\site-packages\\langchain_core\\language_models\\llms.py:549\u001b[0m, in \u001b[0;36mBaseLLM._generate_helper\u001b[1;34m(self, prompts, stop, run_managers, new_arg_supported, **kwargs)\u001b[0m\n\u001b[0;32m    539\u001b[0m \u001b[38;5;28;01mdef\u001b[39;00m \u001b[38;5;21m_generate_helper\u001b[39m(\n\u001b[0;32m    540\u001b[0m     \u001b[38;5;28mself\u001b[39m,\n\u001b[0;32m    541\u001b[0m     prompts: List[\u001b[38;5;28mstr\u001b[39m],\n\u001b[1;32m   (...)\u001b[0m\n\u001b[0;32m    545\u001b[0m     \u001b[38;5;241m*\u001b[39m\u001b[38;5;241m*\u001b[39mkwargs: Any,\n\u001b[0;32m    546\u001b[0m ) \u001b[38;5;241m-\u001b[39m\u001b[38;5;241m>\u001b[39m LLMResult:\n\u001b[0;32m    547\u001b[0m     \u001b[38;5;28;01mtry\u001b[39;00m:\n\u001b[0;32m    548\u001b[0m         output \u001b[38;5;241m=\u001b[39m (\n\u001b[1;32m--> 549\u001b[0m             \u001b[38;5;28mself\u001b[39m\u001b[38;5;241m.\u001b[39m_generate(\n\u001b[0;32m    550\u001b[0m                 prompts,\n\u001b[0;32m    551\u001b[0m                 stop\u001b[38;5;241m=\u001b[39mstop,\n\u001b[0;32m    552\u001b[0m                 \u001b[38;5;66;03m# TODO: support multiple run managers\u001b[39;00m\n\u001b[0;32m    553\u001b[0m                 run_manager\u001b[38;5;241m=\u001b[39mrun_managers[\u001b[38;5;241m0\u001b[39m] \u001b[38;5;28;01mif\u001b[39;00m run_managers \u001b[38;5;28;01melse\u001b[39;00m \u001b[38;5;28;01mNone\u001b[39;00m,\n\u001b[0;32m    554\u001b[0m                 \u001b[38;5;241m*\u001b[39m\u001b[38;5;241m*\u001b[39mkwargs,\n\u001b[0;32m    555\u001b[0m             )\n\u001b[0;32m    556\u001b[0m             \u001b[38;5;28;01mif\u001b[39;00m new_arg_supported\n\u001b[0;32m    557\u001b[0m             \u001b[38;5;28;01melse\u001b[39;00m \u001b[38;5;28mself\u001b[39m\u001b[38;5;241m.\u001b[39m_generate(prompts, stop\u001b[38;5;241m=\u001b[39mstop)\n\u001b[0;32m    558\u001b[0m         )\n\u001b[0;32m    559\u001b[0m     \u001b[38;5;28;01mexcept\u001b[39;00m \u001b[38;5;167;01mBaseException\u001b[39;00m \u001b[38;5;28;01mas\u001b[39;00m e:\n\u001b[0;32m    560\u001b[0m         \u001b[38;5;28;01mfor\u001b[39;00m run_manager \u001b[38;5;129;01min\u001b[39;00m run_managers:\n",
            "File \u001b[1;32m~\\AppData\\Roaming\\Python\\Python310\\site-packages\\langchain_openai\\llms\\base.py:356\u001b[0m, in \u001b[0;36mBaseOpenAI._generate\u001b[1;34m(self, prompts, stop, run_manager, **kwargs)\u001b[0m\n\u001b[0;32m    340\u001b[0m     choices\u001b[38;5;241m.\u001b[39mappend(\n\u001b[0;32m    341\u001b[0m         {\n\u001b[0;32m    342\u001b[0m             \u001b[38;5;124m\"\u001b[39m\u001b[38;5;124mtext\u001b[39m\u001b[38;5;124m\"\u001b[39m: generation\u001b[38;5;241m.\u001b[39mtext,\n\u001b[1;32m   (...)\u001b[0m\n\u001b[0;32m    353\u001b[0m         }\n\u001b[0;32m    354\u001b[0m     )\n\u001b[0;32m    355\u001b[0m \u001b[38;5;28;01melse\u001b[39;00m:\n\u001b[1;32m--> 356\u001b[0m     response \u001b[38;5;241m=\u001b[39m \u001b[38;5;28mself\u001b[39m\u001b[38;5;241m.\u001b[39mclient\u001b[38;5;241m.\u001b[39mcreate(prompt\u001b[38;5;241m=\u001b[39m_prompts, \u001b[38;5;241m*\u001b[39m\u001b[38;5;241m*\u001b[39mparams)\n\u001b[0;32m    357\u001b[0m     \u001b[38;5;28;01mif\u001b[39;00m \u001b[38;5;129;01mnot\u001b[39;00m \u001b[38;5;28misinstance\u001b[39m(response, \u001b[38;5;28mdict\u001b[39m):\n\u001b[0;32m    358\u001b[0m         \u001b[38;5;66;03m# V1 client returns the response in an PyDantic object instead of\u001b[39;00m\n\u001b[0;32m    359\u001b[0m         \u001b[38;5;66;03m# dict. For the transition period, we deep convert it to dict.\u001b[39;00m\n\u001b[0;32m    360\u001b[0m         response \u001b[38;5;241m=\u001b[39m response\u001b[38;5;241m.\u001b[39mdict()\n",
            "File \u001b[1;32m~\\AppData\\Roaming\\Python\\Python310\\site-packages\\openai\\_utils\\_utils.py:275\u001b[0m, in \u001b[0;36mrequired_args.<locals>.inner.<locals>.wrapper\u001b[1;34m(*args, **kwargs)\u001b[0m\n\u001b[0;32m    273\u001b[0m             msg \u001b[38;5;241m=\u001b[39m \u001b[38;5;124mf\u001b[39m\u001b[38;5;124m\"\u001b[39m\u001b[38;5;124mMissing required argument: \u001b[39m\u001b[38;5;132;01m{\u001b[39;00mquote(missing[\u001b[38;5;241m0\u001b[39m])\u001b[38;5;132;01m}\u001b[39;00m\u001b[38;5;124m\"\u001b[39m\n\u001b[0;32m    274\u001b[0m     \u001b[38;5;28;01mraise\u001b[39;00m \u001b[38;5;167;01mTypeError\u001b[39;00m(msg)\n\u001b[1;32m--> 275\u001b[0m \u001b[38;5;28;01mreturn\u001b[39;00m func(\u001b[38;5;241m*\u001b[39margs, \u001b[38;5;241m*\u001b[39m\u001b[38;5;241m*\u001b[39mkwargs)\n",
            "File \u001b[1;32m~\\AppData\\Roaming\\Python\\Python310\\site-packages\\openai\\resources\\completions.py:516\u001b[0m, in \u001b[0;36mCompletions.create\u001b[1;34m(self, model, prompt, best_of, echo, frequency_penalty, logit_bias, logprobs, max_tokens, n, presence_penalty, seed, stop, stream, suffix, temperature, top_p, user, extra_headers, extra_query, extra_body, timeout)\u001b[0m\n\u001b[0;32m    488\u001b[0m \u001b[38;5;129m@required_args\u001b[39m([\u001b[38;5;124m\"\u001b[39m\u001b[38;5;124mmodel\u001b[39m\u001b[38;5;124m\"\u001b[39m, \u001b[38;5;124m\"\u001b[39m\u001b[38;5;124mprompt\u001b[39m\u001b[38;5;124m\"\u001b[39m], [\u001b[38;5;124m\"\u001b[39m\u001b[38;5;124mmodel\u001b[39m\u001b[38;5;124m\"\u001b[39m, \u001b[38;5;124m\"\u001b[39m\u001b[38;5;124mprompt\u001b[39m\u001b[38;5;124m\"\u001b[39m, \u001b[38;5;124m\"\u001b[39m\u001b[38;5;124mstream\u001b[39m\u001b[38;5;124m\"\u001b[39m])\n\u001b[0;32m    489\u001b[0m \u001b[38;5;28;01mdef\u001b[39;00m \u001b[38;5;21mcreate\u001b[39m(\n\u001b[0;32m    490\u001b[0m     \u001b[38;5;28mself\u001b[39m,\n\u001b[1;32m   (...)\u001b[0m\n\u001b[0;32m    514\u001b[0m     timeout: \u001b[38;5;28mfloat\u001b[39m \u001b[38;5;241m|\u001b[39m httpx\u001b[38;5;241m.\u001b[39mTimeout \u001b[38;5;241m|\u001b[39m \u001b[38;5;28;01mNone\u001b[39;00m \u001b[38;5;241m|\u001b[39m NotGiven \u001b[38;5;241m=\u001b[39m NOT_GIVEN,\n\u001b[0;32m    515\u001b[0m ) \u001b[38;5;241m-\u001b[39m\u001b[38;5;241m>\u001b[39m Completion \u001b[38;5;241m|\u001b[39m Stream[Completion]:\n\u001b[1;32m--> 516\u001b[0m     \u001b[38;5;28;01mreturn\u001b[39;00m \u001b[38;5;28;43mself\u001b[39;49m\u001b[38;5;241;43m.\u001b[39;49m\u001b[43m_post\u001b[49m\u001b[43m(\u001b[49m\n\u001b[0;32m    517\u001b[0m \u001b[43m        \u001b[49m\u001b[38;5;124;43m\"\u001b[39;49m\u001b[38;5;124;43m/completions\u001b[39;49m\u001b[38;5;124;43m\"\u001b[39;49m\u001b[43m,\u001b[49m\n\u001b[0;32m    518\u001b[0m \u001b[43m        \u001b[49m\u001b[43mbody\u001b[49m\u001b[38;5;241;43m=\u001b[39;49m\u001b[43mmaybe_transform\u001b[49m\u001b[43m(\u001b[49m\n\u001b[0;32m    519\u001b[0m \u001b[43m            \u001b[49m\u001b[43m{\u001b[49m\n\u001b[0;32m    520\u001b[0m \u001b[43m                \u001b[49m\u001b[38;5;124;43m\"\u001b[39;49m\u001b[38;5;124;43mmodel\u001b[39;49m\u001b[38;5;124;43m\"\u001b[39;49m\u001b[43m:\u001b[49m\u001b[43m \u001b[49m\u001b[43mmodel\u001b[49m\u001b[43m,\u001b[49m\n\u001b[0;32m    521\u001b[0m \u001b[43m                \u001b[49m\u001b[38;5;124;43m\"\u001b[39;49m\u001b[38;5;124;43mprompt\u001b[39;49m\u001b[38;5;124;43m\"\u001b[39;49m\u001b[43m:\u001b[49m\u001b[43m \u001b[49m\u001b[43mprompt\u001b[49m\u001b[43m,\u001b[49m\n\u001b[0;32m    522\u001b[0m \u001b[43m                \u001b[49m\u001b[38;5;124;43m\"\u001b[39;49m\u001b[38;5;124;43mbest_of\u001b[39;49m\u001b[38;5;124;43m\"\u001b[39;49m\u001b[43m:\u001b[49m\u001b[43m \u001b[49m\u001b[43mbest_of\u001b[49m\u001b[43m,\u001b[49m\n\u001b[0;32m    523\u001b[0m \u001b[43m                \u001b[49m\u001b[38;5;124;43m\"\u001b[39;49m\u001b[38;5;124;43mecho\u001b[39;49m\u001b[38;5;124;43m\"\u001b[39;49m\u001b[43m:\u001b[49m\u001b[43m \u001b[49m\u001b[43mecho\u001b[49m\u001b[43m,\u001b[49m\n\u001b[0;32m    524\u001b[0m \u001b[43m                \u001b[49m\u001b[38;5;124;43m\"\u001b[39;49m\u001b[38;5;124;43mfrequency_penalty\u001b[39;49m\u001b[38;5;124;43m\"\u001b[39;49m\u001b[43m:\u001b[49m\u001b[43m \u001b[49m\u001b[43mfrequency_penalty\u001b[49m\u001b[43m,\u001b[49m\n\u001b[0;32m    525\u001b[0m \u001b[43m                \u001b[49m\u001b[38;5;124;43m\"\u001b[39;49m\u001b[38;5;124;43mlogit_bias\u001b[39;49m\u001b[38;5;124;43m\"\u001b[39;49m\u001b[43m:\u001b[49m\u001b[43m \u001b[49m\u001b[43mlogit_bias\u001b[49m\u001b[43m,\u001b[49m\n\u001b[0;32m    526\u001b[0m \u001b[43m                \u001b[49m\u001b[38;5;124;43m\"\u001b[39;49m\u001b[38;5;124;43mlogprobs\u001b[39;49m\u001b[38;5;124;43m\"\u001b[39;49m\u001b[43m:\u001b[49m\u001b[43m \u001b[49m\u001b[43mlogprobs\u001b[49m\u001b[43m,\u001b[49m\n\u001b[0;32m    527\u001b[0m \u001b[43m                \u001b[49m\u001b[38;5;124;43m\"\u001b[39;49m\u001b[38;5;124;43mmax_tokens\u001b[39;49m\u001b[38;5;124;43m\"\u001b[39;49m\u001b[43m:\u001b[49m\u001b[43m \u001b[49m\u001b[43mmax_tokens\u001b[49m\u001b[43m,\u001b[49m\n\u001b[0;32m    528\u001b[0m \u001b[43m                \u001b[49m\u001b[38;5;124;43m\"\u001b[39;49m\u001b[38;5;124;43mn\u001b[39;49m\u001b[38;5;124;43m\"\u001b[39;49m\u001b[43m:\u001b[49m\u001b[43m \u001b[49m\u001b[43mn\u001b[49m\u001b[43m,\u001b[49m\n\u001b[0;32m    529\u001b[0m \u001b[43m                \u001b[49m\u001b[38;5;124;43m\"\u001b[39;49m\u001b[38;5;124;43mpresence_penalty\u001b[39;49m\u001b[38;5;124;43m\"\u001b[39;49m\u001b[43m:\u001b[49m\u001b[43m \u001b[49m\u001b[43mpresence_penalty\u001b[49m\u001b[43m,\u001b[49m\n\u001b[0;32m    530\u001b[0m \u001b[43m                \u001b[49m\u001b[38;5;124;43m\"\u001b[39;49m\u001b[38;5;124;43mseed\u001b[39;49m\u001b[38;5;124;43m\"\u001b[39;49m\u001b[43m:\u001b[49m\u001b[43m \u001b[49m\u001b[43mseed\u001b[49m\u001b[43m,\u001b[49m\n\u001b[0;32m    531\u001b[0m \u001b[43m                \u001b[49m\u001b[38;5;124;43m\"\u001b[39;49m\u001b[38;5;124;43mstop\u001b[39;49m\u001b[38;5;124;43m\"\u001b[39;49m\u001b[43m:\u001b[49m\u001b[43m \u001b[49m\u001b[43mstop\u001b[49m\u001b[43m,\u001b[49m\n\u001b[0;32m    532\u001b[0m \u001b[43m                \u001b[49m\u001b[38;5;124;43m\"\u001b[39;49m\u001b[38;5;124;43mstream\u001b[39;49m\u001b[38;5;124;43m\"\u001b[39;49m\u001b[43m:\u001b[49m\u001b[43m \u001b[49m\u001b[43mstream\u001b[49m\u001b[43m,\u001b[49m\n\u001b[0;32m    533\u001b[0m \u001b[43m                \u001b[49m\u001b[38;5;124;43m\"\u001b[39;49m\u001b[38;5;124;43msuffix\u001b[39;49m\u001b[38;5;124;43m\"\u001b[39;49m\u001b[43m:\u001b[49m\u001b[43m \u001b[49m\u001b[43msuffix\u001b[49m\u001b[43m,\u001b[49m\n\u001b[0;32m    534\u001b[0m \u001b[43m                \u001b[49m\u001b[38;5;124;43m\"\u001b[39;49m\u001b[38;5;124;43mtemperature\u001b[39;49m\u001b[38;5;124;43m\"\u001b[39;49m\u001b[43m:\u001b[49m\u001b[43m \u001b[49m\u001b[43mtemperature\u001b[49m\u001b[43m,\u001b[49m\n\u001b[0;32m    535\u001b[0m \u001b[43m                \u001b[49m\u001b[38;5;124;43m\"\u001b[39;49m\u001b[38;5;124;43mtop_p\u001b[39;49m\u001b[38;5;124;43m\"\u001b[39;49m\u001b[43m:\u001b[49m\u001b[43m \u001b[49m\u001b[43mtop_p\u001b[49m\u001b[43m,\u001b[49m\n\u001b[0;32m    536\u001b[0m \u001b[43m                \u001b[49m\u001b[38;5;124;43m\"\u001b[39;49m\u001b[38;5;124;43muser\u001b[39;49m\u001b[38;5;124;43m\"\u001b[39;49m\u001b[43m:\u001b[49m\u001b[43m \u001b[49m\u001b[43muser\u001b[49m\u001b[43m,\u001b[49m\n\u001b[0;32m    537\u001b[0m \u001b[43m            \u001b[49m\u001b[43m}\u001b[49m\u001b[43m,\u001b[49m\n\u001b[0;32m    538\u001b[0m \u001b[43m            \u001b[49m\u001b[43mcompletion_create_params\u001b[49m\u001b[38;5;241;43m.\u001b[39;49m\u001b[43mCompletionCreateParams\u001b[49m\u001b[43m,\u001b[49m\n\u001b[0;32m    539\u001b[0m \u001b[43m        \u001b[49m\u001b[43m)\u001b[49m\u001b[43m,\u001b[49m\n\u001b[0;32m    540\u001b[0m \u001b[43m        \u001b[49m\u001b[43moptions\u001b[49m\u001b[38;5;241;43m=\u001b[39;49m\u001b[43mmake_request_options\u001b[49m\u001b[43m(\u001b[49m\n\u001b[0;32m    541\u001b[0m \u001b[43m            \u001b[49m\u001b[43mextra_headers\u001b[49m\u001b[38;5;241;43m=\u001b[39;49m\u001b[43mextra_headers\u001b[49m\u001b[43m,\u001b[49m\u001b[43m \u001b[49m\u001b[43mextra_query\u001b[49m\u001b[38;5;241;43m=\u001b[39;49m\u001b[43mextra_query\u001b[49m\u001b[43m,\u001b[49m\u001b[43m \u001b[49m\u001b[43mextra_body\u001b[49m\u001b[38;5;241;43m=\u001b[39;49m\u001b[43mextra_body\u001b[49m\u001b[43m,\u001b[49m\u001b[43m \u001b[49m\u001b[43mtimeout\u001b[49m\u001b[38;5;241;43m=\u001b[39;49m\u001b[43mtimeout\u001b[49m\n\u001b[0;32m    542\u001b[0m \u001b[43m        \u001b[49m\u001b[43m)\u001b[49m\u001b[43m,\u001b[49m\n\u001b[0;32m    543\u001b[0m \u001b[43m        \u001b[49m\u001b[43mcast_to\u001b[49m\u001b[38;5;241;43m=\u001b[39;49m\u001b[43mCompletion\u001b[49m\u001b[43m,\u001b[49m\n\u001b[0;32m    544\u001b[0m \u001b[43m        \u001b[49m\u001b[43mstream\u001b[49m\u001b[38;5;241;43m=\u001b[39;49m\u001b[43mstream\u001b[49m\u001b[43m \u001b[49m\u001b[38;5;129;43;01mor\u001b[39;49;00m\u001b[43m \u001b[49m\u001b[38;5;28;43;01mFalse\u001b[39;49;00m\u001b[43m,\u001b[49m\n\u001b[0;32m    545\u001b[0m \u001b[43m        \u001b[49m\u001b[43mstream_cls\u001b[49m\u001b[38;5;241;43m=\u001b[39;49m\u001b[43mStream\u001b[49m\u001b[43m[\u001b[49m\u001b[43mCompletion\u001b[49m\u001b[43m]\u001b[49m\u001b[43m,\u001b[49m\n\u001b[0;32m    546\u001b[0m \u001b[43m    \u001b[49m\u001b[43m)\u001b[49m\n",
            "File \u001b[1;32m~\\AppData\\Roaming\\Python\\Python310\\site-packages\\openai\\_base_client.py:1208\u001b[0m, in \u001b[0;36mSyncAPIClient.post\u001b[1;34m(self, path, cast_to, body, options, files, stream, stream_cls)\u001b[0m\n\u001b[0;32m   1194\u001b[0m \u001b[38;5;28;01mdef\u001b[39;00m \u001b[38;5;21mpost\u001b[39m(\n\u001b[0;32m   1195\u001b[0m     \u001b[38;5;28mself\u001b[39m,\n\u001b[0;32m   1196\u001b[0m     path: \u001b[38;5;28mstr\u001b[39m,\n\u001b[1;32m   (...)\u001b[0m\n\u001b[0;32m   1203\u001b[0m     stream_cls: \u001b[38;5;28mtype\u001b[39m[_StreamT] \u001b[38;5;241m|\u001b[39m \u001b[38;5;28;01mNone\u001b[39;00m \u001b[38;5;241m=\u001b[39m \u001b[38;5;28;01mNone\u001b[39;00m,\n\u001b[0;32m   1204\u001b[0m ) \u001b[38;5;241m-\u001b[39m\u001b[38;5;241m>\u001b[39m ResponseT \u001b[38;5;241m|\u001b[39m _StreamT:\n\u001b[0;32m   1205\u001b[0m     opts \u001b[38;5;241m=\u001b[39m FinalRequestOptions\u001b[38;5;241m.\u001b[39mconstruct(\n\u001b[0;32m   1206\u001b[0m         method\u001b[38;5;241m=\u001b[39m\u001b[38;5;124m\"\u001b[39m\u001b[38;5;124mpost\u001b[39m\u001b[38;5;124m\"\u001b[39m, url\u001b[38;5;241m=\u001b[39mpath, json_data\u001b[38;5;241m=\u001b[39mbody, files\u001b[38;5;241m=\u001b[39mto_httpx_files(files), \u001b[38;5;241m*\u001b[39m\u001b[38;5;241m*\u001b[39moptions\n\u001b[0;32m   1207\u001b[0m     )\n\u001b[1;32m-> 1208\u001b[0m     \u001b[38;5;28;01mreturn\u001b[39;00m cast(ResponseT, \u001b[38;5;28;43mself\u001b[39;49m\u001b[38;5;241;43m.\u001b[39;49m\u001b[43mrequest\u001b[49m\u001b[43m(\u001b[49m\u001b[43mcast_to\u001b[49m\u001b[43m,\u001b[49m\u001b[43m \u001b[49m\u001b[43mopts\u001b[49m\u001b[43m,\u001b[49m\u001b[43m \u001b[49m\u001b[43mstream\u001b[49m\u001b[38;5;241;43m=\u001b[39;49m\u001b[43mstream\u001b[49m\u001b[43m,\u001b[49m\u001b[43m \u001b[49m\u001b[43mstream_cls\u001b[49m\u001b[38;5;241;43m=\u001b[39;49m\u001b[43mstream_cls\u001b[49m\u001b[43m)\u001b[49m)\n",
            "File \u001b[1;32m~\\AppData\\Roaming\\Python\\Python310\\site-packages\\openai\\_base_client.py:897\u001b[0m, in \u001b[0;36mSyncAPIClient.request\u001b[1;34m(self, cast_to, options, remaining_retries, stream, stream_cls)\u001b[0m\n\u001b[0;32m    888\u001b[0m \u001b[38;5;28;01mdef\u001b[39;00m \u001b[38;5;21mrequest\u001b[39m(\n\u001b[0;32m    889\u001b[0m     \u001b[38;5;28mself\u001b[39m,\n\u001b[0;32m    890\u001b[0m     cast_to: Type[ResponseT],\n\u001b[1;32m   (...)\u001b[0m\n\u001b[0;32m    895\u001b[0m     stream_cls: \u001b[38;5;28mtype\u001b[39m[_StreamT] \u001b[38;5;241m|\u001b[39m \u001b[38;5;28;01mNone\u001b[39;00m \u001b[38;5;241m=\u001b[39m \u001b[38;5;28;01mNone\u001b[39;00m,\n\u001b[0;32m    896\u001b[0m ) \u001b[38;5;241m-\u001b[39m\u001b[38;5;241m>\u001b[39m ResponseT \u001b[38;5;241m|\u001b[39m _StreamT:\n\u001b[1;32m--> 897\u001b[0m     \u001b[38;5;28;01mreturn\u001b[39;00m \u001b[38;5;28;43mself\u001b[39;49m\u001b[38;5;241;43m.\u001b[39;49m\u001b[43m_request\u001b[49m\u001b[43m(\u001b[49m\n\u001b[0;32m    898\u001b[0m \u001b[43m        \u001b[49m\u001b[43mcast_to\u001b[49m\u001b[38;5;241;43m=\u001b[39;49m\u001b[43mcast_to\u001b[49m\u001b[43m,\u001b[49m\n\u001b[0;32m    899\u001b[0m \u001b[43m        \u001b[49m\u001b[43moptions\u001b[49m\u001b[38;5;241;43m=\u001b[39;49m\u001b[43moptions\u001b[49m\u001b[43m,\u001b[49m\n\u001b[0;32m    900\u001b[0m \u001b[43m        \u001b[49m\u001b[43mstream\u001b[49m\u001b[38;5;241;43m=\u001b[39;49m\u001b[43mstream\u001b[49m\u001b[43m,\u001b[49m\n\u001b[0;32m    901\u001b[0m \u001b[43m        \u001b[49m\u001b[43mstream_cls\u001b[49m\u001b[38;5;241;43m=\u001b[39;49m\u001b[43mstream_cls\u001b[49m\u001b[43m,\u001b[49m\n\u001b[0;32m    902\u001b[0m \u001b[43m        \u001b[49m\u001b[43mremaining_retries\u001b[49m\u001b[38;5;241;43m=\u001b[39;49m\u001b[43mremaining_retries\u001b[49m\u001b[43m,\u001b[49m\n\u001b[0;32m    903\u001b[0m \u001b[43m    \u001b[49m\u001b[43m)\u001b[49m\n",
            "File \u001b[1;32m~\\AppData\\Roaming\\Python\\Python310\\site-packages\\openai\\_base_client.py:988\u001b[0m, in \u001b[0;36mSyncAPIClient._request\u001b[1;34m(self, cast_to, options, remaining_retries, stream, stream_cls)\u001b[0m\n\u001b[0;32m    985\u001b[0m         err\u001b[38;5;241m.\u001b[39mresponse\u001b[38;5;241m.\u001b[39mread()\n\u001b[0;32m    987\u001b[0m     log\u001b[38;5;241m.\u001b[39mdebug(\u001b[38;5;124m\"\u001b[39m\u001b[38;5;124mRe-raising status error\u001b[39m\u001b[38;5;124m\"\u001b[39m)\n\u001b[1;32m--> 988\u001b[0m     \u001b[38;5;28;01mraise\u001b[39;00m \u001b[38;5;28mself\u001b[39m\u001b[38;5;241m.\u001b[39m_make_status_error_from_response(err\u001b[38;5;241m.\u001b[39mresponse) \u001b[38;5;28;01mfrom\u001b[39;00m \u001b[38;5;28;01mNone\u001b[39;00m\n\u001b[0;32m    990\u001b[0m \u001b[38;5;28;01mreturn\u001b[39;00m \u001b[38;5;28mself\u001b[39m\u001b[38;5;241m.\u001b[39m_process_response(\n\u001b[0;32m    991\u001b[0m     cast_to\u001b[38;5;241m=\u001b[39mcast_to,\n\u001b[0;32m    992\u001b[0m     options\u001b[38;5;241m=\u001b[39moptions,\n\u001b[1;32m   (...)\u001b[0m\n\u001b[0;32m    995\u001b[0m     stream_cls\u001b[38;5;241m=\u001b[39mstream_cls,\n\u001b[0;32m    996\u001b[0m )\n",
            "\u001b[1;31mBadRequestError\u001b[0m: Error code: 400 - {'error': {'message': \"This model's maximum context length is 8193 tokens, however you requested 14751 tokens (14495 in your prompt; 256 for the completion). Please reduce your prompt; or completion length.\", 'type': 'invalid_request_error', 'param': None, 'code': None}}"
          ]
        }
      ],
      "source": [
        "result = agent.run({\"input\": \"hi, i m bob\"})\n",
        "\n",
        "print(result)"
      ]
    },
    {
      "cell_type": "code",
      "execution_count": null,
      "metadata": {
        "colab": {
          "base_uri": "https://localhost:8080/"
        },
        "id": "pHKmIoU0FeFs",
        "outputId": "56064364-7821-4e61-f275-cc617f0f3231"
      },
      "outputs": [
        {
          "name": "stdout",
          "output_type": "stream",
          "text": [
            "{'input': 'What is large cap market?', 'output': \"The large-cap market refers to the segment of the stock market that consists of companies with a large market capitalization. Market capitalization is calculated by multiplying the total number of a company's outstanding shares by its current stock price. Large-cap companies are typically well-established and have a market capitalization of billions of dollars. These companies are often considered to be more stable and less volatile compared to small-cap or mid-cap companies. Investors often look to large-cap stocks for their potential for steady growth and dividend payments.\"}\n"
          ]
        }
      ],
      "source": [
        "result = agent_executor.invoke({\"input\": \"What is large cap market?\"})\n",
        "print(result)"
      ]
    },
    {
      "cell_type": "code",
      "execution_count": null,
      "metadata": {
        "id": "z4hBtdV67QQ4"
      },
      "outputs": [],
      "source": []
    },
    {
      "cell_type": "code",
      "execution_count": null,
      "metadata": {
        "id": "UoumLqEn7QNf"
      },
      "outputs": [],
      "source": []
    },
    {
      "cell_type": "code",
      "execution_count": null,
      "metadata": {
        "id": "X5rhhNSE7Q50"
      },
      "outputs": [],
      "source": []
    }
  ],
  "metadata": {
    "colab": {
      "authorship_tag": "ABX9TyMpjeYH4gHLOBjE2xIU3mVa",
      "include_colab_link": true,
      "provenance": []
    },
    "kernelspec": {
      "display_name": "Python 3",
      "name": "python3"
    },
    "language_info": {
      "codemirror_mode": {
        "name": "ipython",
        "version": 3
      },
      "file_extension": ".py",
      "mimetype": "text/x-python",
      "name": "python",
      "nbconvert_exporter": "python",
      "pygments_lexer": "ipython3",
      "version": "3.10.9"
    }
  },
  "nbformat": 4,
  "nbformat_minor": 0
}
