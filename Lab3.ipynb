{
  "cells": [
    {
      "cell_type": "markdown",
      "metadata": {
        "colab_type": "text",
        "id": "view-in-github"
      },
      "source": [
        "<a href=\"https://colab.research.google.com/github/anshupandey/Microsoft_Azure_Implementing_Enterprise_GenAI_Applications_with_Azure_OpenAI-/blob/main/Lab3.ipynb\" target=\"_parent\"><img src=\"https://colab.research.google.com/assets/colab-badge.svg\" alt=\"Open In Colab\"/></a>"
      ]
    },
    {
      "cell_type": "markdown",
      "metadata": {
        "id": "SpVgBlJNayoI"
      },
      "source": [
        "# RAG Implementation with Azure OpenAI and LangChain"
      ]
    },
    {
      "cell_type": "code",
      "execution_count": 1,
      "metadata": {
        "colab": {
          "base_uri": "https://localhost:8080/"
        },
        "id": "28d272cd-4e31-40aa-bbb4-0be0a1f49a14",
        "outputId": "9732f606-6c04-4ad7-e0e6-b4d644fa5aa4"
      },
      "outputs": [
        {
          "name": "stderr",
          "output_type": "stream",
          "text": [
            "WARNING: Ignoring invalid distribution -rotobuf (c:\\users\\anshu pandey\\appdata\\roaming\\python\\python310\\site-packages)\n",
            "WARNING: Ignoring invalid distribution -ensorflow-intel (c:\\users\\anshu pandey\\appdata\\roaming\\python\\python310\\site-packages)\n",
            "WARNING: Ignoring invalid distribution -rotobuf (c:\\users\\anshu pandey\\appdata\\roaming\\python\\python310\\site-packages)\n",
            "WARNING: Ignoring invalid distribution -ensorflow-intel (c:\\users\\anshu pandey\\appdata\\roaming\\python\\python310\\site-packages)\n",
            "WARNING: Ignoring invalid distribution -rotobuf (c:\\users\\anshu pandey\\appdata\\roaming\\python\\python310\\site-packages)\n",
            "WARNING: Ignoring invalid distribution -ensorflow-intel (c:\\users\\anshu pandey\\appdata\\roaming\\python\\python310\\site-packages)\n",
            "    WARNING: Ignoring invalid distribution -rotobuf (c:\\users\\anshu pandey\\appdata\\roaming\\python\\python310\\site-packages)\n",
            "    WARNING: Ignoring invalid distribution -ensorflow-intel (c:\\users\\anshu pandey\\appdata\\roaming\\python\\python310\\site-packages)\n",
            "    WARNING: Ignoring invalid distribution -rotobuf (c:\\users\\anshu pandey\\appdata\\roaming\\python\\python310\\site-packages)\n",
            "    WARNING: Ignoring invalid distribution -ensorflow-intel (c:\\users\\anshu pandey\\appdata\\roaming\\python\\python310\\site-packages)\n",
            "WARNING: Ignoring invalid distribution -rotobuf (c:\\users\\anshu pandey\\appdata\\roaming\\python\\python310\\site-packages)\n",
            "WARNING: Ignoring invalid distribution -ensorflow-intel (c:\\users\\anshu pandey\\appdata\\roaming\\python\\python310\\site-packages)\n",
            "WARNING: Ignoring invalid distribution -rotobuf (c:\\users\\anshu pandey\\appdata\\roaming\\python\\python310\\site-packages)\n",
            "WARNING: Ignoring invalid distribution -ensorflow-intel (c:\\users\\anshu pandey\\appdata\\roaming\\python\\python310\\site-packages)\n",
            "WARNING: Ignoring invalid distribution -rotobuf (c:\\users\\anshu pandey\\appdata\\roaming\\python\\python310\\site-packages)\n",
            "WARNING: Ignoring invalid distribution -ensorflow-intel (c:\\users\\anshu pandey\\appdata\\roaming\\python\\python310\\site-packages)\n",
            "ERROR: pip's dependency resolver does not currently take into account all the packages that are installed. This behaviour is the source of the following dependency conflicts.\n",
            "tavily-python 0.3.1 requires tiktoken==0.5.2, but you have tiktoken 0.7.0 which is incompatible.\n",
            "steamship 2.17.34 requires tiktoken~=0.4.0, but you have tiktoken 0.7.0 which is incompatible.\n",
            "llama-index 0.9.48 requires requests>=2.31.0, but you have requests 2.28.2 which is incompatible.\n",
            "llama-index-legacy 0.9.48 requires requests>=2.31.0, but you have requests 2.28.2 which is incompatible.\n",
            "llama-index-core 0.10.18.post1 requires requests>=2.31.0, but you have requests 2.28.2 which is incompatible.\n",
            "langflow 0.6.10 requires pydantic<3.0.0,>=2.6.0, but you have pydantic 1.10.15 which is incompatible.\n",
            "langflow 0.6.10 requires tiktoken<0.7.0,>=0.6.0, but you have tiktoken 0.7.0 which is incompatible.\n",
            "WARNING: Ignoring invalid distribution -rotobuf (c:\\users\\anshu pandey\\appdata\\roaming\\python\\python310\\site-packages)\n",
            "WARNING: Ignoring invalid distribution -ensorflow-intel (c:\\users\\anshu pandey\\appdata\\roaming\\python\\python310\\site-packages)\n",
            "WARNING: Ignoring invalid distribution -rotobuf (c:\\users\\anshu pandey\\appdata\\roaming\\python\\python310\\site-packages)\n",
            "WARNING: Ignoring invalid distribution -ensorflow-intel (c:\\users\\anshu pandey\\appdata\\roaming\\python\\python310\\site-packages)\n",
            "WARNING: Ignoring invalid distribution -rotobuf (c:\\users\\anshu pandey\\appdata\\roaming\\python\\python310\\site-packages)\n",
            "WARNING: Ignoring invalid distribution -ensorflow-intel (c:\\users\\anshu pandey\\appdata\\roaming\\python\\python310\\site-packages)\n"
          ]
        }
      ],
      "source": [
        "!pip install langchain-community langchainhub langchain-openai chromadb langchain langchain-experimental --quiet\n"
      ]
    },
    {
      "cell_type": "code",
      "execution_count": 2,
      "metadata": {
        "colab": {
          "base_uri": "https://localhost:8080/"
        },
        "id": "bLonIlavDBci",
        "outputId": "723d17aa-3376-4997-9988-a995acd2b072"
      },
      "outputs": [
        {
          "name": "stderr",
          "output_type": "stream",
          "text": [
            "WARNING: Ignoring invalid distribution -rotobuf (c:\\users\\anshu pandey\\appdata\\roaming\\python\\python310\\site-packages)\n",
            "WARNING: Ignoring invalid distribution -ensorflow-intel (c:\\users\\anshu pandey\\appdata\\roaming\\python\\python310\\site-packages)\n",
            "WARNING: Ignoring invalid distribution -rotobuf (c:\\users\\anshu pandey\\appdata\\roaming\\python\\python310\\site-packages)\n",
            "WARNING: Ignoring invalid distribution -ensorflow-intel (c:\\users\\anshu pandey\\appdata\\roaming\\python\\python310\\site-packages)\n",
            "  error: subprocess-exited-with-error\n",
            "  \n",
            "  × Building wheel for jq (pyproject.toml) did not run successfully.\n",
            "  │ exit code: 1\n",
            "  ╰─> [5 lines of output]\n",
            "      running bdist_wheel\n",
            "      running build\n",
            "      running build_ext\n",
            "      Executing: ./configure CFLAGS=-fPIC -pthread --disable-maintainer-mode --with-oniguruma=builtin\n",
            "      error: [WinError 2] The system cannot find the file specified\n",
            "      [end of output]\n",
            "  \n",
            "  note: This error originates from a subprocess, and is likely not a problem with pip.\n",
            "  ERROR: Failed building wheel for jq\n",
            "ERROR: Could not build wheels for jq, which is required to install pyproject.toml-based projects\n",
            "WARNING: Ignoring invalid distribution -rotobuf (c:\\users\\anshu pandey\\appdata\\roaming\\python\\python310\\site-packages)\n",
            "WARNING: Ignoring invalid distribution -ensorflow-intel (c:\\users\\anshu pandey\\appdata\\roaming\\python\\python310\\site-packages)\n",
            "WARNING: Ignoring invalid distribution -rotobuf (c:\\users\\anshu pandey\\appdata\\roaming\\python\\python310\\site-packages)\n",
            "WARNING: Ignoring invalid distribution -ensorflow-intel (c:\\users\\anshu pandey\\appdata\\roaming\\python\\python310\\site-packages)\n",
            "WARNING: Ignoring invalid distribution -rotobuf (c:\\users\\anshu pandey\\appdata\\roaming\\python\\python310\\site-packages)\n",
            "WARNING: Ignoring invalid distribution -ensorflow-intel (c:\\users\\anshu pandey\\appdata\\roaming\\python\\python310\\site-packages)\n"
          ]
        }
      ],
      "source": [
        "!pip install pypdf --quiet"
      ]
    },
    {
      "cell_type": "code",
      "execution_count": 12,
      "metadata": {
        "id": "Ja6U3t6abVpU"
      },
      "outputs": [],
      "source": [
        "api_key = \"xxxxxxxxxxxxxxxxxxxxxxxx\"\n",
        "api_version = \"2023-07-01-preview\" # \"2023-05-15\"\n",
        "azure_endpoint = \"https://xxxxxxxxx.openai.azure.com/\"\n",
        "model_name = \"gpt-35-turbo\"\n",
        "embedding_model = \"text-embedding-ada-002\""
      ]
    },
    {
      "cell_type": "code",
      "execution_count": 2,
      "metadata": {
        "id": "fnR_pBonbX34"
      },
      "outputs": [],
      "source": [
        "import os\n",
        "os.environ[\"OPENAI_API_VERSION\"] = api_version\n",
        "os.environ[\"AZURE_OPENAI_ENDPOINT\"] = azure_endpoint\n",
        "os.environ[\"AZURE_OPENAI_API_KEY\"] = api_key"
      ]
    },
    {
      "cell_type": "code",
      "execution_count": 3,
      "metadata": {
        "id": "d8a913b1-0eea-442a-8a64-ec73333f104b"
      },
      "outputs": [],
      "source": [
        "from langchain.text_splitter import RecursiveCharacterTextSplitter\n",
        "from langchain_community.vectorstores import Chroma\n",
        "from langchain_core.output_parsers import StrOutputParser\n",
        "from langchain_core.runnables import RunnablePassthrough"
      ]
    },
    {
      "cell_type": "code",
      "execution_count": 4,
      "metadata": {
        "id": "MGhs4RN7vgXG"
      },
      "outputs": [],
      "source": [
        "doc_paths = [\"https://www.morningstar.com/content/dam/marketing/shared/research/methodology/771945_Morningstar_Rating_for_Funds_Methodology.pdf\",\n",
        "             \"https://www.morningstar.in/docs/methodology/CategoryDefinitionsIndiaV3.pdf\",\n",
        "             \"https://s21.q4cdn.com/198919461/files/doc_downloads/press_kits/2016/Morningstar-Sustainable-Investing-Handbook.pdf\"]"
      ]
    },
    {
      "cell_type": "code",
      "execution_count": 5,
      "metadata": {
        "id": "nhl29sxXD085"
      },
      "outputs": [],
      "source": [
        "from langchain_community.document_loaders import PyPDFLoader\n",
        "\n",
        "loaders = [PyPDFLoader(pdf, extract_images=False) for pdf in doc_paths]\n",
        "\n",
        "docs = []\n",
        "\n",
        "for loader in loaders:\n",
        "    doc = loader.load()\n",
        "    docs.extend(doc)"
      ]
    },
    {
      "cell_type": "code",
      "execution_count": 6,
      "metadata": {
        "colab": {
          "base_uri": "https://localhost:8080/"
        },
        "id": "plYaZJcrwZrd",
        "outputId": "494890bf-219a-47ff-fdb8-6c3806a33f5d"
      },
      "outputs": [
        {
          "data": {
            "text/plain": [
              "46"
            ]
          },
          "execution_count": 6,
          "metadata": {},
          "output_type": "execute_result"
        }
      ],
      "source": [
        "len(docs)"
      ]
    },
    {
      "cell_type": "code",
      "execution_count": 7,
      "metadata": {
        "colab": {
          "base_uri": "https://localhost:8080/"
        },
        "id": "HVLYgpziwdKD",
        "outputId": "c439fa27-33a9-4a3a-b22e-8b93e161c2a3"
      },
      "outputs": [
        {
          "data": {
            "text/plain": [
              "45"
            ]
          },
          "execution_count": 7,
          "metadata": {},
          "output_type": "execute_result"
        }
      ],
      "source": [
        "docs = [doc for doc in docs if len(doc.page_content.strip())>100]\n",
        "len(docs)"
      ]
    },
    {
      "cell_type": "code",
      "execution_count": 8,
      "metadata": {
        "colab": {
          "base_uri": "https://localhost:8080/"
        },
        "id": "msEaKLKqwiOE",
        "outputId": "030bb343-243e-4718-8db3-d4a466eba058"
      },
      "outputs": [
        {
          "data": {
            "text/plain": [
              "2665.911111111111"
            ]
          },
          "execution_count": 8,
          "metadata": {},
          "output_type": "execute_result"
        }
      ],
      "source": [
        "sum(len(doc.page_content) for doc in docs)/len(docs)"
      ]
    },
    {
      "cell_type": "code",
      "execution_count": 9,
      "metadata": {
        "colab": {
          "base_uri": "https://localhost:8080/"
        },
        "id": "qM6hV4DjwkIe",
        "outputId": "95a1e500-863d-4509-cce9-e79d5f0638e1"
      },
      "outputs": [
        {
          "data": {
            "text/plain": [
              "53"
            ]
          },
          "execution_count": 9,
          "metadata": {},
          "output_type": "execute_result"
        }
      ],
      "source": [
        "text_splitter = RecursiveCharacterTextSplitter(chunk_size=3500, chunk_overlap=500)\n",
        "splits = text_splitter.split_documents(docs)\n",
        "len(splits)\n"
      ]
    },
    {
      "cell_type": "code",
      "execution_count": 14,
      "metadata": {
        "colab": {
          "base_uri": "https://localhost:8080/"
        },
        "id": "YpYTraoSwmUj",
        "outputId": "34f34a36-63ad-4808-decc-12df8830c92b"
      },
      "outputs": [
        {
          "name": "stdout",
          "output_type": "stream",
          "text": [
            "©2021 Morningstar, Inc. All rights reserved. The information in this document is the property of Morningstar, Inc. Reproduction or transcription by any means, in whole or in part, without the prior written \n",
            "consent of Morningstar, Inc., is prohibited.\n",
            " The Morningstar RatingTM for Funds    August 2021 Page 3 of 21\n",
            "3\n",
            "3\n",
            "3bond funds domiciled in Europe against other European high-yield bond funds. For more information \n",
            "about available categories, please contact your local Morningstar office.\n",
            "Style Profiles\n",
            "A style profile may be considered a summary of a fund’s risk-factor exposures. Fund categories \n",
            "define groups of funds whose members are similar enough in their risk-factor exposures that return \n",
            "comparisons between them are useful.\n",
            "The risk factors on which fund categories are based can relate to value-growth orientation; \n",
            "capitalization; industry sector, geographic region, and country weights; duration and credit quality; \n",
            "historical return volatility; beta; and many other investment style factors. The specific factors used \n",
            "are considered to be a) important in explaining fund-return differences and b) actively controlled by \n",
            "the fund managers.\n",
            " \n",
            "Because the funds in a given category are similar in their risk-factor exposures, the observed return \n",
            "differences among them relate primarily to security selection (“stock-picking”) or to variation in \n",
            "the timing and amount of exposure to the risk factors that collectively define the category (“asset \n",
            "weighting”). Each of these, over time, may be presumed to have been a skill-related effect.\n",
            "Note that if all members of a fund category were uniform and consistent in their risk factor \n",
            "exposures, and the risk factors were comprehensive, there would be no need to risk-adjust returns \n",
            "when creating category-based star ratings. However, even within a tightly defined category,  \n",
            "the risk exposures of individual funds vary over time. Also, no style profile or category definition is \n",
            "comprehensive enough to capture all risk factors that affect the returns of the funds within  \n",
            "a category.\n",
            "In extreme cases where the funds in a category vary widely in their risk factor exposures (that is,  \n",
            "it is a “convenience category”), a star rating would have little value and is not assigned. For example, \n",
            "in the United States, ratings are not assigned to funds in the bear-market category because  \n",
            "these funds short very different parts of the market. In Europe, ratings are not assigned to funds in \n",
            "the guaranteed category.\n",
            "Defining Fund Categories\n",
            "The following considerations apply when Morningstar defines fund categories:\n",
            "Funds are grouped by the types of investment exposures that dominate their portfolios. \n",
            "In general, a single return benchmark should form a valid basis for evaluating the returns for all funds \n",
            "in a single category (that is, for performance attribution).\n",
            "In general, funds in the same category can be considered reasonable substitutes for the purposes of \n",
            "portfolio construction.\n",
            "Category membership is based on a fund’s long-term or “normal” style profile, based on three \n",
            "years of portfolio statistics. Supplemental analysis includes returns-based style analysis, review of \n",
            "strategy disclosure from fund literature, and qualitative review by analysts.  3\n",
            "3\n",
            "3\n",
            "3\n"
          ]
        }
      ],
      "source": [
        "print(splits[2].page_content)"
      ]
    },
    {
      "cell_type": "code",
      "execution_count": 15,
      "metadata": {
        "id": "l2B32z8TcWoU"
      },
      "outputs": [],
      "source": [
        "from langchain_openai import AzureOpenAIEmbeddings\n",
        "\n",
        "embeddings = AzureOpenAIEmbeddings(azure_deployment=embedding_model)"
      ]
    },
    {
      "cell_type": "code",
      "execution_count": 30,
      "metadata": {
        "colab": {
          "base_uri": "https://localhost:8080/",
          "height": 321
        },
        "id": "gbSAbl22wopB",
        "outputId": "443e1433-e4d7-4249-cf22-4f5aded8e1c2"
      },
      "outputs": [],
      "source": [
        "# initializng the vector store using CHromaDB\n",
        "#from langchain_community.vectorstores import FAISS\n",
        "#from langchain.embeddings import HuggingFaceBgeEmbeddings\n",
        "#embedding_model_name = \"BAAI/bge-large-en-v1.5\"\n",
        "#embeddings = HuggingFaceBgeEmbeddings(  model_name=embedding_model_name,)\n",
        "\n"
      ]
    },
    {
      "cell_type": "code",
      "execution_count": 16,
      "metadata": {},
      "outputs": [],
      "source": [
        "from langchain_community.vectorstores import FAISS\n",
        "vectorstore = FAISS.from_documents(documents=splits, embedding=embeddings)\n",
        "retriever = vectorstore.as_retriever(search_type=\"similarity\", search_kwargs={\"k\": 2})"
      ]
    },
    {
      "cell_type": "code",
      "execution_count": 17,
      "metadata": {
        "colab": {
          "base_uri": "https://localhost:8080/",
          "height": 159
        },
        "id": "mfJHg61Uw6BP",
        "outputId": "3ce3f2b9-d711-4f4c-9054-0000508f9b9f"
      },
      "outputs": [
        {
          "data": {
            "text/plain": [
              "2"
            ]
          },
          "execution_count": 17,
          "metadata": {},
          "output_type": "execute_result"
        }
      ],
      "source": [
        "retrieved_docs = retriever.invoke(\"What is Large Cap equity fund\")\n",
        "len(retrieved_docs)"
      ]
    },
    {
      "cell_type": "code",
      "execution_count": 18,
      "metadata": {
        "colab": {
          "base_uri": "https://localhost:8080/"
        },
        "id": "DNIGp-p9w6BV",
        "outputId": "3910a673-677b-4cea-8fcd-95e453bab413"
      },
      "outputs": [
        {
          "name": "stdout",
          "output_type": "stream",
          "text": [
            "?  \n",
            " \n",
            " \n",
            " \n",
            " \n",
            " \n",
            " \n",
            " \n",
            " \n",
            " \n",
            " \n",
            " Categor y Definitions  \n",
            "India \n",
            "Equity  \n",
            " \n",
            "Large-Cap \n",
            "Large-Cap funds primarily consist of stocks which a re the Top 100 stocks by full market capitalization  of \n",
            "the equity market. These funds invest at least 80% of total assets in Indian equities and the balance can \n",
            "be invested in other asset classes such as fixed in come and overseas equities, among others. Funds in \n",
            "this category would invest at least 80% of their to tal assets in large-cap stocks. \n",
            "Morningstar Category Index: S&P BSE 100 TR \n",
            " \n",
            "Mid-Cap \n",
            "Mid-Cap funds primarily consist of stocks ranked 10 1st to 250th by full market capitalization of the \n",
            "equity market. These funds invest at least 65% of t otal assets in Indian equities, and the balance can  be \n",
            "invested in other asset classes such as fixed incom e and overseas equities, among others. Funds in thi s \n",
            "category would invest at least 65% of their total a ssets in mid-cap stocks. \n",
            "Morningstar Category Index: S&P BSE Mid Cap TR \n",
            " \n",
            "Small-Cap \n",
            "Small-Cap funds primarily consist of stocks ranked 251st onwards by full market capitalization of the \n",
            "equity market. These funds invest at least 65% of t otal assets in Indian equities, and the balance can  be \n",
            "invested in other asset classes such as fixed incom e and overseas equities, among others. Funds in thi s \n",
            "category would invest at least 65% of their total a ssets in small-cap stocks. \n",
            "Morningstar Category Index: S&P BSE Small Cap TR \n",
            " \n",
            "Flexi Cap \n",
            "Flexi Cap funds invest at least 65% of their total assets in Indian equities, and the balance can be \n",
            "invested in other asset classes such as fixed incom e and overseas equities, among others. These funds \n",
            "will invest into a mix of Large, Mid and small-cap stocks. \n",
            "Morningstar Category Index: S&P BSE 500 TR \n",
            " \n",
            " \n",
            " Morningstar Research  \n",
            "April 2021\n"
          ]
        }
      ],
      "source": [
        "print(retrieved_docs[0].page_content)"
      ]
    },
    {
      "cell_type": "code",
      "execution_count": 19,
      "metadata": {
        "colab": {
          "base_uri": "https://localhost:8080/"
        },
        "id": "6tMaR7AVw6BV",
        "outputId": "c12e2a21-2685-4760-83c1-302cc27b4642"
      },
      "outputs": [
        {
          "name": "stdout",
          "output_type": "stream",
          "text": [
            "©2019 Morningstar, Inc. All rights reserved. The in formation in this document is the property of Morni ngstar, Inc. Reproduction or transcription by any m eans, in whole or part, without  \n",
            "the prior written consent of Morningstar, Inc., is prohibited. Category Definitions , India  | 26 February 2021  Page 2 of 12  \n",
            "Multi- Cap \n",
            "Multi-Cap funds invest at least 75% of their total assets in Indian equities, and the balance can be \n",
            "invested in other asset classes such as fixed incom e and overseas equities, among others. These funds \n",
            "will invest a minimum of 25% each in Large Cap, Mid  Cap and Small Cap stocks. \n",
            "Morningstar Category Index: S&P BSE 500 TR \n",
            " \n",
            " \n",
            "Large & Mid- Cap \n",
            "Large & Mid-Cap funds primarily consist of stocks w hich are the Top 250 stocks by full market \n",
            "capitalization of the equity market. These funds in vest at least 70% of total assets in Indian equitie s and \n",
            "the balance can be invested in other asset classes such as fixed income and overseas equities, among \n",
            "others. Funds in this category would invest at leas t 35% of their total assets in large-cap stocks and  35% \n",
            "of their total assets in mid-cap stocks. \n",
            "Morningstar Category Index: S&P BSE 200 TR \n",
            " \n",
            " \n",
            "Global – Other \n",
            "Global – Other funds include those funds that inves t at least 65% of total assets in instruments issue d by \n",
            "overseas i.e. non-Indian companies. In addition, fu nds that invest at least 65% of total assets in \n",
            "exchange traded funds, fund of funds domiciled outs ide India are also included in this category. \n",
            "[Funds in this category do not receive a Morningsta r Rating™ due to the diverse nature of the \n",
            "constituents.] \n",
            " \n",
            "ELSS (Equity Linked Saving Schemes) \n",
            "These funds are notified as ELSS by SEBI under Sect ion 10 (23D). Investments of up to Rs 150,000 in a \n",
            "financial year in these funds are exempt from Incom e Tax under Section 80C of the Income Tax Act, \n",
            "1961. Investments in ELSS are subject to a lock-in of three years from the date of investment. \n",
            "Morningstar Category Index: S&P BSE 200 TR \n",
            " \n",
            "Value Funds   \n",
            "Value funds invest at least 65% of their total asse ts in Indian equities, and the balance can be inves ted in \n",
            "other asset classes such as fixed income and overse as equities, among others. These funds will \n",
            "predominantly invest in value stocks. \n",
            "Morningstar Category Index: S&P BSE 500 TR \n",
            " \n",
            "Contra Funds  \n",
            "Contra funds invest at least 65% of their total ass ets in Indian equities, and the balance can be inve sted \n",
            "in other asset classes such as fixed income and ove rseas equities, among others. These funds will \n",
            "predominantly invest using a contrarian investment theme. \n",
            "Morningstar Category Index: S&P BSE 500 TR\n"
          ]
        }
      ],
      "source": [
        "print(retrieved_docs[1].page_content)"
      ]
    },
    {
      "cell_type": "code",
      "execution_count": 22,
      "metadata": {},
      "outputs": [],
      "source": [
        "from langchain_core.prompts import ChatPromptTemplate\n",
        "from langchain_core.runnables import RunnablePassthrough\n",
        "\n",
        "message = \"\"\"\n",
        "Answer this question using the provided context only.\n",
        "\n",
        "{question}\n",
        "\n",
        "Context:\n",
        "{context}\n",
        "\"\"\"\n",
        "\n",
        "prompt = ChatPromptTemplate.from_messages([(\"human\", message)])\n",
        "\n"
      ]
    },
    {
      "cell_type": "markdown",
      "metadata": {},
      "source": [
        "### Implementing RAG Chain"
      ]
    },
    {
      "cell_type": "code",
      "execution_count": 23,
      "metadata": {},
      "outputs": [],
      "source": [
        "from langchain_openai import AzureChatOpenAI\n",
        "llm = AzureChatOpenAI(deployment_name=model_name)\n",
        "\n",
        "rag_chain = {\"context\": retriever, \"question\": RunnablePassthrough()} | prompt | llm\n"
      ]
    },
    {
      "cell_type": "code",
      "execution_count": 24,
      "metadata": {},
      "outputs": [
        {
          "name": "stdout",
          "output_type": "stream",
          "text": [
            "Mid-Cap funds primarily consist of stocks ranked 101st to 250th by full market capitalization of the equity market. These funds invest at least 65% of total assets in Indian equities, and the balance can be invested in other asset classes such as fixed income and overseas equities, among others. Funds in this category would invest at least 65% of their total assets in mid-cap stocks. Morningstar Category Index: S&P BSE Mid Cap TR.\n"
          ]
        }
      ],
      "source": [
        "response = rag_chain.invoke(\"tell me about mid cap market\")\n",
        "\n",
        "print(response.content)"
      ]
    },
    {
      "cell_type": "markdown",
      "metadata": {},
      "source": [
        "### Implementing RAG Agent"
      ]
    },
    {
      "cell_type": "markdown",
      "metadata": {},
      "source": [
        "### Creating retriever Tool"
      ]
    },
    {
      "cell_type": "code",
      "execution_count": 36,
      "metadata": {},
      "outputs": [],
      "source": [
        "from langchain.tools.retriever import create_retriever_tool\n",
        "\n",
        "tool = create_retriever_tool(\n",
        "    retriever,\n",
        "    \"searchCapitalMarket\",\n",
        "    \"Searches and returns excerpts about trading stocks markets shares capital markets, nothing else\",\n",
        ")\n",
        "tools = [tool,]"
      ]
    },
    {
      "cell_type": "code",
      "execution_count": 37,
      "metadata": {
        "colab": {
          "base_uri": "https://localhost:8080/"
        },
        "id": "LjJoSVp56_G6",
        "outputId": "93e1c300-0f3a-4229-b6de-fd9b05268bff"
      },
      "outputs": [
        {
          "data": {
            "text/plain": [
              "[SystemMessagePromptTemplate(prompt=PromptTemplate(input_variables=[], template='You are a helpful assistant')),\n",
              " MessagesPlaceholder(variable_name='chat_history', optional=True),\n",
              " HumanMessagePromptTemplate(prompt=PromptTemplate(input_variables=['input'], template='{input}')),\n",
              " MessagesPlaceholder(variable_name='agent_scratchpad')]"
            ]
          },
          "execution_count": 37,
          "metadata": {},
          "output_type": "execute_result"
        }
      ],
      "source": [
        "from langchain import hub\n",
        "\n",
        "prompt = hub.pull(\"hwchase17/openai-tools-agent\")\n",
        "prompt.messages\n"
      ]
    },
    {
      "cell_type": "code",
      "execution_count": 38,
      "metadata": {},
      "outputs": [],
      "source": [
        "from langchain.agents import initialize_agent, load_tools, AgentType\n",
        "from langchain_openai import AzureChatOpenAI\n",
        "llm = AzureChatOpenAI(deployment_name=model_name)\n"
      ]
    },
    {
      "cell_type": "code",
      "execution_count": 42,
      "metadata": {},
      "outputs": [],
      "source": [
        "from langchain.agents import AgentExecutor, create_openai_tools_agent\n",
        "\n",
        "agent = create_openai_tools_agent(llm, tools, prompt)\n",
        "agent_executor = AgentExecutor(agent=agent, tools=tools,verbose=True, handle_parsing_errors=True)"
      ]
    },
    {
      "cell_type": "code",
      "execution_count": 44,
      "metadata": {},
      "outputs": [
        {
          "name": "stdout",
          "output_type": "stream",
          "text": [
            "\n",
            "\n",
            "\u001b[1m> Entering new AgentExecutor chain...\u001b[0m\n",
            "\u001b[32;1m\u001b[1;3mHello Anshu! How can I assist you today?\u001b[0m\n",
            "\n",
            "\u001b[1m> Finished chain.\u001b[0m\n",
            "{'input': 'Hi, I am Anshu?', 'output': 'Hello Anshu! How can I assist you today?'}\n"
          ]
        }
      ],
      "source": [
        "result =agent_executor.invoke({\"input\": \"Hi, I am Anshu?\"})\n",
        "print(result)"
      ]
    },
    {
      "cell_type": "code",
      "execution_count": 45,
      "metadata": {
        "colab": {
          "base_uri": "https://localhost:8080/"
        },
        "id": "pHKmIoU0FeFs",
        "outputId": "56064364-7821-4e61-f275-cc617f0f3231"
      },
      "outputs": [
        {
          "name": "stdout",
          "output_type": "stream",
          "text": [
            "\n",
            "\n",
            "\u001b[1m> Entering new AgentExecutor chain...\u001b[0m\n",
            "\u001b[32;1m\u001b[1;3m\n",
            "Invoking: `searchCapitalMarket` with `{'query': 'large cap market'}`\n",
            "\n",
            "\n",
            "\u001b[0m\u001b[36;1m\u001b[1;3m[Document(page_content='?  \\n \\n \\n \\n \\n \\n \\n \\n \\n \\n \\n Categor y Definitions  \\nIndia \\nEquity  \\n \\nLarge-Cap \\nLarge-Cap funds primarily consist of stocks which a re the Top 100 stocks by full market capitalization  of \\nthe equity market. These funds invest at least 80% of total assets in Indian equities and the balance can \\nbe invested in other asset classes such as fixed in come and overseas equities, among others. Funds in \\nthis category would invest at least 80% of their to tal assets in large-cap stocks. \\nMorningstar Category Index: S&P BSE 100 TR \\n \\nMid-Cap \\nMid-Cap funds primarily consist of stocks ranked 10 1st to 250th by full market capitalization of the \\nequity market. These funds invest at least 65% of t otal assets in Indian equities, and the balance can  be \\ninvested in other asset classes such as fixed incom e and overseas equities, among others. Funds in thi s \\ncategory would invest at least 65% of their total a ssets in mid-cap stocks. \\nMorningstar Category Index: S&P BSE Mid Cap TR \\n \\nSmall-Cap \\nSmall-Cap funds primarily consist of stocks ranked 251st onwards by full market capitalization of the \\nequity market. These funds invest at least 65% of t otal assets in Indian equities, and the balance can  be \\ninvested in other asset classes such as fixed incom e and overseas equities, among others. Funds in thi s \\ncategory would invest at least 65% of their total a ssets in small-cap stocks. \\nMorningstar Category Index: S&P BSE Small Cap TR \\n \\nFlexi Cap \\nFlexi Cap funds invest at least 65% of their total assets in Indian equities, and the balance can be \\ninvested in other asset classes such as fixed incom e and overseas equities, among others. These funds \\nwill invest into a mix of Large, Mid and small-cap stocks. \\nMorningstar Category Index: S&P BSE 500 TR \\n \\n \\n Morningstar Research  \\nApril 2021', metadata={'page': 0, 'source': 'https://www.morningstar.in/docs/methodology/CategoryDefinitionsIndiaV3.pdf'}), Document(page_content='©2019 Morningstar, Inc. All rights reserved. The in formation in this document is the property of Morni ngstar, Inc. Reproduction or transcription by any m eans, in whole or part, without  \\nthe prior written consent of Morningstar, Inc., is prohibited. Category Definitions , India  | 26 February 2021  Page 2 of 12  \\nMulti- Cap \\nMulti-Cap funds invest at least 75% of their total assets in Indian equities, and the balance can be \\ninvested in other asset classes such as fixed incom e and overseas equities, among others. These funds \\nwill invest a minimum of 25% each in Large Cap, Mid  Cap and Small Cap stocks. \\nMorningstar Category Index: S&P BSE 500 TR \\n \\n \\nLarge & Mid- Cap \\nLarge & Mid-Cap funds primarily consist of stocks w hich are the Top 250 stocks by full market \\ncapitalization of the equity market. These funds in vest at least 70% of total assets in Indian equitie s and \\nthe balance can be invested in other asset classes such as fixed income and overseas equities, among \\nothers. Funds in this category would invest at leas t 35% of their total assets in large-cap stocks and  35% \\nof their total assets in mid-cap stocks. \\nMorningstar Category Index: S&P BSE 200 TR \\n \\n \\nGlobal – Other \\nGlobal – Other funds include those funds that inves t at least 65% of total assets in instruments issue d by \\noverseas i.e. non-Indian companies. In addition, fu nds that invest at least 65% of total assets in \\nexchange traded funds, fund of funds domiciled outs ide India are also included in this category. \\n[Funds in this category do not receive a Morningsta r Rating™ due to the diverse nature of the \\nconstituents.] \\n \\nELSS (Equity Linked Saving Schemes) \\nThese funds are notified as ELSS by SEBI under Sect ion 10 (23D). Investments of up to Rs 150,000 in a \\nfinancial year in these funds are exempt from Incom e Tax under Section 80C of the Income Tax Act, \\n1961. Investments in ELSS are subject to a lock-in of three years from the date of investment. \\nMorningstar Category Index: S&P BSE 200 TR \\n \\nValue Funds   \\nValue funds invest at least 65% of their total asse ts in Indian equities, and the balance can be inves ted in \\nother asset classes such as fixed income and overse as equities, among others. These funds will \\npredominantly invest in value stocks. \\nMorningstar Category Index: S&P BSE 500 TR \\n \\nContra Funds  \\nContra funds invest at least 65% of their total ass ets in Indian equities, and the balance can be inve sted \\nin other asset classes such as fixed income and ove rseas equities, among others. These funds will \\npredominantly invest using a contrarian investment theme. \\nMorningstar Category Index: S&P BSE 500 TR', metadata={'page': 1, 'source': 'https://www.morningstar.in/docs/methodology/CategoryDefinitionsIndiaV3.pdf'})]\u001b[0m\u001b[32;1m\u001b[1;3mThe large-cap market primarily consists of stocks that are the top 100 stocks by full market capitalization of the equity market. Large-cap funds invest at least 80% of their total assets in these stocks. Large-cap stocks are typically considered to be less volatile and have a proven track record of stability.\u001b[0m\n",
            "\n",
            "\u001b[1m> Finished chain.\u001b[0m\n",
            "{'input': 'What is large cap market?', 'output': 'The large-cap market primarily consists of stocks that are the top 100 stocks by full market capitalization of the equity market. Large-cap funds invest at least 80% of their total assets in these stocks. Large-cap stocks are typically considered to be less volatile and have a proven track record of stability.'}\n"
          ]
        }
      ],
      "source": [
        "result = agent_executor.invoke({\"input\": \"What is large cap market?\"})\n",
        "print(result)"
      ]
    },
    {
      "cell_type": "code",
      "execution_count": null,
      "metadata": {
        "id": "z4hBtdV67QQ4"
      },
      "outputs": [],
      "source": []
    },
    {
      "cell_type": "code",
      "execution_count": null,
      "metadata": {
        "id": "UoumLqEn7QNf"
      },
      "outputs": [],
      "source": []
    },
    {
      "cell_type": "code",
      "execution_count": null,
      "metadata": {
        "id": "X5rhhNSE7Q50"
      },
      "outputs": [],
      "source": []
    }
  ],
  "metadata": {
    "colab": {
      "authorship_tag": "ABX9TyMpjeYH4gHLOBjE2xIU3mVa",
      "include_colab_link": true,
      "provenance": []
    },
    "kernelspec": {
      "display_name": "Python 3",
      "name": "python3"
    },
    "language_info": {
      "codemirror_mode": {
        "name": "ipython",
        "version": 3
      },
      "file_extension": ".py",
      "mimetype": "text/x-python",
      "name": "python",
      "nbconvert_exporter": "python",
      "pygments_lexer": "ipython3",
      "version": "3.10.9"
    }
  },
  "nbformat": 4,
  "nbformat_minor": 0
}
