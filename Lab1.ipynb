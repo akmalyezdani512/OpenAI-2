{
  "nbformat": 4,
  "nbformat_minor": 0,
  "metadata": {
    "colab": {
      "provenance": []
    },
    "kernelspec": {
      "name": "python3",
      "display_name": "Python 3"
    },
    "language_info": {
      "name": "python"
    }
  },
  "cells": [
    {
      "cell_type": "markdown",
      "source": [
        "# Integrating tools/function with LLM using Azure OpenAI"
      ],
      "metadata": {
        "id": "1qm8x2zhhd-8"
      }
    },
    {
      "cell_type": "code",
      "execution_count": 1,
      "metadata": {
        "colab": {
          "base_uri": "https://localhost:8080/"
        },
        "outputId": "dcee60be-8dfc-4600-e9e7-a89b5f7b163d",
        "id": "xu6uxcLphsRz"
      },
      "outputs": [
        {
          "output_type": "stream",
          "name": "stdout",
          "text": [
            "\u001b[2K     \u001b[90m━━━━━━━━━━━━━━━━━━━━━━━━━━━━━━━━━━━━━━━━\u001b[0m \u001b[32m324.1/324.1 kB\u001b[0m \u001b[31m4.2 MB/s\u001b[0m eta \u001b[36m0:00:00\u001b[0m\n",
            "\u001b[2K     \u001b[90m━━━━━━━━━━━━━━━━━━━━━━━━━━━━━━━━━━━━━━━━\u001b[0m \u001b[32m75.6/75.6 kB\u001b[0m \u001b[31m4.8 MB/s\u001b[0m eta \u001b[36m0:00:00\u001b[0m\n",
            "\u001b[2K     \u001b[90m━━━━━━━━━━━━━━━━━━━━━━━━━━━━━━━━━━━━━━━━\u001b[0m \u001b[32m77.9/77.9 kB\u001b[0m \u001b[31m4.6 MB/s\u001b[0m eta \u001b[36m0:00:00\u001b[0m\n",
            "\u001b[2K     \u001b[90m━━━━━━━━━━━━━━━━━━━━━━━━━━━━━━━━━━━━━━━━\u001b[0m \u001b[32m58.3/58.3 kB\u001b[0m \u001b[31m3.6 MB/s\u001b[0m eta \u001b[36m0:00:00\u001b[0m\n",
            "\u001b[?25h"
          ]
        }
      ],
      "source": [
        "!pip install openai --quiet"
      ]
    },
    {
      "cell_type": "code",
      "execution_count": 64,
      "metadata": {
        "id": "xcsuva-JhsR0"
      },
      "outputs": [],
      "source": [
        "import os\n",
        "import requests\n",
        "import json\n",
        "from openai import AzureOpenAI"
      ]
    },
    {
      "cell_type": "code",
      "execution_count": 87,
      "metadata": {
        "id": "GTT0Jc-qhVby"
      },
      "outputs": [],
      "source": [
        "api_key = \"159466d48eaa43b3bb12ebf2d50e81fa\"\n",
        "api_version = \"2023-07-01-preview\" # \"2023-05-15\"\n",
        "azure_endpoint = \"https://anshuopenai.openai.azure.com/\"\n",
        "model_name = \"gpt-35-turbo-16k\""
      ]
    },
    {
      "cell_type": "code",
      "execution_count": 88,
      "metadata": {
        "id": "PLKRALkuhVby"
      },
      "outputs": [],
      "source": [
        "from openai import AzureOpenAI\n",
        "\n",
        "# gets the API Key from environment variable AZURE_OPENAI_API_KEY\n",
        "client = AzureOpenAI(\n",
        "    # https://learn.microsoft.com/en-us/azure/ai-services/openai/reference#rest-api-versioning\n",
        "    api_version=api_version,\n",
        "    # https://learn.microsoft.com/en-us/azure/cognitive-services/openai/how-to/create-resource?pivots=web-portal#create-a-resource\n",
        "    azure_endpoint=azure_endpoint,\n",
        "    api_key = api_key,\n",
        "\n",
        ")"
      ]
    },
    {
      "cell_type": "markdown",
      "source": [
        "In an API call, you can describe functions and have the model intelligently choose to output a JSON object containing arguments to call one or many functions. The Chat Completions API does not call the function; instead, the model generates JSON that you can use to call the function in your code."
      ],
      "metadata": {
        "id": "CMs1SliPer2Q"
      }
    },
    {
      "cell_type": "markdown",
      "source": [
        "## Supported models\n",
        "Not all model versions are trained with function calling data. Function calling is supported with the following models: gpt-4, gpt-4-turbo-preview, gpt-4-0125-preview, gpt-4-1106-preview, gpt-4-0613, gpt-3.5-turbo, gpt-3.5-turbo-0125, gpt-3.5-turbo-1106, and gpt-3.5-turbo-0613\n",
        "\n",
        "In addition, parallel function calls is supported on the following models: gpt-4-turbo-preview, gpt-4-0125-preview, gpt-4-1106-preview, gpt-3.5-turbo-0125, and gpt-3.5-turbo-1106"
      ],
      "metadata": {
        "id": "O6voT6dEZOEQ"
      }
    },
    {
      "cell_type": "code",
      "source": [
        "# Example function hard coded to return the same weather\n",
        "# In production, this could be your backend API or an external API\n",
        "def get_current_weather(location, unit=\"fahrenheit\"):\n",
        "    \"\"\"Get the current weather in a given location\"\"\"\n",
        "    if \"tokyo\" in location.lower():\n",
        "        return json.dumps({\"location\": \"Tokyo\", \"temperature\": \"10\", \"unit\": unit})\n",
        "    elif \"san francisco\" in location.lower():\n",
        "        return json.dumps({\"location\": \"San Francisco\", \"temperature\": \"72\", \"unit\": unit})\n",
        "    elif \"paris\" in location.lower():\n",
        "        return json.dumps({\"location\": \"Paris\", \"temperature\": \"22\", \"unit\": unit})\n",
        "    else:\n",
        "        return json.dumps({\"location\": location, \"temperature\": \"unknown\"})\n"
      ],
      "metadata": {
        "id": "107aABFoiI6R"
      },
      "execution_count": 89,
      "outputs": []
    },
    {
      "cell_type": "code",
      "source": [
        "owm_api = \"29af1cea50a401d8e624eea4660b3f59\"\n",
        "\n",
        "# create a dummy function to respond temperature\n",
        "def get_current_weather2(location, unit=\"fahrenheit\"):\n",
        "  \"This function can be used to fetch the current weather information when provided with details such as location and unit for temperature\"\n",
        "\n",
        "  url = f\"https://api.openweathermap.org/data/2.5/weather?q={location}&appid={owm_api}\"\n",
        "  response = requests.get(url)\n",
        "  temp = response.json()['main']['temp']\n",
        "  forecast = [response.json()['weather'][0]['main'],response.json()['weather'][0]['description']]\n",
        "\n",
        "  weather_info = {\n",
        "      \"location\":location,\n",
        "      \"temperature\":temp,\n",
        "      \"unit\":'Kelvin',\n",
        "      \"forecast\":forecast\n",
        "  }\n",
        "  return json.dumps(weather_info)"
      ],
      "metadata": {
        "id": "FUAVQTH1FCob"
      },
      "execution_count": 90,
      "outputs": []
    },
    {
      "cell_type": "code",
      "source": [
        "get_current_weather(\"Paris\")"
      ],
      "metadata": {
        "colab": {
          "base_uri": "https://localhost:8080/",
          "height": 35
        },
        "id": "zvpewsATGB30",
        "outputId": "01d29cea-3467-4fc5-b124-8f38b473468f"
      },
      "execution_count": 91,
      "outputs": [
        {
          "output_type": "execute_result",
          "data": {
            "text/plain": [
              "'{\"location\": \"Paris\", \"temperature\": \"22\", \"unit\": \"fahrenheit\"}'"
            ],
            "application/vnd.google.colaboratory.intrinsic+json": {
              "type": "string"
            }
          },
          "metadata": {},
          "execution_count": 91
        }
      ]
    },
    {
      "cell_type": "code",
      "source": [
        "get_current_weather2(\"Manila\")"
      ],
      "metadata": {
        "colab": {
          "base_uri": "https://localhost:8080/",
          "height": 35
        },
        "id": "sTPInk2CiVpV",
        "outputId": "bbd31641-53d2-4f91-d578-9d5ec50c4e03"
      },
      "execution_count": 92,
      "outputs": [
        {
          "output_type": "execute_result",
          "data": {
            "text/plain": [
              "'{\"location\": \"Manila\", \"temperature\": 299.82, \"unit\": \"Kelvin\", \"forecast\": [\"Clouds\", \"broken clouds\"]}'"
            ],
            "application/vnd.google.colaboratory.intrinsic+json": {
              "type": "string"
            }
          },
          "metadata": {},
          "execution_count": 92
        }
      ]
    },
    {
      "cell_type": "code",
      "source": [
        "messages = [{\"role\":\"user\",'content':\"what is AI?\"}]\n",
        "results = client.chat.completions.create(model = model_name, messages = messages)\n",
        "results.choices[0].message"
      ],
      "metadata": {
        "id": "6OLj1VFabUCR",
        "outputId": "cb038e0a-fc95-4c8f-9f14-f783a84f494e",
        "colab": {
          "base_uri": "https://localhost:8080/"
        }
      },
      "execution_count": 93,
      "outputs": [
        {
          "output_type": "execute_result",
          "data": {
            "text/plain": [
              "ChatCompletionMessage(content='AI stands for Artificial Intelligence. It refers to the simulation of human intelligence in machines that are programmed to think, learn, and problem-solve like humans. AI involves the development of advanced computer systems capable of performing tasks that would normally require human intelligence, such as visual perception, speech recognition, language translation, decision-making, and problem-solving. AI systems are designed to analyze large amounts of data, learn from patterns, and make predictions or suggestions based on that data. They can also adapt and improve their performance over time with experience. AI finds applications in various fields such as healthcare, finance, education, manufacturing, transportation, and more.', role='assistant', function_call=None, tool_calls=None)"
            ]
          },
          "metadata": {},
          "execution_count": 93
        }
      ]
    },
    {
      "cell_type": "code",
      "source": [
        "tools = [{\n",
        "                            \"type\":\"function\",\n",
        "                            \"function\":{\"name\": \"get_current_weather\",\n",
        "                           \"description\": \"This function can be used to fetch the current weather information when provided with details such as location and unit for temperature\",\n",
        "                           \"parameters\": {\n",
        "                               \"type\": \"object\",\n",
        "                               \"properties\": {\"location\": {\n",
        "                                   \"type\": \"string\",\n",
        "                                   \"description\": \"The name of city/state/country for which weather information is to be fetched\",},},\n",
        "                               \"required\": [\"location\",],},},}]\n",
        "\n",
        "\n",
        "\n",
        "def get_response(messages, tools,model=model_name):\n",
        "  response = client.chat.completions.create(model = model, messages = messages, tools=tools, tool_choice='auto', temperature=0.5,)\n",
        "  response = response.choices[0].message\n",
        "  tool_calls = response.tool_calls\n",
        "\n",
        "  try:\n",
        "    if tool_calls:\n",
        "      print(\"Making a function call\")\n",
        "      # get available functions\n",
        "      available_functions = {\n",
        "          \"get_current_weather\":get_current_weather,\n",
        "      }\n",
        "      print(tool_calls)\n",
        "\n",
        "      # get details to call the function assuming there is only one function call\n",
        "      func_name = tool_calls[0].function.name\n",
        "      func_to_call = available_functions[func_name]\n",
        "      func_args = json.loads(tool_calls[0].function.arguments)\n",
        "\n",
        "      # call the external api by calling the function\n",
        "      func_response = func_to_call(**func_args)\n",
        "\n",
        "      # again make a call to openai api to communicate results from external function/API\n",
        "      messages.append(response)\n",
        "      messages.append(\n",
        "          {\"tool_call_id\":tool_calls[0].id,\n",
        "          \"role\":\"tool\",\n",
        "          \"name\":func_name,\n",
        "          \"content\":str(func_response)}\n",
        "      )\n",
        "\n",
        "      second_response = client.chat.completions.create(\n",
        "      model = \"gpt-3.5-turbo-1106\",\n",
        "      messages = messages)\n",
        "      return second_response\n",
        "    else:\n",
        "      return response.content\n",
        "  except Exception as e:\n",
        "      print(\"Error occurred \",e)\n",
        "      return response\n",
        "\n",
        "\n"
      ],
      "metadata": {
        "id": "9gdvGUJGbheA"
      },
      "execution_count": 97,
      "outputs": []
    },
    {
      "cell_type": "code",
      "source": [
        "messages = [{\"role\": \"user\", \"content\": \"Provide a 2 line explanation for AI\"}]\n",
        "response = get_response(messages, tools)\n",
        "print(response)"
      ],
      "metadata": {
        "colab": {
          "base_uri": "https://localhost:8080/"
        },
        "id": "FWL0wVqFdeBm",
        "outputId": "af1791a3-7e05-4527-e75e-9caefe8bd685"
      },
      "execution_count": 101,
      "outputs": [
        {
          "output_type": "stream",
          "name": "stdout",
          "text": [
            "AI stands for Artificial Intelligence. It is a field of computer science that focuses on creating intelligent machines that can perform tasks that typically require human intelligence, such as speech recognition, decision-making, problem-solving, and learning.\n"
          ]
        }
      ]
    },
    {
      "cell_type": "code",
      "source": [
        "messages = [{\"role\": \"user\", \"content\": \"How is the weather in Tokyo today?\"}]\n",
        "response = get_response(messages, tools)\n",
        "print(response)"
      ],
      "metadata": {
        "colab": {
          "base_uri": "https://localhost:8080/"
        },
        "id": "h0H4DaivdmPW",
        "outputId": "67d2c2f0-8be3-41c2-aee4-7f115fadf366"
      },
      "execution_count": 103,
      "outputs": [
        {
          "output_type": "stream",
          "name": "stdout",
          "text": [
            "Making a function call\n",
            "[ChatCompletionMessageToolCall(id='call_XD5sRUuZxT3v5RvmfJVTq3kU', function=Function(arguments='{\\n  \"location\": \"Tokyo\"\\n}', name='get_current_weather'), type='function')]\n",
            "Error occurred  Error code: 404 - {'error': {'code': 'DeploymentNotFound', 'message': 'The API deployment for this resource does not exist. If you created the deployment within the last 5 minutes, please wait a moment and try again.'}}\n",
            "ChatCompletionMessage(content=None, role='assistant', function_call=None, tool_calls=[ChatCompletionMessageToolCall(id='call_XD5sRUuZxT3v5RvmfJVTq3kU', function=Function(arguments='{\\n  \"location\": \"Tokyo\"\\n}', name='get_current_weather'), type='function')])\n"
          ]
        }
      ]
    },
    {
      "cell_type": "code",
      "source": [],
      "metadata": {
        "id": "OxTpMV2ZczHs"
      },
      "execution_count": null,
      "outputs": []
    }
  ]
}