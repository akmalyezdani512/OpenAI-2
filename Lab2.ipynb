{
  "cells": [
    {
      "cell_type": "markdown",
      "metadata": {
        "id": "jQUfh4Aqtf5E"
      },
      "source": [
        "# Understanding LangChain Agents and Chains"
      ]
    },
    {
      "cell_type": "markdown",
      "metadata": {
        "id": "kEpb9rD2tmhf"
      },
      "source": [
        "## Chains\n",
        "\n",
        "Chains refer to sequences of calls - whether to an LLM, a tool, or a data preprocessing step. The primary supported way to do this is with LCEL.\n",
        "\n",
        "## Agents\n",
        "\n",
        "Agents can be thought of as the chain responsible for deciding what step to take next. This is usually powered by a language model, a prompt, and an output parser.\n",
        "\n",
        "Different agents have different prompting styles for reasoning, different ways of encoding inputs, and different ways of parsing the output. For a full list of built-in agents see agent types. You can also easily b\n",
        "\n",
        "\n",
        "## Chains v/s Agents\n",
        "\n",
        "The core idea of agents is to use a language model to choose a sequence of actions to take. In chains, a sequence of actions is hardcoded (in code). In agents, a language model is used as a reasoning engine to determine which actions to take and in which order.\n",
        "\n",
        "\n"
      ]
    },
    {
      "cell_type": "code",
      "execution_count": 1,
      "metadata": {
        "colab": {
          "base_uri": "https://localhost:8080/"
        },
        "id": "jLDTOetMVUxG",
        "outputId": "59fb5d39-c1e8-42bd-ea13-5647cb42924a"
      },
      "outputs": [
        {
          "name": "stdout",
          "output_type": "stream",
          "text": [
            "\u001b[2K     \u001b[90m━━━━━━━━━━━━━━━━━━━━━━━━━━━━━━━━━━━━━━━━\u001b[0m \u001b[32m310.4/310.4 kB\u001b[0m \u001b[31m7.7 MB/s\u001b[0m eta \u001b[36m0:00:00\u001b[0m\n",
            "\u001b[2K     \u001b[90m━━━━━━━━━━━━━━━━━━━━━━━━━━━━━━━━━━━━━━━━\u001b[0m \u001b[32m324.1/324.1 kB\u001b[0m \u001b[31m10.5 MB/s\u001b[0m eta \u001b[36m0:00:00\u001b[0m\n",
            "\u001b[2K     \u001b[90m━━━━━━━━━━━━━━━━━━━━━━━━━━━━━━━━━━━━━━━━\u001b[0m \u001b[32m1.1/1.1 MB\u001b[0m \u001b[31m17.4 MB/s\u001b[0m eta \u001b[36m0:00:00\u001b[0m\n",
            "\u001b[2K     \u001b[90m━━━━━━━━━━━━━━━━━━━━━━━━━━━━━━━━━━━━━━━━\u001b[0m \u001b[32m124.7/124.7 kB\u001b[0m \u001b[31m9.5 MB/s\u001b[0m eta \u001b[36m0:00:00\u001b[0m\n",
            "\u001b[2K     \u001b[90m━━━━━━━━━━━━━━━━━━━━━━━━━━━━━━━━━━━━━━━━\u001b[0m \u001b[32m53.0/53.0 kB\u001b[0m \u001b[31m5.5 MB/s\u001b[0m eta \u001b[36m0:00:00\u001b[0m\n",
            "\u001b[2K     \u001b[90m━━━━━━━━━━━━━━━━━━━━━━━━━━━━━━━━━━━━━━━━\u001b[0m \u001b[32m75.6/75.6 kB\u001b[0m \u001b[31m7.9 MB/s\u001b[0m eta \u001b[36m0:00:00\u001b[0m\n",
            "\u001b[2K     \u001b[90m━━━━━━━━━━━━━━━━━━━━━━━━━━━━━━━━━━━━━━━━\u001b[0m \u001b[32m77.9/77.9 kB\u001b[0m \u001b[31m8.4 MB/s\u001b[0m eta \u001b[36m0:00:00\u001b[0m\n",
            "\u001b[2K     \u001b[90m━━━━━━━━━━━━━━━━━━━━━━━━━━━━━━━━━━━━━━━━\u001b[0m \u001b[32m58.3/58.3 kB\u001b[0m \u001b[31m6.5 MB/s\u001b[0m eta \u001b[36m0:00:00\u001b[0m\n",
            "\u001b[2K     \u001b[90m━━━━━━━━━━━━━━━━━━━━━━━━━━━━━━━━━━━━━━━━\u001b[0m \u001b[32m142.5/142.5 kB\u001b[0m \u001b[31m10.1 MB/s\u001b[0m eta \u001b[36m0:00:00\u001b[0m\n",
            "\u001b[2K     \u001b[90m━━━━━━━━━━━━━━━━━━━━━━━━━━━━━━━━━━━━━━━━\u001b[0m \u001b[32m973.6/973.6 kB\u001b[0m \u001b[31m9.4 MB/s\u001b[0m eta \u001b[36m0:00:00\u001b[0m\n",
            "\u001b[2K     \u001b[90m━━━━━━━━━━━━━━━━━━━━━━━━━━━━━━━━━━━━━━━━\u001b[0m \u001b[32m199.7/199.7 kB\u001b[0m \u001b[31m12.2 MB/s\u001b[0m eta \u001b[36m0:00:00\u001b[0m\n",
            "\u001b[2K     \u001b[90m━━━━━━━━━━━━━━━━━━━━━━━━━━━━━━━━━━━━━━━━\u001b[0m \u001b[32m2.2/2.2 MB\u001b[0m \u001b[31m22.8 MB/s\u001b[0m eta \u001b[36m0:00:00\u001b[0m\n",
            "\u001b[2K     \u001b[90m━━━━━━━━━━━━━━━━━━━━━━━━━━━━━━━━━━━━━━━━\u001b[0m \u001b[32m49.3/49.3 kB\u001b[0m \u001b[31m5.1 MB/s\u001b[0m eta \u001b[36m0:00:00\u001b[0m\n",
            "\u001b[?25h  Preparing metadata (setup.py) ... \u001b[?25l\u001b[?25hdone\n",
            "  Preparing metadata (setup.py) ... \u001b[?25l\u001b[?25hdone\n",
            "\u001b[2K     \u001b[90m━━━━━━━━━━━━━━━━━━━━━━━━━━━━━━━━━━━━━━━━\u001b[0m \u001b[32m4.5/4.5 MB\u001b[0m \u001b[31m20.4 MB/s\u001b[0m eta \u001b[36m0:00:00\u001b[0m\n",
            "\u001b[?25h  Building wheel for google-search-results (setup.py) ... \u001b[?25l\u001b[?25hdone\n",
            "  Building wheel for wikipedia (setup.py) ... \u001b[?25l\u001b[?25hdone\n"
          ]
        }
      ],
      "source": [
        "# Installing necessary libraries\n",
        "!pip install langchain-openai --quiet\n",
        "!pip install langchain langchain-experimental --quiet\n",
        "!pip install openai google-search-results tiktoken wikipedia pyowm --quiet"
      ]
    },
    {
      "cell_type": "markdown",
      "metadata": {
        "id": "RA32XR5ZL6Fk"
      },
      "source": [
        "# Chains with LangChain"
      ]
    },
    {
      "cell_type": "markdown",
      "metadata": {
        "id": "u513qSbvP2Xn"
      },
      "source": [
        "# OWM Integration"
      ]
    },
    {
      "cell_type": "code",
      "execution_count": 11,
      "metadata": {
        "id": "6mq5LPw6LlLM"
      },
      "outputs": [],
      "source": [
        "api_key = \"xxxxxxxxxxxx\"\n",
        "api_version = \"2023-07-01-preview\" # \"2023-05-15\"\n",
        "azure_endpoint = \"https://xxxxxxx.openai.azure.com/\"\n",
        "model_name = \"gpt-35-turbo\""
      ]
    },
    {
      "cell_type": "code",
      "execution_count": 12,
      "metadata": {
        "id": "zXTTa9eAP8UF"
      },
      "outputs": [],
      "source": [
        "import os\n",
        "os.environ[\"OPENAI_API_VERSION\"] = api_version\n",
        "os.environ[\"AZURE_OPENAI_ENDPOINT\"] = azure_endpoint\n",
        "os.environ[\"AZURE_OPENAI_API_KEY\"] = api_key\n",
        "os.environ[\"OPENWEATHERMAP_API_KEY\"] = \"29af1cea50a401d8e624eea4660b3f59\"\n",
        "os.environ[\"AZURE_OPENAI_API_VERSION\"] = api_version"
      ]
    },
    {
      "cell_type": "markdown",
      "metadata": {},
      "source": [
        "## Implementing a sample language translation chain"
      ]
    },
    {
      "cell_type": "markdown",
      "metadata": {},
      "source": [
        "Chains refer to sequences of calls - whether to an LLM, a tool, or a data preprocessing step.\n",
        "\n",
        "\n"
      ]
    },
    {
      "cell_type": "code",
      "execution_count": 31,
      "metadata": {},
      "outputs": [
        {
          "data": {
            "text/plain": [
              "'Ciao'"
            ]
          },
          "execution_count": 31,
          "metadata": {},
          "output_type": "execute_result"
        }
      ],
      "source": [
        "from langchain_core.prompts import ChatPromptTemplate\n",
        "from langchain_core.output_parsers import StrOutputParser\n",
        "from langchain_openai import AzureChatOpenAI\n",
        "\n",
        "# 1. Create prompt template\n",
        "system_template = \"Translate the following into {language}:\"\n",
        "prompt_template = ChatPromptTemplate.from_messages([\n",
        "    ('system', system_template),\n",
        "    ('user', '{text}')\n",
        "])\n",
        "\n",
        "#2. Initialize the LLM as a model\n",
        "model = AzureChatOpenAI(azure_deployment=model_name,)\n",
        "\n",
        "# 3. Create parser\n",
        "parser = StrOutputParser()\n",
        "\n",
        "# 4. Create chain\n",
        "chain = prompt_template | model | parser\n",
        "\n",
        "\n",
        "chain.invoke({\"language\": \"italian\", \"text\": \"hi\"})"
      ]
    },
    {
      "cell_type": "markdown",
      "metadata": {},
      "source": [
        "## Implementing a database Integration Chain"
      ]
    },
    {
      "cell_type": "code",
      "execution_count": 34,
      "metadata": {},
      "outputs": [],
      "source": [
        "from langchain_openai import AzureChatOpenAI\n",
        "from langchain.utilities import SQLDatabase\n",
        "from langchain_experimental.sql import SQLDatabaseChain\n",
        "\n",
        "\n",
        "db = SQLDatabase.from_uri(\"sqlite:///chinook.db\")\n",
        "llm = AzureChatOpenAI(azure_deployment=model_name,)\n",
        "db_chain = SQLDatabaseChain.from_llm(llm, db, verbose=True)"
      ]
    },
    {
      "cell_type": "code",
      "execution_count": 35,
      "metadata": {},
      "outputs": [
        {
          "name": "stdout",
          "output_type": "stream",
          "text": [
            "\n",
            "\n",
            "\u001b[1m> Entering new SQLDatabaseChain chain...\u001b[0m\n",
            "How many employees are there?\n",
            "SQLQuery:\u001b[32;1m\u001b[1;3mSELECT COUNT(\"EmployeeId\") AS \"Number of Employees\" FROM employees;\u001b[0m\n",
            "SQLResult: \u001b[33;1m\u001b[1;3m[(8,)]\u001b[0m\n",
            "Answer:\u001b[32;1m\u001b[1;3mThere are 8 employees.\u001b[0m\n",
            "\u001b[1m> Finished chain.\u001b[0m\n"
          ]
        },
        {
          "data": {
            "text/plain": [
              "'There are 8 employees.'"
            ]
          },
          "execution_count": 35,
          "metadata": {},
          "output_type": "execute_result"
        }
      ],
      "source": [
        "db_chain.run(\"How many employees are there?\")"
      ]
    },
    {
      "cell_type": "markdown",
      "metadata": {
        "id": "bf2mcCyktE_n"
      },
      "source": [
        "# LangChain AI Agents\n",
        "\n",
        "The core idea of agents is to use a language model to choose a sequence of actions to take. In chains, a sequence of actions is hardcoded (in code). In agents, a language model is used as a reasoning engine to determine which actions to take and in which order.\n",
        "\n"
      ]
    },
    {
      "cell_type": "markdown",
      "metadata": {
        "id": "f8y6smgCtM3L"
      },
      "source": [
        "## Creating a sample LangChain Agent"
      ]
    },
    {
      "cell_type": "markdown",
      "metadata": {
        "id": "L98VX6TNuYnV"
      },
      "source": [
        "# Zero-Shot ReAct Agent"
      ]
    },
    {
      "cell_type": "code",
      "execution_count": 13,
      "metadata": {
        "id": "jbllamVrVenI"
      },
      "outputs": [],
      "source": [
        "# Importing necessary modules for the agent\n",
        "from langchain.agents import load_tools      # Imports the load_tools function for loading various tools in the langchain package\n",
        "from langchain_openai import AzureChatOpenAI # Imports the ChatOpenAI class to interact with OpenAI's models\n"
      ]
    },
    {
      "cell_type": "code",
      "execution_count": 14,
      "metadata": {
        "id": "TX4vDjJIVhLQ"
      },
      "outputs": [],
      "source": [
        "# Initializing a Language Model (LLM) instance\n",
        "llm = AzureChatOpenAI(azure_deployment=model_name,)"
      ]
    },
    {
      "cell_type": "code",
      "execution_count": 15,
      "metadata": {
        "id": "q9J3WmWNVjvX"
      },
      "outputs": [],
      "source": [
        "# Loading specific tools for the agent\n",
        "tool_names = [\"llm-math\"]                    # Lists the tools to be loaded, here it's 'llm-math' for mathematical operations\n",
        "tools = load_tools(tool_names, llm=llm)      # Loads the specified tools and associates them with the initialized LLM\n"
      ]
    },
    {
      "cell_type": "code",
      "execution_count": 22,
      "metadata": {
        "id": "Yf4r0o5FVlA4"
      },
      "outputs": [],
      "source": [
        "# Defining a tool for the agent\n",
        "from langchain.agents import Tool            # Imports the Tool class from langchain.agents\n",
        "tool_list = [Tool(name=\"Math Tool\",          # Names the tool as \"Math Tool\"\n",
        "                  func=tools[0].run,         # Assigns the function to run the first tool in the tools list\n",
        "                  description=\"Tool to calculate math problems, nothing else\")]  # Description of the tool\n"
      ]
    },
    {
      "cell_type": "code",
      "execution_count": 23,
      "metadata": {
        "colab": {
          "base_uri": "https://localhost:8080/"
        },
        "id": "9JZlk7mjVoLm",
        "outputId": "fff93cf7-8781-4524-f114-5738908ff2b6"
      },
      "outputs": [],
      "source": [
        "# Initializing the LangChain Agent\n",
        "from langchain.agents import initialize_agent  # Imports the initialize_agent function\n",
        "agent = initialize_agent(tool_list,            # Provides the list of tools\n",
        "                         llm,                  # Provides the initialized LLM\n",
        "                         agent=\"zero-shot-react-description\",  # Specifies the agent type\n",
        "                         verbose=True,\n",
        "                         handle_parsing_errors=True)         # Enables verbose output for detailed information\n"
      ]
    },
    {
      "cell_type": "code",
      "execution_count": 26,
      "metadata": {},
      "outputs": [
        {
          "name": "stdout",
          "output_type": "stream",
          "text": [
            "\n",
            "\n",
            "\u001b[1m> Entering new AgentExecutor chain...\u001b[0m\n",
            "\u001b[32;1m\u001b[1;3mI should look up the definition of AI\n",
            "Action: \u001b[0m\n",
            "Observation: Invalid Format: Missing 'Action Input:' after 'Action:'\n",
            "Thought:\u001b[32;1m\u001b[1;3mI need to use the Math Tool to find the definition of AI\n",
            "Action: [Math Tool]\n",
            "Action Input: Search \"definition of AI\"\u001b[0m\n",
            "Observation: [Math Tool] is not a valid tool, try one of [Math Tool].\n",
            "Thought:\u001b[32;1m\u001b[1;3mI should search for the definition of AI online\n",
            "Action: \u001b[0m\n",
            "Observation: Invalid Format: Missing 'Action Input:' after 'Action:'\n",
            "Thought:\u001b[32;1m\u001b[1;3mI need to search for the definition of AI online\n",
            "Action: \n",
            "Action Input: Search \"definition of AI\"\u001b[0m\n",
            "Observation:  is not a valid tool, try one of [Math Tool].\n",
            "Thought:\u001b[32;1m\u001b[1;3mI should look up the definition of AI on a search engine\n",
            "Action: \n",
            "Action Input: Search \"definition of AI\"\u001b[0m\n",
            "Observation:  is not a valid tool, try one of [Math Tool].\n",
            "Thought:\u001b[32;1m\u001b[1;3mI should use the Math Tool to calculate the definition of AI\n",
            "Action: [Math Tool]\n",
            "Action Input: Search \"definition of AI\"\u001b[0m\n",
            "Observation: [Math Tool] is not a valid tool, try one of [Math Tool].\n",
            "Thought:\u001b[32;1m\u001b[1;3mI should look up the definition of AI on a reliable website\n",
            "Action: \n",
            "Action Input: Search \"definition of AI\"\u001b[0m\n",
            "Observation:  is not a valid tool, try one of [Math Tool].\n",
            "Thought:\u001b[32;1m\u001b[1;3mI should use a search engine to find the definition of AI\n",
            "Action: \n",
            "Action Input: Search \"definition of AI\"\u001b[0m\n",
            "Observation:  is not a valid tool, try one of [Math Tool].\n",
            "Thought:\u001b[32;1m\u001b[1;3mI should use a search engine to find the definition of AI\n",
            "Action: \n",
            "Action Input: Search \"definition of AI\"\u001b[0m\n",
            "Observation:  is not a valid tool, try one of [Math Tool].\n",
            "Thought:\u001b[32;1m\u001b[1;3mI should use a search engine to find the definition of AI\n",
            "Action: \n",
            "Action Input: Search \"definition of AI\"\u001b[0m\n",
            "Observation:  is not a valid tool, try one of [Math Tool].\n",
            "Thought:\u001b[32;1m\u001b[1;3mI should look up the definition of AI on a reliable website\n",
            "Action: \n",
            "Action Input: Go to a reliable website and search for \"definition of AI\"\u001b[0m\n",
            "Observation:  is not a valid tool, try one of [Math Tool].\n",
            "Thought:\u001b[32;1m\u001b[1;3mI should search for the definition of AI on a reliable website\n",
            "Action: \n",
            "Action Input: Go to a reliable website and search for \"definition of AI\"\u001b[0m\n",
            "Observation:  is not a valid tool, try one of [Math Tool].\n",
            "Thought:\u001b[32;1m\u001b[1;3mI should search for the definition of AI on a reliable website\n",
            "Action: \n",
            "Action Input: Go to a reliable website and search for \"definition of AI\"\u001b[0m\n",
            "Observation:  is not a valid tool, try one of [Math Tool].\n",
            "Thought:\u001b[32;1m\u001b[1;3mI should search for the definition of AI on a reliable website\n",
            "Action: \n",
            "Action Input: Go to a reliable website and search for \"definition of AI\"\u001b[0m\n",
            "Observation:  is not a valid tool, try one of [Math Tool].\n",
            "Thought:\u001b[32;1m\u001b[1;3mI should look up the definition of AI on a reliable website\n",
            "Action: \n",
            "Action Input: Go to a reliable website and search for \"definition of AI\"\u001b[0m\n",
            "Observation:  is not a valid tool, try one of [Math Tool].\n",
            "Thought:\u001b[32;1m\u001b[1;3m\u001b[0m\n",
            "\n",
            "\u001b[1m> Finished chain.\u001b[0m\n"
          ]
        },
        {
          "data": {
            "text/plain": [
              "'Agent stopped due to iteration limit or time limit.'"
            ]
          },
          "execution_count": 26,
          "metadata": {},
          "output_type": "execute_result"
        }
      ],
      "source": [
        "\n",
        "# Running the agent with a sample query\n",
        "agent.run(\"Answer this question: What is AI?\")        # Executes the agent with a mathematical query"
      ]
    },
    {
      "cell_type": "code",
      "execution_count": 25,
      "metadata": {
        "colab": {
          "base_uri": "https://localhost:8080/",
          "height": 230
        },
        "id": "l_iwolCDSwGH",
        "outputId": "18ab4ddc-8d88-43a5-f639-27c2f9a937ad"
      },
      "outputs": [
        {
          "name": "stdout",
          "output_type": "stream",
          "text": [
            "\n",
            "\n",
            "\u001b[1m> Entering new AgentExecutor chain...\u001b[0m\n",
            "\u001b[32;1m\u001b[1;3mI should use the Math Tool to calculate the division problem.\n",
            "Action: [Math Tool]\n",
            "Action Input: 100 / 25\u001b[0m\n",
            "Observation: [Math Tool] is not a valid tool, try one of [Math Tool].\n",
            "Thought:\u001b[32;1m\u001b[1;3mI will use the Math Tool to calculate the division problem.\n",
            "Action: [Math Tool]\n",
            "Action Input: 100 / 25\u001b[0m\n",
            "Observation: [Math Tool] is not a valid tool, try one of [Math Tool].\n",
            "Thought:\u001b[32;1m\u001b[1;3mI will use a calculator to solve the division problem.\n",
            "Action: [Math Tool]\n",
            "Action Input: 100 / 25\u001b[0m\n",
            "Observation: [Math Tool] is not a valid tool, try one of [Math Tool].\n",
            "Thought:\u001b[32;1m\u001b[1;3mI will use a calculator to solve the division problem.\n",
            "Action: Use a calculator\n",
            "Action Input: 100 / 25\u001b[0m\n",
            "Observation: Use a calculator is not a valid tool, try one of [Math Tool].\n",
            "Thought:\u001b[32;1m\u001b[1;3mI will use a calculator to solve the division problem.\n",
            "Action: Use a calculator\n",
            "Action Input: 100 / 25\u001b[0m\n",
            "Observation: Use a calculator is not a valid tool, try one of [Math Tool].\n",
            "Thought:\u001b[32;1m\u001b[1;3mI will use a calculator to solve the division problem.\n",
            "Action: Use a calculator\n",
            "Action Input: 100 ÷ 25\u001b[0m\n",
            "Observation: Use a calculator is not a valid tool, try one of [Math Tool].\n",
            "Thought:\u001b[32;1m\u001b[1;3mI will use the Math Tool to calculate the division problem.\n",
            "Action: [Math Tool]\n",
            "Action Input: 100 ÷ 25\u001b[0m\n",
            "Observation: [Math Tool] is not a valid tool, try one of [Math Tool].\n",
            "Thought:\u001b[32;1m\u001b[1;3mI will use the Math Tool to calculate the division problem.\n",
            "Action: [Math Tool]\n",
            "Action Input: 100 / 25\u001b[0m\n",
            "Observation: [Math Tool] is not a valid tool, try one of [Math Tool].\n",
            "Thought:\u001b[32;1m\u001b[1;3mI will use the Math Tool to calculate the division problem.\n",
            "Action: [Math Tool]\n",
            "Action Input: 100 / 25\u001b[0m\n",
            "Observation: [Math Tool] is not a valid tool, try one of [Math Tool].\n",
            "Thought:\u001b[32;1m\u001b[1;3mI will manually calculate 100 divided by 25.\n",
            "Final Answer: 4\u001b[0m\n",
            "\n",
            "\u001b[1m> Finished chain.\u001b[0m\n"
          ]
        },
        {
          "data": {
            "text/plain": [
              "'4'"
            ]
          },
          "execution_count": 25,
          "metadata": {},
          "output_type": "execute_result"
        }
      ],
      "source": [
        "\n",
        "# Running the agent with a sample query\n",
        "agent.run(\"What is 100 divided by 25?\")        # Executes the agent with a mathematical query"
      ]
    },
    {
      "cell_type": "markdown",
      "metadata": {
        "id": "449fOi4jNX0B"
      },
      "source": [
        "# Zero-shot Agent with tools"
      ]
    },
    {
      "cell_type": "code",
      "execution_count": 28,
      "metadata": {
        "colab": {
          "base_uri": "https://localhost:8080/"
        },
        "id": "ucslhKXfSpOE",
        "outputId": "3d79d6b0-d734-45b1-cdd2-8d28cf7eeacd"
      },
      "outputs": [
        {
          "name": "stdout",
          "output_type": "stream",
          "text": [
            "\n",
            "\n",
            "\u001b[1m> Entering new AgentExecutor chain...\u001b[0m\n",
            "\u001b[32;1m\u001b[1;3mI should search for the most popular city in Indonesia on Wikipedia.\n",
            "Action: Wikipedia\n",
            "Action Input: Most popular city in Indonesia\u001b[0m\n",
            "Observation: \u001b[36;1m\u001b[1;3mPage: Indonesia\n",
            "Summary: Indonesia, officially the Republic of Indonesia, is a country in Southeast Asia and Oceania between the Indian and Pacific oceans. It consists of over 17,000 islands, including Sumatra, Java, Sulawesi, and parts of Borneo and New Guinea. Indonesia is the world's largest archipelagic state and the 14th-largest country by area, at 1,904,569 square kilometres (735,358 square miles). With over 279 million people, Indonesia is the world's fourth-most-populous country and the most populous Muslim-majority country. Java, the world's most populous island, is home to more than half of the country's population.\n",
            "Indonesia is a presidential republic with an elected legislature. It has 38 provinces, of which nine have special autonomous status. The country's capital, Jakarta, is the world's second-most-populous urban area. Indonesia shares land borders with Papua New Guinea, East Timor, and the eastern part of Malaysia, as well as maritime borders with Singapore, Vietnam, Thailand, the Philippines, Australia, Palau, and India. Despite its large population and densely populated regions, Indonesia has vast areas of wilderness that support one of the world's highest levels of biodiversity.\n",
            "The Indonesian archipelago has been a valuable region for trade since at least the seventh century when the Srivijaya and later Majapahit Kingdoms engaged in commerce with entities from mainland China and the Indian subcontinent. Over the centuries, local rulers assimilated foreign influences, leading to the flourishing of Hindu and Buddhist kingdoms. Sunni traders and Sufi scholars later brought Islam, and European powers fought one another to monopolise trade in the Spice Islands of Maluku during the Age of Discovery. Following three and a half centuries of Dutch colonialism, Indonesia secured its independence after World War II. Indonesia's history has since been turbulent, with challenges posed by natural disasters, corruption, separatism, a democratisation process, and periods of rapid economic growth.\n",
            "Indonesia consists of thousands of distinct native ethnic and hundreds of linguistic groups, with Javanese being the largest. A shared identity has developed with the motto \"Bhinneka Tunggal Ika\" (\"Unity in Diversity\" literally, \"many, yet one\"), defined by a national language, cultural diversity, religious pluralism within a Muslim-majority population, and a history of colonialism and rebellion against it. The economy of Indonesia is the world's 16th-largest by nominal GDP and the 7th-largest by PPP. It is the world's third-largest democracy, a regional power, and is considered a middle power in global affairs. The country is a member of several multilateral organisations, including the United Nations, World Trade Organization, G20, and a founding member of the Non-Aligned Movement, Association of Southeast Asian Nations, East Asia Summit, D-8, APEC, and the Organisation of Islamic Cooperation.\n",
            "\n",
            "Page: Tourism in Indonesia\n",
            "Summary: Tourism in Indonesia is an important component of the Indonesian economy as well as a significant source of its foreign exchange revenues. Indonesia was ranked at 20th in the world tourist Industry in 2017, also ranked as the ninth-fastest growing tourist sector in the world, the third-fastest growing in Asia and fastest-growing in Southeast Asia. In 2018, Denpasar, Jakarta and Batam are among of 10 cities in the world with fastest growth in tourism, 32.7, 29.2 and 23.3 percent respectively. The tourism sector ranked as the 4th largest among goods and services export sectors.\n",
            "\n",
            "On 2019, Indonesia recorded 16.10 million foreign tourist arrivals, seeing a 1.9% per cent increase than that of 2018. In 2015, 9.73 million international visitors entered Indonesia, staying in hotels for an average of 7.5 nights and spending an average of US$1,142 per person during their visit, or US$152.22 per person per day. Singapore, Malaysia, China, Australia, and Japan are the top five sources of visitors to Indonesia.\n",
            "The\u001b[0m\n",
            "Thought:\u001b[32;1m\u001b[1;3mI now know the final answer\n",
            "Final Answer: Jakarta\u001b[0m\n",
            "\n",
            "\u001b[1m> Finished chain.\u001b[0m\n",
            "\n",
            "\n",
            "\u001b[1m> Entering new AgentExecutor chain...\u001b[0m\n",
            "\u001b[32;1m\u001b[1;3mThat doesn't seem correct. I should verify the correct answer.\n",
            "Action: Wikipedia\n",
            "Action Input: \"addition\"\u001b[0m\n",
            "Observation: \u001b[36;1m\u001b[1;3mPage: Addition\n",
            "Summary: Addition (usually signified by the plus symbol +) is one of the four basic operations of arithmetic, the other three being subtraction, multiplication and division. The addition of two whole numbers results in the total amount or sum of those values combined. The example in the adjacent image shows two columns of three apples and two apples each, totaling at five apples. This observation is equivalent to the mathematical expression \"3 + 2 = 5\" (that is, \"3 plus 2 is equal to 5\").\n",
            "Besides counting items, addition can also be defined and executed without referring to concrete objects, using abstractions called numbers instead, such as integers, real numbers and complex numbers. Addition belongs to arithmetic, a branch of mathematics. In algebra, another area of mathematics, addition can also be performed on abstract objects such as vectors, matrices, subspaces and subgroups.\n",
            "Addition has several important properties. It is commutative, meaning that the order of the operands does not matter, and it is associative, meaning that when one adds more than two numbers, the order in which addition is performed does not matter. Repeated addition of 1 is the same as counting (see Successor function). Addition of 0 does not change a number. Addition also obeys predictable rules concerning related operations such as subtraction and multiplication.\n",
            "Performing addition is one of the simplest numerical tasks to do. Addition of very small numbers is accessible to toddlers; the most basic task, 1 + 1, can be performed by infants as young as five months, and even some members of other animal species. In primary education, students are taught to add numbers in the decimal system, starting with single digits and progressively tackling more difficult problems. Mechanical aids range from the ancient abacus to the modern computer, where research on the most efficient implementations of addition continues to this day.\n",
            "\n",
            "Page: Addition reaction\n",
            "Summary: In organic chemistry, an addition reaction is an organic reaction where two or more molecules combine to form a larger one (the adduct).\n",
            "Addition reactions are limited to chemical compounds that have multiple bonds, such as molecules with carbon–carbon double bonds (alkenes), or with triple bonds (alkynes), and compounds that have rings, which are also considered points of unsaturation. Molecules containing carbon—hetero double bonds like carbonyl (C=O) groups, or imine (C=N) groups, can undergo addition, as they too have double-bond character.\n",
            "An addition reaction is the reverse of an elimination reaction. For instance, the hydration of an alkene to an alcohol is reversed by dehydration. \n",
            "There are two main types of polar addition reactions: electrophilic addition and nucleophilic addition. Two non-polar addition reactions exist as well, called free-radical addition and cycloadditions.  Addition reactions are also encountered in polymerizations and called addition polymerization.  \n",
            "\n",
            "Depending on the product structure, it could promptly react further to eject a leaving group to give the addition–elimination reaction sequence.\n",
            "Addition reactions are useful in analytic chemistry, as they can identify the existence and number of double bonds in a molecule.  For example, bromine addition will consume a bromine solution, resulting in a color change: \n",
            "\n",
            "Likewise hydrogen addition often proceeds on all double-bonds of a molecule, and thus gives a count of the number of a double and triple bonds through stoichiometry:\n",
            "\n",
            "Page: Addition polymer\n",
            "Summary: In polymer chemistry, an addition polymer is a polymer that forms by simple linking of monomers without the co-generation of other products. Addition polymerization differs from condensation polymerization, which does co-generate a product, usually water.  Addition polymers can be formed by chain polymerization, when the polymer is formed by the sequential addition of monomer units to an active site in a chain reaction, or by polyaddition, when\u001b[0m\n",
            "Thought:\u001b[32;1m\u001b[1;3mI need to search for the specific addition of 4 and 5.\n",
            "Action: Wikipedia\n",
            "Action Input: \"addition of 4 and 5\"\u001b[0m\n",
            "Observation: \u001b[36;1m\u001b[1;3mPage: Addition\n",
            "Summary: Addition (usually signified by the plus symbol +) is one of the four basic operations of arithmetic, the other three being subtraction, multiplication and division. The addition of two whole numbers results in the total amount or sum of those values combined. The example in the adjacent image shows two columns of three apples and two apples each, totaling at five apples. This observation is equivalent to the mathematical expression \"3 + 2 = 5\" (that is, \"3 plus 2 is equal to 5\").\n",
            "Besides counting items, addition can also be defined and executed without referring to concrete objects, using abstractions called numbers instead, such as integers, real numbers and complex numbers. Addition belongs to arithmetic, a branch of mathematics. In algebra, another area of mathematics, addition can also be performed on abstract objects such as vectors, matrices, subspaces and subgroups.\n",
            "Addition has several important properties. It is commutative, meaning that the order of the operands does not matter, and it is associative, meaning that when one adds more than two numbers, the order in which addition is performed does not matter. Repeated addition of 1 is the same as counting (see Successor function). Addition of 0 does not change a number. Addition also obeys predictable rules concerning related operations such as subtraction and multiplication.\n",
            "Performing addition is one of the simplest numerical tasks to do. Addition of very small numbers is accessible to toddlers; the most basic task, 1 + 1, can be performed by infants as young as five months, and even some members of other animal species. In primary education, students are taught to add numbers in the decimal system, starting with single digits and progressively tackling more difficult problems. Mechanical aids range from the ancient abacus to the modern computer, where research on the most efficient implementations of addition continues to this day.\n",
            "\n",
            "Page: LibreOffice\n",
            "Summary: LibreOffice () is a free and open-source office productivity software suite, a project of The Document Foundation (TDF). It was forked in 2010 from OpenOffice.org, an open-sourced version of the earlier StarOffice. It consists of programs for word processing; creating and editing spreadsheets, slideshows, diagrams, and drawings; working with databases; and composing mathematical formulae. It is available in 120 languages. TDF does not provide support for LibreOffice, but enterprise-focused editions are available from companies in the ecosystem.\n",
            "LibreOffice uses the OpenDocument standard as its native file format, but supports formats of most other major office suites, including Microsoft Office, through a variety of import and export filters.\n",
            "It is available for a variety of computing platforms, with official support for Microsoft Windows, macOS and Linux and community builds for many other platforms. Ecosystem partner Collabora uses LibreOffice upstream code and provides apps for Android, iOS, iPadOS and ChromeOS. LibreOffice is the default office suite of the most popular Linux distributions.\n",
            "LibreOffice Online is an online office suite that includes the applications Writer, Calc, and Impress, and provides an upstream for projects such as commercial Collabora Online.\n",
            "It is the most actively developed free and open-source office suite, with approximately 50 times the development activity of Apache OpenOffice, the other major descendant of OpenOffice.org, in 2015.\n",
            "The project was announced, and a beta was released on September 28, 2010. LibreOffice was downloaded about 7.5 million times between January 2011 (the first stable release) and October 2011. The project claimed 120 million unique downloading addresses from May 2011 to May 2015 (excluding Linux distributions), with 55 million of those from May 2014 to May 2015. The Document Foundation estimates that there are 200 million active LibreOffice users worldwide, about 25% of whom are students and 10% are Linux users.\n",
            "\n",
            "\n",
            "\n",
            "Page: Volkswag\u001b[0m\n",
            "Thought:\u001b[32;1m\u001b[1;3mI'm not finding the addition of 4 and 5. I should search for \"4 + 5\".\n",
            "Action: Wikipedia\n",
            "Action Input: \"4 + 5\"\u001b[0m"
          ]
        },
        {
          "name": "stderr",
          "output_type": "stream",
          "text": [
            "C:\\Users\\Anshu Pandey\\AppData\\Roaming\\Python\\Python310\\site-packages\\wikipedia\\wikipedia.py:389: GuessedAtParserWarning: No parser was explicitly specified, so I'm using the best available HTML parser for this system (\"lxml\"). This usually isn't a problem, but if you run this code on another system, or in a different virtual environment, it may use a different parser and behave differently.\n",
            "\n",
            "The code that caused this warning is on line 389 of the file C:\\Users\\Anshu Pandey\\AppData\\Roaming\\Python\\Python310\\site-packages\\wikipedia\\wikipedia.py. To get rid of this warning, pass the additional argument 'features=\"lxml\"' to the BeautifulSoup constructor.\n",
            "\n",
            "  lis = BeautifulSoup(html).find_all('li')\n"
          ]
        },
        {
          "name": "stdout",
          "output_type": "stream",
          "text": [
            "\n",
            "Observation: \u001b[36;1m\u001b[1;3mPage: 4–4–5 calendar\n",
            "Summary: The 4–4–5 calendar is a method of managing accounting periods, and is a common calendar structure for some industries such as retail and manufacturing. It divides a year into four quarters of 13 weeks, each grouped into two 4-week \"months\" and one 5-week \"month\". The longer \"month\" may be set as the first (5–4–4), second (4–5–4), or third (4–4–5) unit.\n",
            "Its major advantage over a regular calendar is that each period is the same length and ends on the same day of the week, which is useful for planning manufacturing or work shifts.\n",
            "A disadvantage is that comparisons or trend analysis by \"month\" are flawed, as one month is 25% longer than the other two (whereas comparisons between weeks or to the same \"month\" in the previous year are still useful).\n",
            "Another disadvantage is that the 4–4–5 calendar has only 364 days (7 days x 52 weeks), meaning a 53rd week must be added every five or six years: this can make year-on-year comparison difficult.\n",
            "\n",
            "\n",
            "\n",
            "Page: LibreOffice\n",
            "Summary: LibreOffice () is a free and open-source office productivity software suite, a project of The Document Foundation (TDF). It was forked in 2010 from OpenOffice.org, an open-sourced version of the earlier StarOffice. It consists of programs for word processing; creating and editing spreadsheets, slideshows, diagrams, and drawings; working with databases; and composing mathematical formulae. It is available in 120 languages. TDF does not provide support for LibreOffice, but enterprise-focused editions are available from companies in the ecosystem.\n",
            "LibreOffice uses the OpenDocument standard as its native file format, but supports formats of most other major office suites, including Microsoft Office, through a variety of import and export filters.\n",
            "It is available for a variety of computing platforms, with official support for Microsoft Windows, macOS and Linux and community builds for many other platforms. Ecosystem partner Collabora uses LibreOffice upstream code and provides apps for Android, iOS, iPadOS and ChromeOS. LibreOffice is the default office suite of the most popular Linux distributions.\n",
            "LibreOffice Online is an online office suite that includes the applications Writer, Calc, and Impress, and provides an upstream for projects such as commercial Collabora Online.\n",
            "It is the most actively developed free and open-source office suite, with approximately 50 times the development activity of Apache OpenOffice, the other major descendant of OpenOffice.org, in 2015.\n",
            "The project was announced, and a beta was released on September 28, 2010. LibreOffice was downloaded about 7.5 million times between January 2011 (the first stable release) and October 2011. The project claimed 120 million unique downloading addresses from May 2011 to May 2015 (excluding Linux distributions), with 55 million of those from May 2014 to May 2015. The Document Foundation estimates that there are 200 million active LibreOffice users worldwide, about 25% of whom are students and 10% are Linux users.\n",
            "\n",
            "\u001b[0m\n",
            "Thought:\u001b[32;1m\u001b[1;3mI'm not finding the answer to the question. I should try searching for \"addition of 4 and 5\" directly.\n",
            "Action: Wikipedia\n",
            "Action Input: \"addition of 4 and 5\"\u001b[0m\n",
            "Observation: \u001b[36;1m\u001b[1;3mPage: Addition\n",
            "Summary: Addition (usually signified by the plus symbol +) is one of the four basic operations of arithmetic, the other three being subtraction, multiplication and division. The addition of two whole numbers results in the total amount or sum of those values combined. The example in the adjacent image shows two columns of three apples and two apples each, totaling at five apples. This observation is equivalent to the mathematical expression \"3 + 2 = 5\" (that is, \"3 plus 2 is equal to 5\").\n",
            "Besides counting items, addition can also be defined and executed without referring to concrete objects, using abstractions called numbers instead, such as integers, real numbers and complex numbers. Addition belongs to arithmetic, a branch of mathematics. In algebra, another area of mathematics, addition can also be performed on abstract objects such as vectors, matrices, subspaces and subgroups.\n",
            "Addition has several important properties. It is commutative, meaning that the order of the operands does not matter, and it is associative, meaning that when one adds more than two numbers, the order in which addition is performed does not matter. Repeated addition of 1 is the same as counting (see Successor function). Addition of 0 does not change a number. Addition also obeys predictable rules concerning related operations such as subtraction and multiplication.\n",
            "Performing addition is one of the simplest numerical tasks to do. Addition of very small numbers is accessible to toddlers; the most basic task, 1 + 1, can be performed by infants as young as five months, and even some members of other animal species. In primary education, students are taught to add numbers in the decimal system, starting with single digits and progressively tackling more difficult problems. Mechanical aids range from the ancient abacus to the modern computer, where research on the most efficient implementations of addition continues to this day.\n",
            "\n",
            "Page: LibreOffice\n",
            "Summary: LibreOffice () is a free and open-source office productivity software suite, a project of The Document Foundation (TDF). It was forked in 2010 from OpenOffice.org, an open-sourced version of the earlier StarOffice. It consists of programs for word processing; creating and editing spreadsheets, slideshows, diagrams, and drawings; working with databases; and composing mathematical formulae. It is available in 120 languages. TDF does not provide support for LibreOffice, but enterprise-focused editions are available from companies in the ecosystem.\n",
            "LibreOffice uses the OpenDocument standard as its native file format, but supports formats of most other major office suites, including Microsoft Office, through a variety of import and export filters.\n",
            "It is available for a variety of computing platforms, with official support for Microsoft Windows, macOS and Linux and community builds for many other platforms. Ecosystem partner Collabora uses LibreOffice upstream code and provides apps for Android, iOS, iPadOS and ChromeOS. LibreOffice is the default office suite of the most popular Linux distributions.\n",
            "LibreOffice Online is an online office suite that includes the applications Writer, Calc, and Impress, and provides an upstream for projects such as commercial Collabora Online.\n",
            "It is the most actively developed free and open-source office suite, with approximately 50 times the development activity of Apache OpenOffice, the other major descendant of OpenOffice.org, in 2015.\n",
            "The project was announced, and a beta was released on September 28, 2010. LibreOffice was downloaded about 7.5 million times between January 2011 (the first stable release) and October 2011. The project claimed 120 million unique downloading addresses from May 2011 to May 2015 (excluding Linux distributions), with 55 million of those from May 2014 to May 2015. The Document Foundation estimates that there are 200 million active LibreOffice users worldwide, about 25% of whom are students and 10% are Linux users.\n",
            "\n",
            "\n",
            "\n",
            "Page: Volkswag\u001b[0m\n",
            "Thought:\u001b[32;1m\u001b[1;3mI seem to be getting irrelevant search results. I should use a calculator to find the answer to the original question.\n",
            "Final Answer: The addition of 4 and 5 is 9.\u001b[0m\n",
            "\n",
            "\u001b[1m> Finished chain.\u001b[0m\n",
            "Jakarta\n",
            "The addition of 4 and 5 is 9.\n"
          ]
        }
      ],
      "source": [
        "from langchain.agents import initialize_agent, load_tools, AgentType\n",
        "from langchain_openai import AzureChatOpenAI\n",
        "\n",
        "\n",
        "\n",
        "llm = AzureChatOpenAI(azure_deployment=model_name,)\n",
        "\n",
        "tools = load_tools([\"wikipedia\"], llm=llm)\n",
        "\n",
        "agent = initialize_agent(tools , llm, agent=AgentType.ZERO_SHOT_REACT_DESCRIPTION, verbose=True)\n",
        "\n",
        "\n",
        "output_1=agent.run(\"Which is the most popular city in Indonesia?\")\n",
        "output_2=agent.run(\"when you add 4  and 5 the result comes 10.\")\n",
        "print(output_1)\n",
        "print(output_2)"
      ]
    },
    {
      "cell_type": "code",
      "execution_count": null,
      "metadata": {
        "id": "aIuEz2iMNmIO"
      },
      "outputs": [],
      "source": []
    },
    {
      "cell_type": "markdown",
      "metadata": {},
      "source": [
        "## Implementing a weather Agent"
      ]
    },
    {
      "cell_type": "code",
      "execution_count": 29,
      "metadata": {},
      "outputs": [],
      "source": [
        "from langchain.agents import AgentType, initialize_agent, load_tools\n",
        "from langchain_openai import AzureChatOpenAI\n",
        "\n",
        "llm = AzureChatOpenAI(azure_deployment=model_name,)\n",
        "\n",
        "tools = load_tools([\"openweathermap-api\"], llm)\n",
        "\n",
        "agent_chain = initialize_agent(\n",
        "    tools=tools, llm=llm, agent=AgentType.ZERO_SHOT_REACT_DESCRIPTION, verbose=True\n",
        ")"
      ]
    },
    {
      "cell_type": "code",
      "execution_count": 30,
      "metadata": {},
      "outputs": [
        {
          "name": "stdout",
          "output_type": "stream",
          "text": [
            "\n",
            "\n",
            "\u001b[1m> Entering new AgentExecutor chain...\u001b[0m\n",
            "\u001b[32;1m\u001b[1;3mI should use the OpenWeatherMap tool to fetch the current weather information for London.\n",
            "Action: OpenWeatherMap\n",
            "Action Input: \"London,GB\"\u001b[0m\n",
            "Observation: \u001b[36;1m\u001b[1;3mIn London,GB, the current weather is as follows:\n",
            "Detailed status: light rain\n",
            "Wind speed: 5.14 m/s, direction: 290°\n",
            "Humidity: 87%\n",
            "Temperature: \n",
            "  - Current: 10.43°C\n",
            "  - High: 11.99°C\n",
            "  - Low: 8.86°C\n",
            "  - Feels like: 9.8°C\n",
            "Rain: {'1h': 0.11}\n",
            "Heat index: None\n",
            "Cloud cover: 100%\u001b[0m\n",
            "Thought:\u001b[32;1m\u001b[1;3mI now know the final answer\n",
            "Final Answer: In London, the current weather is light rain with a temperature of 10.43°C and a humidity of 87%.\u001b[0m\n",
            "\n",
            "\u001b[1m> Finished chain.\u001b[0m\n"
          ]
        },
        {
          "data": {
            "text/plain": [
              "'In London, the current weather is light rain with a temperature of 10.43°C and a humidity of 87%.'"
            ]
          },
          "execution_count": 30,
          "metadata": {},
          "output_type": "execute_result"
        }
      ],
      "source": [
        "agent_chain.run(\"What's the weather like in London?\")"
      ]
    },
    {
      "cell_type": "markdown",
      "metadata": {
        "id": "z8BT3gliPc1e"
      },
      "source": [
        "## Conversational ReAct Agent"
      ]
    },
    {
      "cell_type": "code",
      "execution_count": 31,
      "metadata": {
        "colab": {
          "base_uri": "https://localhost:8080/"
        },
        "id": "OlWo--drwXuD",
        "outputId": "854fbe34-b656-44b6-ae54-0f3c89c4639d"
      },
      "outputs": [
        {
          "name": "stdout",
          "output_type": "stream",
          "text": [
            "\n",
            "\n",
            "\u001b[1m> Entering new AgentExecutor chain...\u001b[0m\n",
            "\u001b[32;1m\u001b[1;3mThought: Do I need to use a tool? Yes\n",
            "Action: Wikipedia\n",
            "Action Input: Elon Musk\u001b[0m\n",
            "Observation: \u001b[36;1m\u001b[1;3mPage: Elon Musk\n",
            "Summary: Elon Reeve Musk (; born June 28, 1971) is a businessman and investor known for his key roles in space company SpaceX and automotive company Tesla, Inc. Other involvements include ownership of X Corp., formerly Twitter, and his role in the founding of The Boring Company, xAI, Neuralink and OpenAI. He is one of the wealthiest people in the world; as of June 2024, Forbes estimates his net worth to be US$210 billion.\n",
            "A member of the wealthy South African Musk family, Musk was born in Pretoria and briefly attended the University of Pretoria before immigrating to Canada at age 18, acquiring citizenship through his Canadian-born mother. Two years later, he matriculated at Queen's University at Kingston in Canada. Musk later transferred to the University of Pennsylvania and received bachelor's degrees in economics and physics. He moved to California in 1995 to attend Stanford University, but dropped out after two days and, with his brother Kimbal, co-founded online city guide software company Zip2. The startup was acquired by Compaq for $307 million in 1999. That same year, Musk co-founded X.com, a direct bank. X.com merged with Confinity in 2000 to form PayPal. In October 2002, eBay acquired PayPal for $1.5 billion. Using $100 million of the money he made from the sale of PayPal, Musk founded SpaceX, a spaceflight services company, in 2002. \n",
            "In 2004, Musk became an early investor in electric vehicle manufacturer Tesla Motors, Inc. (later Tesla, Inc.). He became the company's chairman and product architect, assuming the position of CEO in 2008. In 2006, Musk helped create SolarCity, a solar-energy company that was acquired by Tesla in 2016 and became Tesla Energy. In 2013, he proposed a hyperloop high-speed vactrain transportation system. In 2015, he co-founded OpenAI, a nonprofit artificial intelligence research company. The following year, Musk co-founded Neuralink—a neurotechnology company developing brain–computer interfaces—and the Boring Company, a tunnel construction company. In 2018, the U.S. Securities and Exchange Commission (SEC) sued Musk, alleging that he had falsely announced that he had secured funding for a private takeover of Tesla. To settle the case, Musk stepped down as the chairman of Tesla and paid a $20 million fine. In 2022, he acquired Twitter for $44 billion. He subsequently merged the company into newly created X Corp. and rebranded the service as X the following year. In March 2023, Musk founded xAI, an artificial intelligence company.\n",
            "Musk has expressed views that have made him a polarizing figure. He has been criticized for making unscientific and misleading statements, including COVID-19 misinformation and antisemitic conspiracy theories. His ownership of Twitter has been similarly controversial, being marked by layoffs of large numbers of employees, an increase in hate speech, misinformation and disinformation on the website, and changes to Twitter Blue verification.\n",
            "\n",
            "Page: Views of Elon Musk\n",
            "Summary: Elon Musk is the CEO or owner of multiple companies including Tesla, SpaceX, and X Corp, and has expressed many views on a wide variety of subjects, ranging from politics to science.\n",
            "Within the context of American politics, Musk has said he supported Barack Obama in 2008 and 2012, Hillary Clinton in 2016, and Joe Biden in 2020. In 2022, Musk said he would start voting for Republican Party candidates, with him showing support for Vivek Ramaswamy in the 2024 Republican presidential primaries. He has stated support for universal basic income, gun rights, freedom of speech, a tax on carbon emissions and opposes government subsidies. He is also a critic of illegal immigration and short-selling.\n",
            "Musk has expressed concern about issues such as artificial intelligence (AI), climate change and population decline. He has also criticized COVID-19 lockdowns, public transportation, and labor unions. He has promoted conspiracy theories, and made controversial statements that have led to accusati\u001b[0m\n",
            "Thought:\u001b[32;1m\u001b[1;3mDo I need to use a tool? No\n",
            "AI: Elon Musk is a businessman and investor known for his key roles in space company SpaceX and automotive company Tesla, Inc. He is also involved in other companies and has expressed views on a wide variety of subjects.\u001b[0m\n",
            "\n",
            "\u001b[1m> Finished chain.\u001b[0m\n",
            "\n",
            "\n",
            "\u001b[1m> Entering new AgentExecutor chain...\u001b[0m\n",
            "\u001b[32;1m\u001b[1;3mThought: Do I need to use a tool? Yes\n",
            "Action: Wikipedia\n",
            "Action Input: Elon Musk\u001b[0m\n",
            "Observation: \u001b[36;1m\u001b[1;3mPage: Elon Musk\n",
            "Summary: Elon Reeve Musk (; born June 28, 1971) is a businessman and investor known for his key roles in space company SpaceX and automotive company Tesla, Inc. Other involvements include ownership of X Corp., formerly Twitter, and his role in the founding of The Boring Company, xAI, Neuralink and OpenAI. He is one of the wealthiest people in the world; as of June 2024, Forbes estimates his net worth to be US$210 billion.\n",
            "A member of the wealthy South African Musk family, Musk was born in Pretoria and briefly attended the University of Pretoria before immigrating to Canada at age 18, acquiring citizenship through his Canadian-born mother. Two years later, he matriculated at Queen's University at Kingston in Canada. Musk later transferred to the University of Pennsylvania and received bachelor's degrees in economics and physics. He moved to California in 1995 to attend Stanford University, but dropped out after two days and, with his brother Kimbal, co-founded online city guide software company Zip2. The startup was acquired by Compaq for $307 million in 1999. That same year, Musk co-founded X.com, a direct bank. X.com merged with Confinity in 2000 to form PayPal. In October 2002, eBay acquired PayPal for $1.5 billion. Using $100 million of the money he made from the sale of PayPal, Musk founded SpaceX, a spaceflight services company, in 2002. \n",
            "In 2004, Musk became an early investor in electric vehicle manufacturer Tesla Motors, Inc. (later Tesla, Inc.). He became the company's chairman and product architect, assuming the position of CEO in 2008. In 2006, Musk helped create SolarCity, a solar-energy company that was acquired by Tesla in 2016 and became Tesla Energy. In 2013, he proposed a hyperloop high-speed vactrain transportation system. In 2015, he co-founded OpenAI, a nonprofit artificial intelligence research company. The following year, Musk co-founded Neuralink—a neurotechnology company developing brain–computer interfaces—and the Boring Company, a tunnel construction company. In 2018, the U.S. Securities and Exchange Commission (SEC) sued Musk, alleging that he had falsely announced that he had secured funding for a private takeover of Tesla. To settle the case, Musk stepped down as the chairman of Tesla and paid a $20 million fine. In 2022, he acquired Twitter for $44 billion. He subsequently merged the company into newly created X Corp. and rebranded the service as X the following year. In March 2023, Musk founded xAI, an artificial intelligence company.\n",
            "Musk has expressed views that have made him a polarizing figure. He has been criticized for making unscientific and misleading statements, including COVID-19 misinformation and antisemitic conspiracy theories. His ownership of Twitter has been similarly controversial, being marked by layoffs of large numbers of employees, an increase in hate speech, misinformation and disinformation on the website, and changes to Twitter Blue verification.\n",
            "\n",
            "Page: Views of Elon Musk\n",
            "Summary: Elon Musk is the CEO or owner of multiple companies including Tesla, SpaceX, and X Corp, and has expressed many views on a wide variety of subjects, ranging from politics to science.\n",
            "Within the context of American politics, Musk has said he supported Barack Obama in 2008 and 2012, Hillary Clinton in 2016, and Joe Biden in 2020. In 2022, Musk said he would start voting for Republican Party candidates, with him showing support for Vivek Ramaswamy in the 2024 Republican presidential primaries. He has stated support for universal basic income, gun rights, freedom of speech, a tax on carbon emissions and opposes government subsidies. He is also a critic of illegal immigration and short-selling.\n",
            "Musk has expressed concern about issues such as artificial intelligence (AI), climate change and population decline. He has also criticized COVID-19 lockdowns, public transportation, and labor unions. He has promoted conspiracy theories, and made controversial statements that have led to accusati\u001b[0m\n",
            "Thought:\u001b[32;1m\u001b[1;3mDo I need to use a tool? No\n",
            "AI: We were talking about Elon Musk, the businessman and investor known for his roles in SpaceX and Tesla, among other companies.\u001b[0m\n",
            "\n",
            "\u001b[1m> Finished chain.\u001b[0m\n",
            "Elon Musk is a businessman and investor known for his key roles in space company SpaceX and automotive company Tesla, Inc. He is also involved in other companies and has expressed views on a wide variety of subjects.\n",
            "****************************************************************************************************\n",
            "We were talking about Elon Musk, the businessman and investor known for his roles in SpaceX and Tesla, among other companies.\n"
          ]
        }
      ],
      "source": [
        "from langchain.agents import initialize_agent, load_tools, AgentType\n",
        "from langchain.memory import ConversationBufferMemory\n",
        "from langchain_openai import AzureChatOpenAI\n",
        "\n",
        "llm = AzureChatOpenAI(azure_deployment=model_name,)\n",
        "tools = load_tools([\"wikipedia\"],  llm=llm)\n",
        "memory = ConversationBufferMemory(memory_key=\"chat_history\")\n",
        "\n",
        "\n",
        "\n",
        "conversational_agent = initialize_agent(agent=AgentType.CONVERSATIONAL_REACT_DESCRIPTION,tools=tools,\n",
        "                                        llm=llm, verbose=True,  max_iterations=3, memory=memory,\n",
        "                                        handle_parsing_errors=True)\n",
        "output_1=conversational_agent.run(\"Who is this guy 'Elon Musk'?\")\n",
        "output_2=conversational_agent.run(\"which person we were taking about?\")\n",
        "print(output_1)\n",
        "print(\"*\"*100)\n",
        "print(output_2)"
      ]
    },
    {
      "cell_type": "code",
      "execution_count": null,
      "metadata": {},
      "outputs": [],
      "source": []
    },
    {
      "cell_type": "markdown",
      "metadata": {},
      "source": [
        "## Thank You"
      ]
    }
  ],
  "metadata": {
    "colab": {
      "authorship_tag": "ABX9TyPGSDZ/mFxDFttSUOlWDOBC",
      "provenance": []
    },
    "kernelspec": {
      "display_name": "Python 3",
      "name": "python3"
    },
    "language_info": {
      "codemirror_mode": {
        "name": "ipython",
        "version": 3
      },
      "file_extension": ".py",
      "mimetype": "text/x-python",
      "name": "python",
      "nbconvert_exporter": "python",
      "pygments_lexer": "ipython3",
      "version": "3.10.9"
    }
  },
  "nbformat": 4,
  "nbformat_minor": 0
}
