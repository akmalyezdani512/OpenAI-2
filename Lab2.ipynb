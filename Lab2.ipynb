{
  "cells": [
    {
      "cell_type": "markdown",
      "metadata": {
        "id": "jQUfh4Aqtf5E"
      },
      "source": [
        "# Understanding LangChain Agents and Chains"
      ]
    },
    {
      "cell_type": "markdown",
      "metadata": {
        "id": "kEpb9rD2tmhf"
      },
      "source": [
        "## Chains\n",
        "\n",
        "Chains refer to sequences of calls - whether to an LLM, a tool, or a data preprocessing step. The primary supported way to do this is with LCEL.\n",
        "\n",
        "## Agents\n",
        "\n",
        "Agents can be thought of as the chain responsible for deciding what step to take next. This is usually powered by a language model, a prompt, and an output parser.\n",
        "\n",
        "Different agents have different prompting styles for reasoning, different ways of encoding inputs, and different ways of parsing the output. For a full list of built-in agents see agent types. You can also easily b\n",
        "\n",
        "\n",
        "## Chains v/s Agents\n",
        "\n",
        "The core idea of agents is to use a language model to choose a sequence of actions to take. In chains, a sequence of actions is hardcoded (in code). In agents, a language model is used as a reasoning engine to determine which actions to take and in which order.\n",
        "\n",
        "\n"
      ]
    },
    {
      "cell_type": "code",
      "execution_count": 1,
      "metadata": {
        "colab": {
          "base_uri": "https://localhost:8080/"
        },
        "id": "jLDTOetMVUxG",
        "outputId": "59fb5d39-c1e8-42bd-ea13-5647cb42924a"
      },
      "outputs": [
        {
          "name": "stdout",
          "output_type": "stream",
          "text": [
            "\u001b[2K     \u001b[90m━━━━━━━━━━━━━━━━━━━━━━━━━━━━━━━━━━━━━━━━\u001b[0m \u001b[32m310.4/310.4 kB\u001b[0m \u001b[31m7.7 MB/s\u001b[0m eta \u001b[36m0:00:00\u001b[0m\n",
            "\u001b[2K     \u001b[90m━━━━━━━━━━━━━━━━━━━━━━━━━━━━━━━━━━━━━━━━\u001b[0m \u001b[32m324.1/324.1 kB\u001b[0m \u001b[31m10.5 MB/s\u001b[0m eta \u001b[36m0:00:00\u001b[0m\n",
            "\u001b[2K     \u001b[90m━━━━━━━━━━━━━━━━━━━━━━━━━━━━━━━━━━━━━━━━\u001b[0m \u001b[32m1.1/1.1 MB\u001b[0m \u001b[31m17.4 MB/s\u001b[0m eta \u001b[36m0:00:00\u001b[0m\n",
            "\u001b[2K     \u001b[90m━━━━━━━━━━━━━━━━━━━━━━━━━━━━━━━━━━━━━━━━\u001b[0m \u001b[32m124.7/124.7 kB\u001b[0m \u001b[31m9.5 MB/s\u001b[0m eta \u001b[36m0:00:00\u001b[0m\n",
            "\u001b[2K     \u001b[90m━━━━━━━━━━━━━━━━━━━━━━━━━━━━━━━━━━━━━━━━\u001b[0m \u001b[32m53.0/53.0 kB\u001b[0m \u001b[31m5.5 MB/s\u001b[0m eta \u001b[36m0:00:00\u001b[0m\n",
            "\u001b[2K     \u001b[90m━━━━━━━━━━━━━━━━━━━━━━━━━━━━━━━━━━━━━━━━\u001b[0m \u001b[32m75.6/75.6 kB\u001b[0m \u001b[31m7.9 MB/s\u001b[0m eta \u001b[36m0:00:00\u001b[0m\n",
            "\u001b[2K     \u001b[90m━━━━━━━━━━━━━━━━━━━━━━━━━━━━━━━━━━━━━━━━\u001b[0m \u001b[32m77.9/77.9 kB\u001b[0m \u001b[31m8.4 MB/s\u001b[0m eta \u001b[36m0:00:00\u001b[0m\n",
            "\u001b[2K     \u001b[90m━━━━━━━━━━━━━━━━━━━━━━━━━━━━━━━━━━━━━━━━\u001b[0m \u001b[32m58.3/58.3 kB\u001b[0m \u001b[31m6.5 MB/s\u001b[0m eta \u001b[36m0:00:00\u001b[0m\n",
            "\u001b[2K     \u001b[90m━━━━━━━━━━━━━━━━━━━━━━━━━━━━━━━━━━━━━━━━\u001b[0m \u001b[32m142.5/142.5 kB\u001b[0m \u001b[31m10.1 MB/s\u001b[0m eta \u001b[36m0:00:00\u001b[0m\n",
            "\u001b[2K     \u001b[90m━━━━━━━━━━━━━━━━━━━━━━━━━━━━━━━━━━━━━━━━\u001b[0m \u001b[32m973.6/973.6 kB\u001b[0m \u001b[31m9.4 MB/s\u001b[0m eta \u001b[36m0:00:00\u001b[0m\n",
            "\u001b[2K     \u001b[90m━━━━━━━━━━━━━━━━━━━━━━━━━━━━━━━━━━━━━━━━\u001b[0m \u001b[32m199.7/199.7 kB\u001b[0m \u001b[31m12.2 MB/s\u001b[0m eta \u001b[36m0:00:00\u001b[0m\n",
            "\u001b[2K     \u001b[90m━━━━━━━━━━━━━━━━━━━━━━━━━━━━━━━━━━━━━━━━\u001b[0m \u001b[32m2.2/2.2 MB\u001b[0m \u001b[31m22.8 MB/s\u001b[0m eta \u001b[36m0:00:00\u001b[0m\n",
            "\u001b[2K     \u001b[90m━━━━━━━━━━━━━━━━━━━━━━━━━━━━━━━━━━━━━━━━\u001b[0m \u001b[32m49.3/49.3 kB\u001b[0m \u001b[31m5.1 MB/s\u001b[0m eta \u001b[36m0:00:00\u001b[0m\n",
            "\u001b[?25h  Preparing metadata (setup.py) ... \u001b[?25l\u001b[?25hdone\n",
            "  Preparing metadata (setup.py) ... \u001b[?25l\u001b[?25hdone\n",
            "\u001b[2K     \u001b[90m━━━━━━━━━━━━━━━━━━━━━━━━━━━━━━━━━━━━━━━━\u001b[0m \u001b[32m4.5/4.5 MB\u001b[0m \u001b[31m20.4 MB/s\u001b[0m eta \u001b[36m0:00:00\u001b[0m\n",
            "\u001b[?25h  Building wheel for google-search-results (setup.py) ... \u001b[?25l\u001b[?25hdone\n",
            "  Building wheel for wikipedia (setup.py) ... \u001b[?25l\u001b[?25hdone\n"
          ]
        }
      ],
      "source": [
        "# Installing necessary libraries\n",
        "!pip install langchain-openai --quiet\n",
        "!pip install langchain langchain-experimental --quiet\n",
        "!pip install huggingface_hub openai google-search-results tiktoken wikipedia pyowm --quiet"
      ]
    },
    {
      "cell_type": "markdown",
      "metadata": {
        "id": "RA32XR5ZL6Fk"
      },
      "source": [
        "# Chains with LangChain"
      ]
    },
    {
      "cell_type": "markdown",
      "metadata": {
        "id": "u513qSbvP2Xn"
      },
      "source": [
        "# OWM Integration"
      ]
    },
    {
      "cell_type": "code",
      "execution_count": 14,
      "metadata": {
        "id": "6mq5LPw6LlLM"
      },
      "outputs": [],
      "source": [
        "api_key = \"xxxxxxxxxxxxxxxxxxxx\"\n",
        "api_version = \"2023-07-01-preview\" # \"2023-05-15\"\n",
        "azure_endpoint = \"https://xxxx.openai.azure.com/\"\n",
        "model_name = \"gpt-35-turbo\""
      ]
    },
    {
      "cell_type": "code",
      "execution_count": 16,
      "metadata": {},
      "outputs": [],
      "source": [
        "api_key = \"17ee1603d4b640c6b3852970c03014f1\"\n",
        "api_version = \"2024-02-01\" # \"2023-05-15\"\n",
        "azure_endpoint = \"https://anshuooo7.openai.azure.com/\"\n",
        "model_name = \"gpt-35-turbo\""
      ]
    },
    {
      "cell_type": "code",
      "execution_count": 30,
      "metadata": {
        "id": "zXTTa9eAP8UF"
      },
      "outputs": [],
      "source": [
        "import os\n",
        "os.environ[\"OPENAI_API_VERSION\"] = api_version\n",
        "os.environ[\"AZURE_OPENAI_ENDPOINT\"] = azure_endpoint\n",
        "os.environ[\"AZURE_OPENAI_API_KEY\"] = api_key\n",
        "os.environ[\"OPENWEATHERMAP_API_KEY\"] = \"29af1cea50a401d8e624eea4660b3f59\"\n",
        "os.environ[\"AZURE_OPENAI_API_VERSION\"] = api_version"
      ]
    },
    {
      "cell_type": "markdown",
      "metadata": {},
      "source": [
        "## Implementing a sample language translation chain"
      ]
    },
    {
      "cell_type": "markdown",
      "metadata": {},
      "source": [
        "Chains refer to sequences of calls - whether to an LLM, a tool, or a data preprocessing step.\n",
        "\n",
        "\n"
      ]
    },
    {
      "cell_type": "code",
      "execution_count": 31,
      "metadata": {},
      "outputs": [
        {
          "data": {
            "text/plain": [
              "'Ciao'"
            ]
          },
          "execution_count": 31,
          "metadata": {},
          "output_type": "execute_result"
        }
      ],
      "source": [
        "from langchain_core.prompts import ChatPromptTemplate\n",
        "from langchain_core.output_parsers import StrOutputParser\n",
        "from langchain_openai import AzureChatOpenAI\n",
        "\n",
        "# 1. Create prompt template\n",
        "system_template = \"Translate the following into {language}:\"\n",
        "prompt_template = ChatPromptTemplate.from_messages([\n",
        "    ('system', system_template),\n",
        "    ('user', '{text}')\n",
        "])\n",
        "\n",
        "#2. Initialize the LLM as a model\n",
        "model = AzureChatOpenAI(azure_deployment=model_name,)\n",
        "\n",
        "# 3. Create parser\n",
        "parser = StrOutputParser()\n",
        "\n",
        "# 4. Create chain\n",
        "chain = prompt_template | model | parser\n",
        "\n",
        "\n",
        "chain.invoke({\"language\": \"italian\", \"text\": \"hi\"})"
      ]
    },
    {
      "cell_type": "markdown",
      "metadata": {},
      "source": [
        "## Implementing a database Integration Chain"
      ]
    },
    {
      "cell_type": "code",
      "execution_count": 34,
      "metadata": {},
      "outputs": [],
      "source": [
        "from langchain_openai import AzureChatOpenAI\n",
        "from langchain.utilities import SQLDatabase\n",
        "from langchain_experimental.sql import SQLDatabaseChain\n",
        "\n",
        "\n",
        "db = SQLDatabase.from_uri(\"sqlite:///chinook.db\")\n",
        "llm = AzureChatOpenAI(azure_deployment=model_name,)\n",
        "db_chain = SQLDatabaseChain.from_llm(llm, db, verbose=True)"
      ]
    },
    {
      "cell_type": "code",
      "execution_count": 35,
      "metadata": {},
      "outputs": [
        {
          "name": "stdout",
          "output_type": "stream",
          "text": [
            "\n",
            "\n",
            "\u001b[1m> Entering new SQLDatabaseChain chain...\u001b[0m\n",
            "How many employees are there?\n",
            "SQLQuery:\u001b[32;1m\u001b[1;3mSELECT COUNT(\"EmployeeId\") AS \"Number of Employees\" FROM employees;\u001b[0m\n",
            "SQLResult: \u001b[33;1m\u001b[1;3m[(8,)]\u001b[0m\n",
            "Answer:\u001b[32;1m\u001b[1;3mThere are 8 employees.\u001b[0m\n",
            "\u001b[1m> Finished chain.\u001b[0m\n"
          ]
        },
        {
          "data": {
            "text/plain": [
              "'There are 8 employees.'"
            ]
          },
          "execution_count": 35,
          "metadata": {},
          "output_type": "execute_result"
        }
      ],
      "source": [
        "db_chain.run(\"How many employees are there?\")"
      ]
    },
    {
      "cell_type": "markdown",
      "metadata": {
        "id": "bf2mcCyktE_n"
      },
      "source": [
        "# LangChain AI Agents\n",
        "\n",
        "The core idea of agents is to use a language model to choose a sequence of actions to take. In chains, a sequence of actions is hardcoded (in code). In agents, a language model is used as a reasoning engine to determine which actions to take and in which order.\n",
        "\n"
      ]
    },
    {
      "cell_type": "markdown",
      "metadata": {
        "id": "f8y6smgCtM3L"
      },
      "source": [
        "## Creating a sample LangChain Agent"
      ]
    },
    {
      "cell_type": "markdown",
      "metadata": {
        "id": "L98VX6TNuYnV"
      },
      "source": [
        "# Zero-Shot ReAct Agent"
      ]
    },
    {
      "cell_type": "code",
      "execution_count": 37,
      "metadata": {
        "id": "jbllamVrVenI"
      },
      "outputs": [],
      "source": [
        "# Importing necessary modules for the agent\n",
        "from langchain.agents import load_tools      # Imports the load_tools function for loading various tools in the langchain package\n",
        "from langchain_openai import AzureChatOpenAI # Imports the ChatOpenAI class to interact with OpenAI's models\n"
      ]
    },
    {
      "cell_type": "code",
      "execution_count": 38,
      "metadata": {
        "id": "TX4vDjJIVhLQ"
      },
      "outputs": [],
      "source": [
        "# Initializing a Language Model (LLM) instance\n",
        "llm = AzureChatOpenAI(azure_deployment=model_name,)"
      ]
    },
    {
      "cell_type": "code",
      "execution_count": 39,
      "metadata": {
        "id": "q9J3WmWNVjvX"
      },
      "outputs": [],
      "source": [
        "# Loading specific tools for the agent\n",
        "tool_names = [\"llm-math\"]                    # Lists the tools to be loaded, here it's 'llm-math' for mathematical operations\n",
        "tools = load_tools(tool_names, llm=llm)      # Loads the specified tools and associates them with the initialized LLM\n"
      ]
    },
    {
      "cell_type": "code",
      "execution_count": 40,
      "metadata": {
        "id": "Yf4r0o5FVlA4"
      },
      "outputs": [],
      "source": [
        "# Defining a tool for the agent\n",
        "from langchain.agents import Tool            # Imports the Tool class from langchain.agents\n",
        "tool_list = [Tool(name=\"Math Tool\",          # Names the tool as \"Math Tool\"\n",
        "                  func=tools[0].run,         # Assigns the function to run the first tool in the tools list\n",
        "                  description=\"Tool to calculate, nothing else\")]  # Description of the tool\n"
      ]
    },
    {
      "cell_type": "code",
      "execution_count": 41,
      "metadata": {
        "colab": {
          "base_uri": "https://localhost:8080/"
        },
        "id": "9JZlk7mjVoLm",
        "outputId": "fff93cf7-8781-4524-f114-5738908ff2b6"
      },
      "outputs": [],
      "source": [
        "# Initializing the LangChain Agent\n",
        "from langchain.agents import initialize_agent  # Imports the initialize_agent function\n",
        "agent = initialize_agent(tool_list,            # Provides the list of tools\n",
        "                         llm,                  # Provides the initialized LLM\n",
        "                         agent=\"zero-shot-react-description\",  # Specifies the agent type\n",
        "                         verbose=True)         # Enables verbose output for detailed information\n"
      ]
    },
    {
      "cell_type": "code",
      "execution_count": 42,
      "metadata": {
        "colab": {
          "base_uri": "https://localhost:8080/",
          "height": 230
        },
        "id": "l_iwolCDSwGH",
        "outputId": "18ab4ddc-8d88-43a5-f639-27c2f9a937ad"
      },
      "outputs": [
        {
          "name": "stdout",
          "output_type": "stream",
          "text": [
            "\n",
            "\n",
            "\u001b[1m> Entering new AgentExecutor chain...\u001b[0m\n",
            "\u001b[32;1m\u001b[1;3mI should use the Math Tool to calculate this.\n",
            "Action: [Math Tool]\n",
            "Action Input: 100 / 25\u001b[0m\n",
            "Observation: [Math Tool] is not a valid tool, try one of [Math Tool].\n",
            "Thought:\u001b[32;1m\u001b[1;3mI will use the Math Tool to calculate this.\n",
            "Action: [Math Tool]\n",
            "Action Input: 100 / 25\u001b[0m\n",
            "Observation: [Math Tool] is not a valid tool, try one of [Math Tool].\n",
            "Thought:\u001b[32;1m\u001b[1;3mI will use the Math Tool to calculate this.\n",
            "Action: [Math Tool]\n",
            "Action Input: 100 / 25\u001b[0m\n",
            "Observation: [Math Tool] is not a valid tool, try one of [Math Tool].\n",
            "Thought:\u001b[32;1m\u001b[1;3mI should use a calculator to solve this. \n",
            "Final Answer: 4\u001b[0m\n",
            "\n",
            "\u001b[1m> Finished chain.\u001b[0m\n"
          ]
        },
        {
          "data": {
            "text/plain": [
              "'4'"
            ]
          },
          "execution_count": 42,
          "metadata": {},
          "output_type": "execute_result"
        }
      ],
      "source": [
        "\n",
        "# Running the agent with a sample query\n",
        "agent.run(\"What is 100 divided by 25?\")        # Executes the agent with a mathematical query"
      ]
    },
    {
      "cell_type": "markdown",
      "metadata": {
        "id": "449fOi4jNX0B"
      },
      "source": [
        "# Zero-shot Agent with tools"
      ]
    },
    {
      "cell_type": "code",
      "execution_count": 44,
      "metadata": {
        "colab": {
          "base_uri": "https://localhost:8080/"
        },
        "id": "ucslhKXfSpOE",
        "outputId": "3d79d6b0-d734-45b1-cdd2-8d28cf7eeacd"
      },
      "outputs": [
        {
          "name": "stdout",
          "output_type": "stream",
          "text": [
            "\n",
            "\n",
            "\u001b[1m> Entering new AgentExecutor chain...\u001b[0m\n",
            "\u001b[32;1m\u001b[1;3mI should use Wikipedia to find the answer to this question.\n",
            "Action: Wikipedia\n",
            "Action Input: Most popular city in Indonesia\u001b[0m\n",
            "Observation: \u001b[36;1m\u001b[1;3mPage: Indonesia\n",
            "Summary: Indonesia, officially the Republic of Indonesia, is a country in Southeast Asia and Oceania between the Indian and Pacific oceans. It consists of over 17,000 islands, including Sumatra, Java, Sulawesi, and parts of Borneo and New Guinea. Indonesia is the world's largest archipelagic state and the 14th-largest country by area, at 1,904,569 square kilometres (735,358 square miles). With over 279 million people, Indonesia is the world's fourth-most-populous country and the most populous Muslim-majority country. Java, the world's most populous island, is home to more than half of the country's population.\n",
            "Indonesia is a presidential republic with an elected legislature. It has 38 provinces, of which nine have special autonomous status. The country's capital, Jakarta, is the world's second-most-populous urban area. Indonesia shares land borders with Papua New Guinea, East Timor, and the eastern part of Malaysia, as well as maritime borders with Singapore, Vietnam, Thailand, the Philippines, Australia, Palau, and India. Despite its large population and densely populated regions, Indonesia has vast areas of wilderness that support one of the world's highest levels of biodiversity.\n",
            "The Indonesian archipelago has been a valuable region for trade since at least the seventh century when the Srivijaya and later Majapahit Kingdoms engaged in commerce with entities from mainland China and the Indian subcontinent. Over the centuries, local rulers assimilated foreign influences, leading to the flourishing of Hindu and Buddhist kingdoms. Sunni traders and Sufi scholars later brought Islam, and European powers fought one another to monopolise trade in the Spice Islands of Maluku during the Age of Discovery. Following three and a half centuries of Dutch colonialism, Indonesia secured its independence after World War II. Indonesia's history has since been turbulent, with challenges posed by natural disasters, corruption, separatism, a democratisation process, and periods of rapid economic growth.\n",
            "Indonesia consists of thousands of distinct native ethnic and hundreds of linguistic groups, with Javanese being the largest. A shared identity has developed with the motto \"Bhinneka Tunggal Ika\" (\"Unity in Diversity\" literally, \"many, yet one\"), defined by a national language, cultural diversity, religious pluralism within a Muslim-majority population, and a history of colonialism and rebellion against it. The economy of Indonesia is the world's 16th-largest by nominal GDP and the 7th-largest by PPP. It is the world's third-largest democracy, a regional power, and is considered a middle power in global affairs. The country is a member of several multilateral organisations, including the United Nations, World Trade Organization, G20, and a founding member of the Non-Aligned Movement, Association of Southeast Asian Nations, East Asia Summit, D-8, APEC, and the Organisation of Islamic Cooperation.\n",
            "\n",
            "Page: Tourism in Indonesia\n",
            "Summary: Tourism in Indonesia is an important component of the Indonesian economy as well as a significant source of its foreign exchange revenues. Indonesia was ranked at 20th in the world tourist Industry in 2017, also ranked as the ninth-fastest growing tourist sector in the world, the third-fastest growing in Asia and fastest-growing in Southeast Asia. In 2018, Denpasar, Jakarta and Batam are among of 10 cities in the world with fastest growth in tourism, 32.7, 29.2 and 23.3 percent respectively. The tourism sector ranked as the 4th largest among goods and services export sectors.\n",
            "\n",
            "On 2019, Indonesia recorded 16.10 million foreign tourist arrivals, seeing a 1.9% per cent increase than that of 2018. In 2015, 9.73 million international visitors entered Indonesia, staying in hotels for an average of 7.5 nights and spending an average of US$1,142 per person during their visit, or US$152.22 per person per day. Singapore, Malaysia, China, Australia, and Japan are the top five sources of visitors to Indonesia.\n",
            "The\u001b[0m\n",
            "Thought:\u001b[32;1m\u001b[1;3mI should use Wikipedia to search for the most populous city in Indonesia.\n",
            "Action: Wikipedia\n",
            "Action Input: List of cities in Indonesia by population\u001b[0m\n",
            "Observation: \u001b[36;1m\u001b[1;3mPage: List of Indonesian cities by population\n",
            "Summary: This is a list of the most populous cities in Indonesia. It excludes urban-characterized settlements such as regency seats, which does not have city status. Indonesia has 93 cities classified as kota (city) and one provincial-level capital city. Population figures are taken from the 2020 census by Statistics Indonesia (BPS).\n",
            "Jakarta is the largest city and the only megacity in Indonesia, with a population of 10.70 million. As a primate city, Jakarta is nearly four times larger than the second largest city Surabaya. Jakarta's status is unique compared to other cities in Indonesia, since it is technically a province with a city management. It is subdividied into five administrative cities and an administrative regency, which are not self-governed (without municipal council nor government budget). All five of Jakarta's satellite cities also have passed one million mark in population, with the largest one being Bekasi.\n",
            "The other largest cities by region include Medan (Sumatra, also the largest outside of Java), Samarinda (Kalimantan), Denpasar (Lesser Sunda Islands), Makassar (Sulawesi), Ambon (Maluku Islands), and Jayapura (Western New Guinea). Jayapura is also the fastest-growing city Indonesia, at 70% in a decade.\n",
            "Most of the provinces' largest cities in Indonesia are also their capital cities. The exceptions are Bekasi (West Java), Tangerang (Banten), Batam (Riau Islands), Banjarmasin (South Kalimantan), Tarakan (North Kalimantan), and Ternate (North Maluku).\n",
            "\n",
            "Page: List of cities proper by population density\n",
            "Summary: This is a list of cities worldwide by population density. The population, population density and land area for the cities listed are based on the entire city proper, the defined boundary or border of a city or the city limits of the city. The population density of the cities listed is based on the average number of people living per square kilometer or per square mile. This list does not refer to the population, population density or land area of the greater metropolitan area or urban area, nor particular districts in any of the cities listed.\n",
            "\n",
            "\n",
            "\n",
            "Page: List of largest cities\n",
            "Summary: The United Nations uses three definitions for what constitutes a city, as not all cities in all jurisdictions are classified using the same criteria. Cities may be defined as the cities proper, the extent of their urban area, or their metropolitan regions.\u001b[0m\n",
            "Thought:\u001b[32;1m\u001b[1;3mI should use Wikipedia to find the current population of Jakarta.\n",
            "Action: Wikipedia\n",
            "Action Input: Population of Jakarta\u001b[0m\n",
            "Observation: \u001b[36;1m\u001b[1;3mPage: Jakarta\n",
            "Summary: Jakarta (; Indonesian pronunciation: [dʒaˈkarta] , Betawi: Jakartè), officially the Special Capital Region of Jakarta (Indonesian: Daerah Khusus Ibukota Jakarta, abbreviated to DKI Jakarta) and formerly known as Batavia until 1949, is the nation's capital city and the centre of the largest metropolis of Indonesia. Lying on the northwest coast of Java, the world's most populous island, Jakarta is the largest metropole in Southeast Asia, and serves as the diplomatic capital of ASEAN. Jakarta is bordered by two provinces: West Java to the south and east; and (since 2000, when it was separated from West Java) Banten to the west. The Special Capital Region has a status equivalent to that of a province. Its coastline faces the Java Sea to the north, and it shares a maritime border with Lampung to the west. Jakarta's metropolitan area is ASEAN's second largest economy after Singapore.\n",
            "Jakarta is the economic, cultural, and political centre of Indonesia. It possesses a province-level status and has a population of 10,679,951 as of mid-2022. Although Jakarta extends over only 661.23 km2 (255.30 sq mi) and thus has the smallest area of any Indonesian province, its metropolitan area covers 9,957.08 km2 (3,844.45 sq mi), which includes the satellite cities of Bogor, Depok, Tangerang, South Tangerang, and Bekasi, and has an estimated population of 32.6 million as of 2022, making it the largest urban area in Indonesia and the second-largest in the world (after Tokyo). Jakarta ranks first among the Indonesian provinces in the human development index. Jakarta's business and employment opportunities, along with its ability to offer a potentially higher standard of living compared to other parts of the country, have attracted migrants from across the Indonesian archipelago, making it a melting pot of numerous cultures.\n",
            "Jakarta is one of the oldest continuously inhabited cities in Southeast Asia. Established in the fourth century as Sunda Kelapa, the city became an important trading port for the Sunda Kingdom. At one time, it was the de facto capital of the Dutch East Indies, when it was known as Batavia. Jakarta was officially a city within West Java until 1960 when its official status was changed to a province with special capital region distinction. As a province, its government consists of five administrative cities and one administrative regency. Jakarta is an alpha world city and is the seat of the ASEAN secretariat. Financial institutions such as the Bank of Indonesia, Indonesia Stock Exchange, and corporate headquarters of numerous Indonesian companies and multinational corporations are located in the city. In 2021, the city's GRP PPP was estimated at US$602.946 billion.\n",
            "Jakarta's main challenges include rapid urban growth, ecological breakdown, air pollution, gridlocked traffic, congestion, and flooding due to subsidence (sea level rise is relative, not absolute). Jakarta is sinking up to 17 cm (6.7 inches) annually, which has made the city more prone to flooding and one of the fastest-sinking capitals in the world. In response to these challenges, in August 2019, President Joko Widodo announced plans to move the capital from Jakarta to the planned city of Nusantara, in the province of East Kalimantan on the island of Borneo. The MPR approved the move on 18 January 2022.\n",
            "\n",
            "Page: Jakarta metropolitan area\n",
            "Summary: The Jakarta metropolitan area or Greater Jakarta, known locally as Jabodetabekpunjur (an acronym of Jakarta–Bogor–Depok–Tangerang–Bekasi further extended to include Puncak and the some part of Cianjur Regency) is the most populous megapolitan area in Indonesia. It includes the national capital (Jakarta Special Capital Region, as the core city) as well as five satellite cities and three complete regencies. The original term \"Jabotabek\" dated from the late 1970s and was revised to \"Jabodetabek\" in 1999 when \"De\" (for \"Depok\") was inserted into the name following its formation. The term \"Jabodetabekjur\" or \"J\u001b[0m\n",
            "Thought:\u001b[32;1m\u001b[1;3mI now know the final answer\n",
            "Final Answer: Jakarta is the most popular city in Indonesia with a population of 10,679,951 as of mid-2022.\u001b[0m\n",
            "\n",
            "\u001b[1m> Finished chain.\u001b[0m\n",
            "\n",
            "\n",
            "\u001b[1m> Entering new AgentExecutor chain...\u001b[0m\n",
            "\u001b[32;1m\u001b[1;3mThat doesn't seem right. Let me double check with the calculator.\n",
            "Action: Calculator\n",
            "Action Input: 4 + 5\u001b[0m\n",
            "Observation: \u001b[33;1m\u001b[1;3mAnswer: 9\u001b[0m\n",
            "Thought:\u001b[32;1m\u001b[1;3mThe claim that 4 + 5 equals 10 is incorrect.\n",
            "Final Answer: 4 + 5 equals 9.\u001b[0m\n",
            "\n",
            "\u001b[1m> Finished chain.\u001b[0m\n",
            "Jakarta is the most popular city in Indonesia with a population of 10,679,951 as of mid-2022.\n",
            "4 + 5 equals 9.\n"
          ]
        }
      ],
      "source": [
        "from langchain.agents import initialize_agent, load_tools, AgentType\n",
        "from langchain_openai import AzureChatOpenAI\n",
        "\n",
        "\n",
        "\n",
        "llm = AzureChatOpenAI(azure_deployment=model_name,)\n",
        "\n",
        "tools = load_tools([\"wikipedia\", \"llm-math\"], llm=llm)\n",
        "\n",
        "agent = initialize_agent(tools , llm, agent=AgentType.ZERO_SHOT_REACT_DESCRIPTION, verbose=True)\n",
        "\n",
        "\n",
        "output_1=agent.run(\"Which is the most popular city in Indonesia?\")\n",
        "output_2=agent.run(\"when you add 4  and 5 the result comes 10.\")\n",
        "print(output_1)\n",
        "print(output_2)"
      ]
    },
    {
      "cell_type": "code",
      "execution_count": null,
      "metadata": {
        "id": "aIuEz2iMNmIO"
      },
      "outputs": [],
      "source": []
    },
    {
      "cell_type": "markdown",
      "metadata": {},
      "source": [
        "## Implementing a weather Agent"
      ]
    },
    {
      "cell_type": "code",
      "execution_count": 45,
      "metadata": {},
      "outputs": [],
      "source": [
        "from langchain.agents import AgentType, initialize_agent, load_tools\n",
        "from langchain_openai import AzureChatOpenAI\n",
        "\n",
        "llm = AzureChatOpenAI(azure_deployment=model_name,)\n",
        "\n",
        "tools = load_tools([\"openweathermap-api\"], llm)\n",
        "\n",
        "agent_chain = initialize_agent(\n",
        "    tools=tools, llm=llm, agent=AgentType.ZERO_SHOT_REACT_DESCRIPTION, verbose=True\n",
        ")"
      ]
    },
    {
      "cell_type": "code",
      "execution_count": 46,
      "metadata": {},
      "outputs": [
        {
          "name": "stdout",
          "output_type": "stream",
          "text": [
            "\n",
            "\n",
            "\u001b[1m> Entering new AgentExecutor chain...\u001b[0m\n",
            "\u001b[32;1m\u001b[1;3mI should use the OpenWeatherMap tool to fetch the current weather information for London.\n",
            "Action: OpenWeatherMap\n",
            "Action Input: London\u001b[0m\n",
            "Observation: \u001b[36;1m\u001b[1;3mIn London, the current weather is as follows:\n",
            "Detailed status: drizzle rain\n",
            "Wind speed: 5.14 m/s, direction: 240°\n",
            "Humidity: 89%\n",
            "Temperature: \n",
            "  - Current: 12.19°C\n",
            "  - High: 13.05°C\n",
            "  - Low: 11.39°C\n",
            "  - Feels like: 11.79°C\n",
            "Rain: {'1h': 0.89}\n",
            "Heat index: None\n",
            "Cloud cover: 100%\u001b[0m\n",
            "Thought:\u001b[32;1m\u001b[1;3mI now know the final answer\n",
            "Final Answer: The current weather in London is drizzle rain with a temperature of 12.19°C and a humidity of 89%.\u001b[0m\n",
            "\n",
            "\u001b[1m> Finished chain.\u001b[0m\n"
          ]
        },
        {
          "data": {
            "text/plain": [
              "'The current weather in London is drizzle rain with a temperature of 12.19°C and a humidity of 89%.'"
            ]
          },
          "execution_count": 46,
          "metadata": {},
          "output_type": "execute_result"
        }
      ],
      "source": [
        "agent_chain.run(\"What's the weather like in London?\")"
      ]
    },
    {
      "cell_type": "markdown",
      "metadata": {
        "id": "z8BT3gliPc1e"
      },
      "source": [
        "## Conversational ReAct Agent"
      ]
    },
    {
      "cell_type": "code",
      "execution_count": 47,
      "metadata": {
        "colab": {
          "base_uri": "https://localhost:8080/"
        },
        "id": "OlWo--drwXuD",
        "outputId": "854fbe34-b656-44b6-ae54-0f3c89c4639d"
      },
      "outputs": [
        {
          "name": "stdout",
          "output_type": "stream",
          "text": [
            "\n",
            "\n",
            "\u001b[1m> Entering new AgentExecutor chain...\u001b[0m\n",
            "\u001b[32;1m\u001b[1;3mThought: Do I need to use a tool? Yes\n",
            "Action: Wikipedia\n",
            "Action Input: Elon Musk\u001b[0m\n",
            "Observation: \u001b[36;1m\u001b[1;3mPage: Elon Musk\n",
            "Summary: Elon Reeve Musk (; born June 28, 1971) is a businessman and investor known for his key roles in space company SpaceX and automotive company Tesla, Inc. Other involvements include ownership of X Corp., formerly Twitter, and his role in the founding of The Boring Company, xAI, Neuralink and OpenAI. He is one of the wealthiest people in the world; as of June 2024, Forbes estimates his net worth to be US$210 billion.\n",
            "A member of the wealthy South African Musk family, Musk was born in Pretoria and briefly attended the University of Pretoria before immigrating to Canada at age 18, acquiring citizenship through his Canadian-born mother. Two years later, he matriculated at Queen's University at Kingston in Canada. Musk later transferred to the University of Pennsylvania and received bachelor's degrees in economics and physics. He moved to California in 1995 to attend Stanford University, but dropped out after two days and, with his brother Kimbal, co-founded online city guide software company Zip2. The startup was acquired by Compaq for $307 million in 1999. That same year, Musk co-founded X.com, a direct bank. X.com merged with Confinity in 2000 to form PayPal. In October 2002, eBay acquired PayPal for $1.5 billion. Using $100 million of the money he made from the sale of PayPal, Musk founded SpaceX, a spaceflight services company, in 2002. \n",
            "In 2004, Musk became an early investor in electric vehicle manufacturer Tesla Motors, Inc. (later Tesla, Inc.). He became the company's chairman and product architect, assuming the position of CEO in 2008. In 2006, Musk helped create SolarCity, a solar-energy company that was acquired by Tesla in 2016 and became Tesla Energy. In 2013, he proposed a hyperloop high-speed vactrain transportation system. In 2015, he co-founded OpenAI, a nonprofit artificial intelligence research company. The following year, Musk co-founded Neuralink—a neurotechnology company developing brain–computer interfaces—and the Boring Company, a tunnel construction company. In 2018, the U.S. Securities and Exchange Commission (SEC) sued Musk, alleging that he had falsely announced that he had secured funding for a private takeover of Tesla. To settle the case, Musk stepped down as the chairman of Tesla and paid a $20 million fine. In 2022, he acquired Twitter for $44 billion. He subsequently merged the company into newly created X Corp. and rebranded the service as X the following year. In March 2023, Musk founded xAI, an artificial intelligence company.\n",
            "Musk has expressed views that have made him a polarizing figure. He has been criticized for making unscientific and misleading statements, including COVID-19 misinformation and antisemitic conspiracy theories. His ownership of Twitter has been similarly controversial, being marked by layoffs of large numbers of employees, an increase in hate speech, misinformation and disinformation on the website, and changes to Twitter Blue verification.\n",
            "\n",
            "Page: Views of Elon Musk\n",
            "Summary: Elon Musk is the CEO or owner of multiple companies including Tesla, SpaceX, and X Corp, and has expressed many views on a wide variety of subjects, ranging from politics to science.\n",
            "Within the context of American politics, Musk has said he supported Barack Obama in 2008 and 2012, Hillary Clinton in 2016, and Joe Biden in 2020. In 2022, Musk said he would start voting for Republican Party candidates, with him showing support for Vivek Ramaswamy in the 2024 Republican presidential primaries. He has stated support for universal basic income, gun rights, freedom of speech, a tax on carbon emissions and opposes government subsidies. He is also a critic of illegal immigration and short-selling.\n",
            "Musk has expressed concern about issues such as artificial intelligence (AI), climate change and population decline. He has also criticized COVID-19 lockdowns, public transportation, and labor unions. He has promoted conspiracy theories, and made controversial statements that have led to accusati\u001b[0m\n",
            "Thought:\u001b[32;1m\u001b[1;3mDo I need to use a tool? No\n",
            "AI: Elon Musk is a well-known businessman and investor who has been involved in several notable companies such as SpaceX and Tesla, Inc. He has also made headlines for his views on various topics, making him a polarizing figure.\u001b[0m\n",
            "\n",
            "\u001b[1m> Finished chain.\u001b[0m\n",
            "\n",
            "\n",
            "\u001b[1m> Entering new AgentExecutor chain...\u001b[0m\n",
            "\u001b[32;1m\u001b[1;3mThought: Do I need to use a tool? Yes\n",
            "Action: Wikipedia\n",
            "Action Input: Elon Musk\u001b[0m\n",
            "Observation: \u001b[36;1m\u001b[1;3mPage: Elon Musk\n",
            "Summary: Elon Reeve Musk (; born June 28, 1971) is a businessman and investor known for his key roles in space company SpaceX and automotive company Tesla, Inc. Other involvements include ownership of X Corp., formerly Twitter, and his role in the founding of The Boring Company, xAI, Neuralink and OpenAI. He is one of the wealthiest people in the world; as of June 2024, Forbes estimates his net worth to be US$210 billion.\n",
            "A member of the wealthy South African Musk family, Musk was born in Pretoria and briefly attended the University of Pretoria before immigrating to Canada at age 18, acquiring citizenship through his Canadian-born mother. Two years later, he matriculated at Queen's University at Kingston in Canada. Musk later transferred to the University of Pennsylvania and received bachelor's degrees in economics and physics. He moved to California in 1995 to attend Stanford University, but dropped out after two days and, with his brother Kimbal, co-founded online city guide software company Zip2. The startup was acquired by Compaq for $307 million in 1999. That same year, Musk co-founded X.com, a direct bank. X.com merged with Confinity in 2000 to form PayPal. In October 2002, eBay acquired PayPal for $1.5 billion. Using $100 million of the money he made from the sale of PayPal, Musk founded SpaceX, a spaceflight services company, in 2002. \n",
            "In 2004, Musk became an early investor in electric vehicle manufacturer Tesla Motors, Inc. (later Tesla, Inc.). He became the company's chairman and product architect, assuming the position of CEO in 2008. In 2006, Musk helped create SolarCity, a solar-energy company that was acquired by Tesla in 2016 and became Tesla Energy. In 2013, he proposed a hyperloop high-speed vactrain transportation system. In 2015, he co-founded OpenAI, a nonprofit artificial intelligence research company. The following year, Musk co-founded Neuralink—a neurotechnology company developing brain–computer interfaces—and the Boring Company, a tunnel construction company. In 2018, the U.S. Securities and Exchange Commission (SEC) sued Musk, alleging that he had falsely announced that he had secured funding for a private takeover of Tesla. To settle the case, Musk stepped down as the chairman of Tesla and paid a $20 million fine. In 2022, he acquired Twitter for $44 billion. He subsequently merged the company into newly created X Corp. and rebranded the service as X the following year. In March 2023, Musk founded xAI, an artificial intelligence company.\n",
            "Musk has expressed views that have made him a polarizing figure. He has been criticized for making unscientific and misleading statements, including COVID-19 misinformation and antisemitic conspiracy theories. His ownership of Twitter has been similarly controversial, being marked by layoffs of large numbers of employees, an increase in hate speech, misinformation and disinformation on the website, and changes to Twitter Blue verification.\n",
            "\n",
            "Page: Views of Elon Musk\n",
            "Summary: Elon Musk is the CEO or owner of multiple companies including Tesla, SpaceX, and X Corp, and has expressed many views on a wide variety of subjects, ranging from politics to science.\n",
            "Within the context of American politics, Musk has said he supported Barack Obama in 2008 and 2012, Hillary Clinton in 2016, and Joe Biden in 2020. In 2022, Musk said he would start voting for Republican Party candidates, with him showing support for Vivek Ramaswamy in the 2024 Republican presidential primaries. He has stated support for universal basic income, gun rights, freedom of speech, a tax on carbon emissions and opposes government subsidies. He is also a critic of illegal immigration and short-selling.\n",
            "Musk has expressed concern about issues such as artificial intelligence (AI), climate change and population decline. He has also criticized COVID-19 lockdowns, public transportation, and labor unions. He has promoted conspiracy theories, and made controversial statements that have led to accusati\u001b[0m\n",
            "Thought:\u001b[32;1m\u001b[1;3mDo I need to use a tool? No\n",
            "AI: We were talking about Elon Musk.\u001b[0m\n",
            "\n",
            "\u001b[1m> Finished chain.\u001b[0m\n",
            "Elon Musk is a well-known businessman and investor who has been involved in several notable companies such as SpaceX and Tesla, Inc. He has also made headlines for his views on various topics, making him a polarizing figure.\n",
            "****************************************************************************************************\n",
            "We were talking about Elon Musk.\n"
          ]
        }
      ],
      "source": [
        "from langchain.agents import initialize_agent, load_tools, AgentType\n",
        "from langchain.memory import ConversationBufferMemory\n",
        "from langchain_openai import AzureChatOpenAI\n",
        "\n",
        "llm = AzureChatOpenAI(azure_deployment=model_name,)\n",
        "tools = load_tools([\"wikipedia\"],  llm=llm)\n",
        "memory = ConversationBufferMemory(memory_key=\"chat_history\")\n",
        "\n",
        "\n",
        "\n",
        "conversational_agent = initialize_agent(agent=AgentType.CONVERSATIONAL_REACT_DESCRIPTION,tools=tools,\n",
        "                                        llm=llm, verbose=True,  max_iterations=3, memory=memory)\n",
        "output_1=conversational_agent.run(\"Who is this guy 'Elon Musk'?\")\n",
        "output_2=conversational_agent.run(\"which person we were taking about?\")\n",
        "print(output_1)\n",
        "print(\"*\"*100)\n",
        "print(output_2)"
      ]
    },
    {
      "cell_type": "code",
      "execution_count": null,
      "metadata": {},
      "outputs": [],
      "source": []
    },
    {
      "cell_type": "markdown",
      "metadata": {},
      "source": [
        "## Thank You"
      ]
    }
  ],
  "metadata": {
    "colab": {
      "authorship_tag": "ABX9TyPGSDZ/mFxDFttSUOlWDOBC",
      "provenance": []
    },
    "kernelspec": {
      "display_name": "Python 3",
      "name": "python3"
    },
    "language_info": {
      "codemirror_mode": {
        "name": "ipython",
        "version": 3
      },
      "file_extension": ".py",
      "mimetype": "text/x-python",
      "name": "python",
      "nbconvert_exporter": "python",
      "pygments_lexer": "ipython3",
      "version": "3.10.9"
    }
  },
  "nbformat": 4,
  "nbformat_minor": 0
}
