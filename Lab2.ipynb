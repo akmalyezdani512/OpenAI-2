{
  "nbformat": 4,
  "nbformat_minor": 0,
  "metadata": {
    "colab": {
      "provenance": [],
      "authorship_tag": "ABX9TyO/wF/LIyXRBsdrrS63D0R2"
    },
    "kernelspec": {
      "name": "python3",
      "display_name": "Python 3"
    },
    "language_info": {
      "name": "python"
    }
  },
  "cells": [
    {
      "cell_type": "markdown",
      "source": [
        "# Understanding LangChain Agents and Chains"
      ],
      "metadata": {
        "id": "jQUfh4Aqtf5E"
      }
    },
    {
      "cell_type": "markdown",
      "source": [
        "## Chains\n",
        "\n",
        "Chains refer to sequences of calls - whether to an LLM, a tool, or a data preprocessing step. The primary supported way to do this is with LCEL.\n",
        "\n",
        "## Agents\n",
        "\n",
        "Agents can be thought of as the chain responsible for deciding what step to take next. This is usually powered by a language model, a prompt, and an output parser.\n",
        "\n",
        "Different agents have different prompting styles for reasoning, different ways of encoding inputs, and different ways of parsing the output. For a full list of built-in agents see agent types. You can also easily b\n",
        "\n",
        "\n",
        "## Chains v/s Agents\n",
        "\n",
        "The core idea of agents is to use a language model to choose a sequence of actions to take. In chains, a sequence of actions is hardcoded (in code). In agents, a language model is used as a reasoning engine to determine which actions to take and in which order.\n",
        "\n",
        "\n"
      ],
      "metadata": {
        "id": "kEpb9rD2tmhf"
      }
    },
    {
      "cell_type": "code",
      "source": [
        "# Installing necessary libraries\n",
        "!pip install langchain-openai --quiet\n",
        "!pip install langchain langchain-experimental --quiet\n",
        "!pip install huggingface_hub openai google-search-results tiktoken wikipedia pyowm --quiet"
      ],
      "metadata": {
        "id": "jLDTOetMVUxG",
        "colab": {
          "base_uri": "https://localhost:8080/"
        },
        "outputId": "59fb5d39-c1e8-42bd-ea13-5647cb42924a"
      },
      "execution_count": 1,
      "outputs": [
        {
          "output_type": "stream",
          "name": "stdout",
          "text": [
            "\u001b[2K     \u001b[90m━━━━━━━━━━━━━━━━━━━━━━━━━━━━━━━━━━━━━━━━\u001b[0m \u001b[32m310.4/310.4 kB\u001b[0m \u001b[31m7.7 MB/s\u001b[0m eta \u001b[36m0:00:00\u001b[0m\n",
            "\u001b[2K     \u001b[90m━━━━━━━━━━━━━━━━━━━━━━━━━━━━━━━━━━━━━━━━\u001b[0m \u001b[32m324.1/324.1 kB\u001b[0m \u001b[31m10.5 MB/s\u001b[0m eta \u001b[36m0:00:00\u001b[0m\n",
            "\u001b[2K     \u001b[90m━━━━━━━━━━━━━━━━━━━━━━━━━━━━━━━━━━━━━━━━\u001b[0m \u001b[32m1.1/1.1 MB\u001b[0m \u001b[31m17.4 MB/s\u001b[0m eta \u001b[36m0:00:00\u001b[0m\n",
            "\u001b[2K     \u001b[90m━━━━━━━━━━━━━━━━━━━━━━━━━━━━━━━━━━━━━━━━\u001b[0m \u001b[32m124.7/124.7 kB\u001b[0m \u001b[31m9.5 MB/s\u001b[0m eta \u001b[36m0:00:00\u001b[0m\n",
            "\u001b[2K     \u001b[90m━━━━━━━━━━━━━━━━━━━━━━━━━━━━━━━━━━━━━━━━\u001b[0m \u001b[32m53.0/53.0 kB\u001b[0m \u001b[31m5.5 MB/s\u001b[0m eta \u001b[36m0:00:00\u001b[0m\n",
            "\u001b[2K     \u001b[90m━━━━━━━━━━━━━━━━━━━━━━━━━━━━━━━━━━━━━━━━\u001b[0m \u001b[32m75.6/75.6 kB\u001b[0m \u001b[31m7.9 MB/s\u001b[0m eta \u001b[36m0:00:00\u001b[0m\n",
            "\u001b[2K     \u001b[90m━━━━━━━━━━━━━━━━━━━━━━━━━━━━━━━━━━━━━━━━\u001b[0m \u001b[32m77.9/77.9 kB\u001b[0m \u001b[31m8.4 MB/s\u001b[0m eta \u001b[36m0:00:00\u001b[0m\n",
            "\u001b[2K     \u001b[90m━━━━━━━━━━━━━━━━━━━━━━━━━━━━━━━━━━━━━━━━\u001b[0m \u001b[32m58.3/58.3 kB\u001b[0m \u001b[31m6.5 MB/s\u001b[0m eta \u001b[36m0:00:00\u001b[0m\n",
            "\u001b[2K     \u001b[90m━━━━━━━━━━━━━━━━━━━━━━━━━━━━━━━━━━━━━━━━\u001b[0m \u001b[32m142.5/142.5 kB\u001b[0m \u001b[31m10.1 MB/s\u001b[0m eta \u001b[36m0:00:00\u001b[0m\n",
            "\u001b[2K     \u001b[90m━━━━━━━━━━━━━━━━━━━━━━━━━━━━━━━━━━━━━━━━\u001b[0m \u001b[32m973.6/973.6 kB\u001b[0m \u001b[31m9.4 MB/s\u001b[0m eta \u001b[36m0:00:00\u001b[0m\n",
            "\u001b[2K     \u001b[90m━━━━━━━━━━━━━━━━━━━━━━━━━━━━━━━━━━━━━━━━\u001b[0m \u001b[32m199.7/199.7 kB\u001b[0m \u001b[31m12.2 MB/s\u001b[0m eta \u001b[36m0:00:00\u001b[0m\n",
            "\u001b[2K     \u001b[90m━━━━━━━━━━━━━━━━━━━━━━━━━━━━━━━━━━━━━━━━\u001b[0m \u001b[32m2.2/2.2 MB\u001b[0m \u001b[31m22.8 MB/s\u001b[0m eta \u001b[36m0:00:00\u001b[0m\n",
            "\u001b[2K     \u001b[90m━━━━━━━━━━━━━━━━━━━━━━━━━━━━━━━━━━━━━━━━\u001b[0m \u001b[32m49.3/49.3 kB\u001b[0m \u001b[31m5.1 MB/s\u001b[0m eta \u001b[36m0:00:00\u001b[0m\n",
            "\u001b[?25h  Preparing metadata (setup.py) ... \u001b[?25l\u001b[?25hdone\n",
            "  Preparing metadata (setup.py) ... \u001b[?25l\u001b[?25hdone\n",
            "\u001b[2K     \u001b[90m━━━━━━━━━━━━━━━━━━━━━━━━━━━━━━━━━━━━━━━━\u001b[0m \u001b[32m4.5/4.5 MB\u001b[0m \u001b[31m20.4 MB/s\u001b[0m eta \u001b[36m0:00:00\u001b[0m\n",
            "\u001b[?25h  Building wheel for google-search-results (setup.py) ... \u001b[?25l\u001b[?25hdone\n",
            "  Building wheel for wikipedia (setup.py) ... \u001b[?25l\u001b[?25hdone\n"
          ]
        }
      ]
    },
    {
      "cell_type": "markdown",
      "source": [
        "# Chains with LangChain"
      ],
      "metadata": {
        "id": "RA32XR5ZL6Fk"
      }
    },
    {
      "cell_type": "markdown",
      "source": [
        "# OWM Integration"
      ],
      "metadata": {
        "id": "u513qSbvP2Xn"
      }
    },
    {
      "cell_type": "code",
      "source": [
        "api_key = \"ab04f53b99c24c5c9e685db41d110bb6\"\n",
        "api_version = \"2023-12-01-preview\" # \"2023-05-15\" OR \"2023-12-01-preview\"\n",
        "azure_endpoint = \"https://anshuopenai24.openai.azure.com/\"\n",
        "model_name = \"gpt-35-turbo\""
      ],
      "metadata": {
        "id": "B6rwTMQtBloB"
      },
      "execution_count": 1,
      "outputs": []
    },
    {
      "cell_type": "code",
      "source": [
        "import os\n",
        "\n",
        "os.environ[\"OPENAI_API_VERSION\"] = api_version\n",
        "os.environ[\"AZURE_OPENAI_ENDPOINT\"] = azure_endpoint\n",
        "os.environ[\"AZURE_OPENAI_API_KEY\"] = api_key\n",
        "os.environ[\"OPENWEATHERMAP_API_KEY\"] = \"29af1cea50a401d8e624eea4660b3f59\""
      ],
      "metadata": {
        "id": "zXTTa9eAP8UF"
      },
      "execution_count": 2,
      "outputs": []
    },
    {
      "cell_type": "code",
      "source": [
        "from langchain.agents import AgentType, initialize_agent, load_tools\n",
        "from langchain_openai import AzureOpenAI\n",
        "\n",
        "# Create an instance of Azure OpenAI\n",
        "# Replace the deployment name with your own\n",
        "llm = AzureOpenAI(deployment_name=model_name)\n",
        "\n",
        "tools = load_tools([\"openweathermap-api\"], llm)\n",
        "\n",
        "agent_chain = initialize_agent(\n",
        "    tools=tools, llm=llm, agent=AgentType.ZERO_SHOT_REACT_DESCRIPTION, verbose=True\n",
        ")"
      ],
      "metadata": {
        "id": "dfkMX2aoP13E",
        "outputId": "2760ee1a-9432-42d2-9d96-c6524f4abc1d",
        "colab": {
          "base_uri": "https://localhost:8080/"
        }
      },
      "execution_count": 3,
      "outputs": [
        {
          "output_type": "stream",
          "name": "stderr",
          "text": [
            "/usr/local/lib/python3.10/dist-packages/langchain_core/_api/deprecation.py:119: LangChainDeprecationWarning: The function `initialize_agent` was deprecated in LangChain 0.1.0 and will be removed in 0.3.0. Use Use new agent constructor methods like create_react_agent, create_json_agent, create_structured_chat_agent, etc. instead.\n",
            "  warn_deprecated(\n"
          ]
        }
      ]
    },
    {
      "cell_type": "code",
      "source": [],
      "metadata": {
        "id": "r9htoIQPkpT-"
      },
      "execution_count": 3,
      "outputs": []
    },
    {
      "cell_type": "code",
      "source": [
        "agent_chain.run(\"What's the weather like in London?\")"
      ],
      "metadata": {
        "id": "o9bUx4B4P1ot"
      },
      "execution_count": null,
      "outputs": []
    },
    {
      "cell_type": "markdown",
      "source": [
        "# Database Integration"
      ],
      "metadata": {
        "id": "9gThTfZTQIXL"
      }
    },
    {
      "cell_type": "markdown",
      "source": [
        "Chains refer to sequences of calls - whether to an LLM, a tool, or a data preprocessing step.\n",
        "\n",
        "\n"
      ],
      "metadata": {
        "id": "tqsT1t4jL9dH"
      }
    },
    {
      "cell_type": "code",
      "source": [
        "from langchain_openai import AzureOpenAI\n",
        "from langchain.utilities import SQLDatabase\n",
        "from langchain_experimental.sql import SQLDatabaseChain\n",
        "\n",
        "\n",
        "db = SQLDatabase.from_uri(\"sqlite:///chinook.db\")\n",
        "llm = AzureOpenAI(deployment_name=model_name)\n",
        "db_chain = SQLDatabaseChain.from_llm(llm, db, verbose=True)"
      ],
      "metadata": {
        "id": "pFlIaq31j0Gc"
      },
      "execution_count": null,
      "outputs": []
    },
    {
      "cell_type": "code",
      "source": [
        "db_chain.run(\"How many employees are there?\")"
      ],
      "metadata": {
        "colab": {
          "base_uri": "https://localhost:8080/",
          "height": 233
        },
        "id": "8TRBSriVnEYk",
        "outputId": "167a692e-ea4b-4b8e-efe8-bc18540753d1"
      },
      "execution_count": null,
      "outputs": [
        {
          "output_type": "stream",
          "name": "stderr",
          "text": [
            "/usr/local/lib/python3.10/dist-packages/langchain_core/_api/deprecation.py:117: LangChainDeprecationWarning: The function `run` was deprecated in LangChain 0.1.0 and will be removed in 0.2.0. Use invoke instead.\n",
            "  warn_deprecated(\n"
          ]
        },
        {
          "output_type": "stream",
          "name": "stdout",
          "text": [
            "\n",
            "\n",
            "\u001b[1m> Entering new SQLDatabaseChain chain...\u001b[0m\n",
            "How many employees are there?\n",
            "SQLQuery:\u001b[32;1m\u001b[1;3mSELECT COUNT(*) FROM employees\u001b[0m\n",
            "SQLResult: \u001b[33;1m\u001b[1;3m[(8,)]\u001b[0m\n",
            "Answer:\u001b[32;1m\u001b[1;3m8\u001b[0m\n",
            "\u001b[1m> Finished chain.\u001b[0m\n"
          ]
        },
        {
          "output_type": "execute_result",
          "data": {
            "text/plain": [
              "'8'"
            ],
            "application/vnd.google.colaboratory.intrinsic+json": {
              "type": "string"
            }
          },
          "metadata": {},
          "execution_count": 16
        }
      ]
    },
    {
      "cell_type": "markdown",
      "source": [
        "# LangChain AI Agents\n",
        "\n",
        "The core idea of agents is to use a language model to choose a sequence of actions to take. In chains, a sequence of actions is hardcoded (in code). In agents, a language model is used as a reasoning engine to determine which actions to take and in which order.\n",
        "\n"
      ],
      "metadata": {
        "id": "bf2mcCyktE_n"
      }
    },
    {
      "cell_type": "markdown",
      "source": [
        "## Creating a sample LangChain Agent"
      ],
      "metadata": {
        "id": "f8y6smgCtM3L"
      }
    },
    {
      "cell_type": "markdown",
      "source": [
        "# Zero-Shot ReAct Agent"
      ],
      "metadata": {
        "id": "L98VX6TNuYnV"
      }
    },
    {
      "cell_type": "code",
      "source": [
        "# Importing necessary modules for the agent\n",
        "from langchain.agents import load_tools      # Imports the load_tools function for loading various tools in the langchain package\n",
        "from langchain_openai import AzureOpenAI      # Imports the ChatOpenAI class to interact with OpenAI's models\n"
      ],
      "metadata": {
        "id": "jbllamVrVenI"
      },
      "execution_count": null,
      "outputs": []
    },
    {
      "cell_type": "code",
      "source": [
        "# Initializing a Language Model (LLM) instance\n",
        "llm = AzureOpenAI(deployment_name=model_name)"
      ],
      "metadata": {
        "id": "TX4vDjJIVhLQ"
      },
      "execution_count": null,
      "outputs": []
    },
    {
      "cell_type": "code",
      "source": [
        "# Loading specific tools for the agent\n",
        "tool_names = [\"llm-math\"]                    # Lists the tools to be loaded, here it's 'llm-math' for mathematical operations\n",
        "tools = load_tools(tool_names, llm=llm)      # Loads the specified tools and associates them with the initialized LLM\n"
      ],
      "metadata": {
        "id": "q9J3WmWNVjvX"
      },
      "execution_count": null,
      "outputs": []
    },
    {
      "cell_type": "code",
      "source": [
        "# Defining a tool for the agent\n",
        "from langchain.agents import Tool            # Imports the Tool class from langchain.agents\n",
        "tool_list = [Tool(name=\"Math Tool\",          # Names the tool as \"Math Tool\"\n",
        "                  func=tools[0].run,         # Assigns the function to run the first tool in the tools list\n",
        "                  description=\"Tool to calculate, nothing else\")]  # Description of the tool\n"
      ],
      "metadata": {
        "id": "Yf4r0o5FVlA4"
      },
      "execution_count": null,
      "outputs": []
    },
    {
      "cell_type": "code",
      "source": [
        "# Initializing the LangChain Agent\n",
        "from langchain.agents import initialize_agent  # Imports the initialize_agent function\n",
        "agent = initialize_agent(tool_list,            # Provides the list of tools\n",
        "                         llm,                  # Provides the initialized LLM\n",
        "                         agent=\"zero-shot-react-description\",  # Specifies the agent type\n",
        "                         verbose=True)         # Enables verbose output for detailed information\n"
      ],
      "metadata": {
        "id": "9JZlk7mjVoLm",
        "colab": {
          "base_uri": "https://localhost:8080/"
        },
        "outputId": "fff93cf7-8781-4524-f114-5738908ff2b6"
      },
      "execution_count": null,
      "outputs": [
        {
          "output_type": "stream",
          "name": "stderr",
          "text": [
            "/usr/local/lib/python3.10/dist-packages/langchain_core/_api/deprecation.py:117: LangChainDeprecationWarning: The function `initialize_agent` was deprecated in LangChain 0.1.0 and will be removed in 0.2.0. Use Use new agent constructor methods like create_react_agent, create_json_agent, create_structured_chat_agent, etc. instead.\n",
            "  warn_deprecated(\n"
          ]
        }
      ]
    },
    {
      "cell_type": "code",
      "source": [
        "\n",
        "# Running the agent with a sample query\n",
        "agent.run(\"What is 100 divided by 25?\")        # Executes the agent with a mathematical query"
      ],
      "metadata": {
        "colab": {
          "base_uri": "https://localhost:8080/",
          "height": 230
        },
        "id": "l_iwolCDSwGH",
        "outputId": "18ab4ddc-8d88-43a5-f639-27c2f9a937ad"
      },
      "execution_count": null,
      "outputs": [
        {
          "output_type": "stream",
          "name": "stdout",
          "text": [
            "\n",
            "\n",
            "\u001b[1m> Entering new AgentExecutor chain...\u001b[0m\n",
            "\u001b[32;1m\u001b[1;3mI can use the Math Tool to calculate the division.\n",
            "Action: Math Tool\n",
            "Action Input: 100 divided by 25\u001b[0m\n",
            "Observation: \u001b[36;1m\u001b[1;3mAnswer: 4.0\u001b[0m\n",
            "Thought:\u001b[32;1m\u001b[1;3mI now know the final answer\n",
            "Final Answer: 4.0\u001b[0m\n",
            "\n",
            "\u001b[1m> Finished chain.\u001b[0m\n"
          ]
        },
        {
          "output_type": "execute_result",
          "data": {
            "text/plain": [
              "'4.0'"
            ],
            "application/vnd.google.colaboratory.intrinsic+json": {
              "type": "string"
            }
          },
          "metadata": {},
          "execution_count": 22
        }
      ]
    },
    {
      "cell_type": "markdown",
      "source": [
        "# Zero-shot Agent with tools"
      ],
      "metadata": {
        "id": "449fOi4jNX0B"
      }
    },
    {
      "cell_type": "code",
      "source": [
        "from langchain.agents import initialize_agent, load_tools, AgentType\n",
        "from langchain_openai import AzureOpenAI\n",
        "llm = AzureOpenAI(deployment_name=model_name)\n",
        "tools = load_tools([\"wikipedia\", \"llm-math\"], llm=llm)\n",
        "agent = initialize_agent(tools , llm, agent=AgentType.ZERO_SHOT_REACT_DESCRIPTION, verbose=True)\n",
        "output_1=agent.run(\"Which is the most popular city in Indonesia?\")\n",
        "output_2=agent.run(\"when you add 4  and 5 the result comes 10.\")\n",
        "print(output_1)\n",
        "print(output_2)"
      ],
      "metadata": {
        "id": "ucslhKXfSpOE",
        "colab": {
          "base_uri": "https://localhost:8080/"
        },
        "outputId": "3d79d6b0-d734-45b1-cdd2-8d28cf7eeacd"
      },
      "execution_count": null,
      "outputs": [
        {
          "output_type": "stream",
          "name": "stdout",
          "text": [
            "\n",
            "\n",
            "\u001b[1m> Entering new AgentExecutor chain...\u001b[0m\n",
            "\u001b[32;1m\u001b[1;3mI should use Wikipedia to find the answer to this question.\n",
            "Action: wikipedia\n",
            "Action Input: Most popular city in Indonesia\u001b[0m\n",
            "Observation: \u001b[36;1m\u001b[1;3mPage: Indonesia\n",
            "Summary: Indonesia, officially the Republic of Indonesia, is a country in Southeast Asia and Oceania between the Indian and Pacific oceans. It consists of over 17,000 islands, including Sumatra, Java, Sulawesi, and parts of Borneo and New Guinea. Indonesia is the world's largest island country and the 14th-largest country by area, at 1,904,569 square kilometres (735,358 square miles). With over 279 million people, Indonesia is the world's fourth-most populous country and the most populous Muslim-majority country. Java, the world's most populous island, is home to more than half of the country's population.\n",
            "Indonesia is a presidential republic with an elected legislature. It has 38 provinces, of which nine have special autonomous status. The country's capital, Jakarta, is the world's second-most populous urban area. Indonesia shares land borders with Papua New Guinea, East Timor, and the eastern part of Malaysia, as well as maritime borders with Singapore, Vietnam, Thailand, the Philippines, Australia, Palau, and India. Despite its large population and densely populated regions, Indonesia has vast areas of wilderness with the world's second-highest levels of biodiversity after Brazil.\n",
            "The Indonesian archipelago has been a valuable region for trade since at least the seventh century when the Srivijaya and later Majapahit Kingdoms traded with entities from mainland China and the Indian subcontinent. Local rulers gradually absorbed foreign influences from the early centuries, and Hindu and Buddhist kingdoms flourished. Sunni traders and Sufi scholars later brought Islam, and European powers fought one another to monopolise trade in the Spice Islands of Maluku during the Age of Discovery. Following three and a half centuries of Dutch colonialism, Indonesia secured its independence after World War II. Indonesia's history has since been turbulent, with challenges posed by natural disasters, corruption, separatism, a democratisation process, and periods of rapid economic growth.\n",
            "Indonesia consists of thousands of distinct native ethnic and hundreds of linguistic groups, with Javanese being the largest. A shared identity has developed with the motto \"Bhinneka Tunggal Ika\" (\"Unity in Diversity\" literally, \"many, yet one\"), defined by a national language, cultural diversity, religious pluralism within a Muslim-majority population, and a history of colonialism and rebellion against it. The economy of Indonesia is the world's 16th-largest by nominal GDP and the 7th-largest by PPP. It is the world's third-largest democracy, a regional power, and is considered a middle power in global affairs. The country is a member of several multilateral organisations, including the United Nations, World Trade Organization, G20, and a founding member of the Non-Aligned Movement, Association of Southeast Asian Nations, East Asia Summit, D-8, and the Organisation of Islamic Cooperation.\n",
            "\n",
            "Page: Tourism in Indonesia\n",
            "Summary: Tourism in Indonesia is an important component of the Indonesian economy as well as a significant source of its foreign exchange revenues. Indonesia was ranked at 20th in the world tourist Industry in 2017, also ranked as the ninth-fastest growing tourist sector in the world, the third-fastest growing in Asia and fastest-growing in Southeast Asia. In 2018, Denpasar, Jakarta and Batam are among of 10 cities in the world with fastest growth in tourism, 32.7, 29.2 and 23.3 percent respectively. The tourism sector ranked as the 4th largest among goods and services export sectors.\n",
            "On 2019, Indonesia recorded 16.10 million foreign tourist arrivals, seeing a 1.9% per cent increase than that of 2018. In 2015, 9.73 million international visitors entered Indonesia, staying in hotels for an average of 7.5 nights and spending an average of US$1,142 per person during their visit, or US$152.22 per person per day. Singapore, Malaysia, China, Australia, and Japan are the top five sources of visitors to Indonesia.\n",
            "The Travel and Tourism Co\u001b[0m\n",
            "Thought:\u001b[32;1m\u001b[1;3mI have found the answer to the question. \n",
            "Final Answer: Jakarta is the most popular city in Indonesia.\u001b[0m\n",
            "\n",
            "\u001b[1m> Finished chain.\u001b[0m\n",
            "\n",
            "\n",
            "\u001b[1m> Entering new AgentExecutor chain...\u001b[0m\n",
            "\u001b[32;1m\u001b[1;3mThis statement seems incorrect. I should verify the addition.\n",
            "Action: Calculator\n",
            "Action Input: 4 + 5\u001b[0m\n",
            "Observation: \u001b[33;1m\u001b[1;3mAnswer: 9\u001b[0m\n",
            "Thought:\u001b[32;1m\u001b[1;3mThe statement is incorrect. The result of adding 4 and 5 is 9, not 10.\n",
            "Final Answer: The result of adding 4 and 5 is 9.\u001b[0m\n",
            "\n",
            "\u001b[1m> Finished chain.\u001b[0m\n",
            "Jakarta is the most popular city in Indonesia.\n",
            "The result of adding 4 and 5 is 9.\n"
          ]
        }
      ]
    },
    {
      "cell_type": "code",
      "source": [],
      "metadata": {
        "id": "aIuEz2iMNmIO"
      },
      "execution_count": null,
      "outputs": []
    },
    {
      "cell_type": "markdown",
      "source": [
        "## COnversational ReAct Agent"
      ],
      "metadata": {
        "id": "z8BT3gliPc1e"
      }
    },
    {
      "cell_type": "code",
      "execution_count": null,
      "metadata": {
        "id": "OlWo--drwXuD",
        "outputId": "854fbe34-b656-44b6-ae54-0f3c89c4639d",
        "colab": {
          "base_uri": "https://localhost:8080/"
        }
      },
      "outputs": [
        {
          "output_type": "stream",
          "name": "stdout",
          "text": [
            "\n",
            "\n",
            "\u001b[1m> Entering new AgentExecutor chain...\u001b[0m\n",
            "\u001b[32;1m\u001b[1;3m```\n",
            "Thought: Do I need to use a tool? Yes\n",
            "Action: wikipedia\n",
            "Action Input: Elon Musk\n",
            "```\u001b[0m\n",
            "Observation: \u001b[36;1m\u001b[1;3mPage: Elon Musk\n",
            "Summary: Elon Reeve Musk (; EE-lon; born June 28, 1971) is a businessman and investor. He is the founder, chairman, CEO, and CTO of SpaceX; angel investor, CEO, product architect, and former chairman of Tesla, Inc.; owner, chairman, and CTO of X Corp.; founder of the Boring Company and xAI; co-founder of Neuralink and OpenAI; and president of the Musk Foundation. He is the second wealthiest person in the world, with an estimated net worth of US$232 billion as of December 2023, according to the Bloomberg Billionaires Index, and $182.6  billion according to Forbes, primarily from his ownership stakes in Tesla and SpaceX.A member of the wealthy South African Musk family, Elon was born in Pretoria and briefly attended the University of Pretoria before immigrating to Canada at age 18, acquiring citizenship through his Canadian-born mother. Two years later, he matriculated at Queen's University at Kingston in Canada. Musk later transferred to the University of Pennsylvania, and received bachelor's degrees in economics and physics. He moved to California in 1995 to attend Stanford University, but dropped out after two days and, with his brother Kimbal, co-founded online city guide software company Zip2. The startup was acquired by Compaq for $307 million in 1999, and, that same year Musk co-founded X.com, a direct bank. X.com merged with Confinity in 2000 to form PayPal.\n",
            "In October 2002, eBay acquired PayPal for $1.5 billion, and that same year, with $100 million of the money he made, Musk founded SpaceX, a spaceflight services company. In 2004, he became an early investor in electric vehicle manufacturer Tesla Motors, Inc. (now Tesla, Inc.). He became its chairman and product architect, assuming the position of CEO in 2008. In 2006, Musk helped create SolarCity, a solar-energy company that was acquired by Tesla in 2016 and became Tesla Energy. In 2013, he proposed a hyperloop high-speed vactrain transportation system. In 2015, he co-founded OpenAI, a nonprofit artificial intelligence research company. The following year, Musk co-founded Neuralink—a neurotechnology company developing brain–computer interfaces—and the Boring Company, a tunnel construction company. In 2022, he acquired Twitter for $44 billion. He subsequently merged the company into newly created X Corp. and rebranded the service as X the following year. In March 2023, he founded xAI, an artificial intelligence company.\n",
            "Musk has expressed views that have made him a polarizing figure. He has been criticized for making unscientific and misleading statements, including COVID-19 misinformation and antisemitic conspiracy theories. His ownership of Twitter has been similarly controversial, being marked by the laying off of a large number of employees, an increase in hate speech and misinformation and disinformation on the website, as well as changes to Twitter Blue verification. In 2018, the U.S. Securities and Exchange Commission (SEC) sued him, alleging that he had falsely announced that he had secured funding for a private takeover of Tesla. To settle the case, Musk stepped down as the chairman of Tesla and paid a $20 million fine.\n",
            "\n",
            "\n",
            "\n",
            "Page: Twitter under Elon Musk\n",
            "Summary: Elon Musk completed his acquisition of Twitter in October 2022; Musk acted as CEO of Twitter until June 2023 when he was succeeded by Linda Yaccarino. Twitter was then rebranded to X in July 2023. Initially during Musk's tenure, Twitter introduced a series of reforms and management changes; the company reinstated a number of previously banned accounts, reduced the workforce by approximately 80%, closed one of Twitter's three data centers, and largely eliminated the content moderation team, replacing it with the crowd-sourced fact-checking system Community Notes.\n",
            "In November 2022, Twitter then began offering paid verification checkmarks, followed by removing legacy verification. In December, the Twitter Files were released and a number of journalists suspended from the platform. The follo\u001b[0m\n",
            "Thought:\u001b[32;1m\u001b[1;3mDo I need to use a tool? No\n",
            "AI: Elon Reeve Musk is a prominent businessman and investor known for his role in founding, leading, and investing in several high-profile technology companies. Born on June 28, 1971, Musk has been involved in a series of entrepreneurial ventures:\n",
            "\n",
            "- He is the founder, chairman, CEO, and CTO of SpaceX, a company that designs, manufactures, and launches advanced rockets and spacecraft.\n",
            "- Musk is also the CEO, product architect, and former chairman of Tesla, Inc., a company that specializes in electric vehicles, battery energy storage, and solar panel manufacturing.\n",
            "- He is the owner, chairman, and CTO of X Corp.\n",
            "- Musk founded The Boring Company, which focuses on tunnel construction and infrastructure.\n",
            "- He co-founded Neuralink, a neurotechnology company working on brain-computer interfaces.\n",
            "- Musk is a co-founder of OpenAI, the organization behind the AI model you're currently interacting with.\n",
            "- He also founded xAI, an artificial intelligence company, in March 2023.\n",
            "\n",
            "Musk acquired Twitter in 2022 for $44 billion and later merged the company into X Corp., rebranding the service as X. His tenure at Twitter has been marked by significant changes and controversies, including layoffs, changes to content moderation, and the introduction of paid verification checkmarks.\n",
            "\n",
            "He is known for his ambitious vision of the future, including space exploration, sustainable energy, and advanced AI. However, Musk has also been a polarizing figure due to his public statements and actions, which have sometimes sparked criticism and controversy. As of December 2023, he is considered the second wealthiest person in the world.\u001b[0m\n",
            "\n",
            "\u001b[1m> Finished chain.\u001b[0m\n",
            "\n",
            "\n",
            "\u001b[1m> Entering new AgentExecutor chain...\u001b[0m\n",
            "\u001b[32;1m\u001b[1;3m```\n",
            "Thought: Do I need to use a tool? No\n",
            "AI: We were talking about Elon Musk, the entrepreneur and business magnate known for his involvement with companies such as SpaceX, Tesla, Inc., The Boring Company, Neuralink, OpenAI, and xAI. He also acquired and rebranded Twitter into X Corp.\n",
            "```\u001b[0m\n",
            "\n",
            "\u001b[1m> Finished chain.\u001b[0m\n",
            "Elon Reeve Musk is a prominent businessman and investor known for his role in founding, leading, and investing in several high-profile technology companies. Born on June 28, 1971, Musk has been involved in a series of entrepreneurial ventures:\n",
            "\n",
            "- He is the founder, chairman, CEO, and CTO of SpaceX, a company that designs, manufactures, and launches advanced rockets and spacecraft.\n",
            "- Musk is also the CEO, product architect, and former chairman of Tesla, Inc., a company that specializes in electric vehicles, battery energy storage, and solar panel manufacturing.\n",
            "- He is the owner, chairman, and CTO of X Corp.\n",
            "- Musk founded The Boring Company, which focuses on tunnel construction and infrastructure.\n",
            "- He co-founded Neuralink, a neurotechnology company working on brain-computer interfaces.\n",
            "- Musk is a co-founder of OpenAI, the organization behind the AI model you're currently interacting with.\n",
            "- He also founded xAI, an artificial intelligence company, in March 2023.\n",
            "\n",
            "Musk acquired Twitter in 2022 for $44 billion and later merged the company into X Corp., rebranding the service as X. His tenure at Twitter has been marked by significant changes and controversies, including layoffs, changes to content moderation, and the introduction of paid verification checkmarks.\n",
            "\n",
            "He is known for his ambitious vision of the future, including space exploration, sustainable energy, and advanced AI. However, Musk has also been a polarizing figure due to his public statements and actions, which have sometimes sparked criticism and controversy. As of December 2023, he is considered the second wealthiest person in the world.\n",
            "****************************************************************************************************\n",
            "We were talking about Elon Musk, the entrepreneur and business magnate known for his involvement with companies such as SpaceX, Tesla, Inc., The Boring Company, Neuralink, OpenAI, and xAI. He also acquired and rebranded Twitter into X Corp.\n",
            "```\n"
          ]
        }
      ],
      "source": [
        "from langchain.agents import initialize_agent, load_tools, AgentType\n",
        "from langchain.memory import ConversationBufferMemory\n",
        "from langchain_openai import AzureOpenAI\n",
        "\n",
        "llm = AzureOpenAI(deployment_name=model_name)\n",
        "tools = load_tools([\"wikipedia\"],  llm=llm)\n",
        "memory = ConversationBufferMemory(memory_key=\"chat_history\")\n",
        "\n",
        "conversational_agent = initialize_agent(agent=AgentType.CONVERSATIONAL_REACT_DESCRIPTION,tools=tools,\n",
        "                                        llm=llm, verbose=True,  max_iterations=3, memory=memory)\n",
        "output_1=conversational_agent.run(\"Who is this guy 'Elon Musk'?\")\n",
        "output_2=conversational_agent.run(\"which person we were taking about?\")\n",
        "print(output_1)\n",
        "print(\"*\"*100)\n",
        "print(output_2)"
      ]
    }
  ]
}